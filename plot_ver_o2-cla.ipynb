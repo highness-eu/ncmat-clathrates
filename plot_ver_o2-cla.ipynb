{
 "cells": [
  {
   "cell_type": "code",
   "execution_count": 1,
   "metadata": {},
   "outputs": [],
   "source": [
    "#Uncomment if needed:\n",
    "#%pip install ncrystal git+https://github.com/highness-eu/ncmat-clathrates plotly kaleido"
   ]
  },
  {
   "cell_type": "code",
   "execution_count": 2,
   "metadata": {},
   "outputs": [],
   "source": [
    "import NCrystal as NC\n",
    "import numpy as np\n",
    "from plotly.subplots import make_subplots\n",
    "import plotly.graph_objects as go"
   ]
  },
  {
   "cell_type": "code",
   "execution_count": 3,
   "metadata": {},
   "outputs": [],
   "source": [
    "T = 2 # temperature "
   ]
  },
  {
   "cell_type": "code",
   "execution_count": 4,
   "metadata": {},
   "outputs": [],
   "source": [
    "wavelength = np.linspace(0.01, 25, 1000)\n",
    "E = NC.wl2ekin(wavelength)"
   ]
  },
  {
   "cell_type": "code",
   "execution_count": 5,
   "metadata": {
    "tags": []
   },
   "outputs": [],
   "source": [
    "nc_O2   = 'plugins::MagScat/O2_pdos_hydrogenated_O2-hydrate_mag.ncmat'\n",
    "nc_cla  = 'plugins::ClathrateHydrateData/HighNESS_1088H2O_192O2_sg1_ClathrateHydrate-sII.ncmat'\n",
    "nc_ept  = 'plugins::ClathrateHydrateData/HighNESS_1088H2O_sg1_EmptyClathrateHydrate-sII.ncmat'\n",
    "nc_comb = 'plugins::ClathrateHydrateData/HighNESS_1088H2O_192O2_sg1_ClathrateHydrate-sII_mag.ncmat'"
   ]
  },
  {
   "cell_type": "code",
   "execution_count": 6,
   "metadata": {},
   "outputs": [
    {
     "name": "stdout",
     "output_type": "stream",
     "text": [
      "NCrystal WARNING: Loading NCMAT data which has @CUSTOM_ section(s). This is OK if intended.\n",
      "2\n"
     ]
    },
    {
     "data": {
      "text/plain": [
       "36036.385139129285"
      ]
     },
     "execution_count": 6,
     "metadata": {},
     "output_type": "execute_result"
    }
   ],
   "source": [
    "O2info = NC.createInfo(nc_O2+';temp={}K'.format(T))\n",
    "print(O2info.getAtomInfo()[0].count.as_integer_ratio()[0])\n",
    "O2V = 192 * O2info.getAtomInfo()[0].count.as_integer_ratio()[0] * O2info.getAtomInfo()[0].atomData.averageMassAMU() / O2info.density\n",
    "O2V"
   ]
  },
  {
   "cell_type": "code",
   "execution_count": 7,
   "metadata": {},
   "outputs": [
    {
     "name": "stdout",
     "output_type": "stream",
     "text": [
      "H(cohSL=-3.739fm cohXS=1.75679barn incXS=80.26barn absXS=0.3326barn mass=1.00798amu Z=1)\n",
      "2176 1.007975973752\n",
      "O(cohSL=5.803fm cohXS=4.2317barn incXS=0.0008barn absXS=0.00019barn mass=15.9993amu Z=8)\n",
      "1088 15.999304712099\n"
     ]
    },
    {
     "data": {
      "text/plain": [
       "24832.45414970311"
      ]
     },
     "execution_count": 7,
     "metadata": {},
     "output_type": "execute_result"
    }
   ],
   "source": [
    "eptinfo = NC.createInfo(nc_ept+';temp={}K'.format(T))\n",
    "Mtot = 0\n",
    "for i in range(len(eptinfo.getAtomInfo())):\n",
    "    print(eptinfo.getAtomInfo()[i].atomData.description())\n",
    "    N = eptinfo.getAtomInfo()[i].count.as_integer_ratio()[0]\n",
    "    M = eptinfo.getAtomInfo()[i].atomData.averageMassAMU()\n",
    "    print(N, M)\n",
    "    Mtot += N * M\n",
    "eptV = Mtot / eptinfo.density\n",
    "eptV"
   ]
  },
  {
   "cell_type": "code",
   "execution_count": 8,
   "metadata": {},
   "outputs": [
    {
     "data": {
      "text/plain": [
       "0.5920333878576337"
      ]
     },
     "execution_count": 8,
     "metadata": {},
     "output_type": "execute_result"
    }
   ],
   "source": [
    "vf_O2 = O2V / (eptV + O2V)\n",
    "vf_O2"
   ]
  },
  {
   "cell_type": "code",
   "execution_count": 9,
   "metadata": {},
   "outputs": [
    {
     "data": {
      "text/plain": [
       "0.4079666121423663"
      ]
     },
     "execution_count": 9,
     "metadata": {},
     "output_type": "execute_result"
    }
   ],
   "source": [
    "vf_ept = 1 - vf_O2\n",
    "vf_ept"
   ]
  },
  {
   "cell_type": "code",
   "execution_count": 10,
   "metadata": {},
   "outputs": [
    {
     "name": "stdout",
     "output_type": "stream",
     "text": [
      "NCrystal WARNING: Discarding 197 edges of provided kernel data due to missing S values.\n",
      "NCrystal WARNING: Discarding 185 edges of provided kernel data due to missing S values.\n",
      "NCrystal WARNING: Discarding 190 edges of provided kernel data due to missing S values.\n",
      "NCrystal WARNING: Discarding 185 edges of provided kernel data due to missing S values.\n",
      "NCrystal WARNING: Discarding 190 edges of provided kernel data due to missing S values.\n",
      "NCrystal WARNING: Discarding 197 edges of provided kernel data due to missing S values.\n",
      "NCrystal WARNING: Loading NCMAT data which has @CUSTOM_ section(s). This is OK if intended.\n",
      "NCrystal WARNING: Discarding 185 edges of provided kernel data due to missing S values.\n",
      "NCrystal WARNING: Discarding 190 edges of provided kernel data due to missing S values.\n",
      "NCrystal WARNING: Discarding 197 edges of provided kernel data due to missing S values.\n"
     ]
    }
   ],
   "source": [
    "O2    = NC.createScatter(nc_O2+f';coh_elas=0;temp={T}K')\n",
    "ept   = NC.createScatter(nc_ept+f';temp={T}K')\n",
    "cla   = NC.createScatter(nc_cla+f';temp={T}K')\n",
    "comb  = NC.createScatter(nc_comb+f';temp={T}K')\n",
    "\n",
    "xs_O2   = O2.xsect(E)\n",
    "xs_ept  = ept.xsect(E)\n",
    "xs_cla  = cla.xsect(E)\n",
    "xs_comb = comb.xsect(E)"
   ]
  },
  {
   "cell_type": "code",
   "execution_count": 11,
   "metadata": {},
   "outputs": [
    {
     "data": {
      "image/svg+xml": [
       "<svg class=\"main-svg\" xmlns=\"http://www.w3.org/2000/svg\" xmlns:xlink=\"http://www.w3.org/1999/xlink\" width=\"700\" height=\"600\" style=\"\" viewBox=\"0 0 700 600\"><rect x=\"0\" y=\"0\" width=\"700\" height=\"600\" style=\"fill: rgb(255, 255, 255); fill-opacity: 1;\"/><defs id=\"defs-f89a5e\"><g class=\"clips\"><clipPath id=\"clipf89a5exyplot\" class=\"plotclip\"><rect width=\"598\" height=\"499\"/></clipPath><clipPath class=\"axesclip\" id=\"clipf89a5ex\"><rect x=\"80\" y=\"0\" width=\"598\" height=\"600\"/></clipPath><clipPath class=\"axesclip\" id=\"clipf89a5ey\"><rect x=\"0\" y=\"20\" width=\"700\" height=\"499\"/></clipPath><clipPath class=\"axesclip\" id=\"clipf89a5exy\"><rect x=\"80\" y=\"20\" width=\"598\" height=\"499\"/></clipPath></g><g class=\"gradients\"/><g class=\"patterns\"/></defs><g class=\"bglayer\"><rect class=\"bg\" x=\"80\" y=\"20\" width=\"598\" height=\"499\" style=\"fill: rgb(0, 0, 0); fill-opacity: 0; stroke-width: 0;\"/></g><g class=\"layer-below\"><g class=\"imagelayer\"/><g class=\"shapelayer\"/></g><g class=\"cartesianlayer\"><g class=\"subplot xy\"><g class=\"layer-subplot\"><g class=\"shapelayer\"/><g class=\"imagelayer\"/></g><g class=\"minor-gridlayer\"><g class=\"x\"/><g class=\"y\"/></g><g class=\"gridlayer\"><g class=\"x\"><path class=\"xgrid crisp\" transform=\"translate(199.41,0)\" d=\"M0,20v499\" style=\"stroke: rgb(128, 128, 128); stroke-opacity: 1; stroke-width: 0.5px;\"/><path class=\"xgrid crisp\" transform=\"translate(319.06,0)\" d=\"M0,20v499\" style=\"stroke: rgb(128, 128, 128); stroke-opacity: 1; stroke-width: 0.5px;\"/><path class=\"xgrid crisp\" transform=\"translate(438.7,0)\" d=\"M0,20v499\" style=\"stroke: rgb(128, 128, 128); stroke-opacity: 1; stroke-width: 0.5px;\"/><path class=\"xgrid crisp\" transform=\"translate(558.35,0)\" d=\"M0,20v499\" style=\"stroke: rgb(128, 128, 128); stroke-opacity: 1; stroke-width: 0.5px;\"/></g><g class=\"y\"><path class=\"ygrid crisp\" transform=\"translate(0,412.74)\" d=\"M80,0h598\" style=\"stroke: rgb(128, 128, 128); stroke-opacity: 1; stroke-width: 0.5px;\"/><path class=\"ygrid crisp\" transform=\"translate(0,327.89)\" d=\"M80,0h598\" style=\"stroke: rgb(128, 128, 128); stroke-opacity: 1; stroke-width: 0.5px;\"/><path class=\"ygrid crisp\" transform=\"translate(0,243.05)\" d=\"M80,0h598\" style=\"stroke: rgb(128, 128, 128); stroke-opacity: 1; stroke-width: 0.5px;\"/><path class=\"ygrid crisp\" transform=\"translate(0,158.21)\" d=\"M80,0h598\" style=\"stroke: rgb(128, 128, 128); stroke-opacity: 1; stroke-width: 0.5px;\"/><path class=\"ygrid crisp\" transform=\"translate(0,73.37)\" d=\"M80,0h598\" style=\"stroke: rgb(128, 128, 128); stroke-opacity: 1; stroke-width: 0.5px;\"/></g></g><g class=\"zerolinelayer\"><path class=\"yzl zl crisp\" transform=\"translate(0,497.58)\" d=\"M80,0h598\" style=\"stroke: rgb(255, 255, 255); stroke-opacity: 1; stroke-width: 2px;\"/></g><g class=\"layer-between\"><g class=\"shapelayer\"/><g class=\"imagelayer\"/></g><path class=\"xlines-below\"/><path class=\"ylines-below\"/><g class=\"overlines-below\"/><g class=\"xaxislayer-below\"/><g class=\"yaxislayer-below\"/><g class=\"overaxes-below\"/><g class=\"overplot\"><g class=\"xy\" transform=\"translate(80,20)\" clip-path=\"url(#clipf89a5exyplot)\"><g class=\"scatterlayer mlayer\"><g class=\"trace scatter trace3ecc08\" style=\"stroke-miterlimit: 2; opacity: 1;\"><g class=\"fills\"/><g class=\"errorbars\"/><g class=\"lines\"><path class=\"js-line\" d=\"M0,445.8L10.18,446.69L10.77,446.81L20.95,449.33L21.55,449.56L33.52,455.13L34.12,455.43L49.68,462.14L50.28,462.34L61.66,465.41L62.25,465.53L75.42,467.44L76.02,467.5L92.78,468.15L93.38,468.15L117.92,467.4L118.52,467.37L187.96,464.63L188.56,464.62L240.64,464.49L241.24,464.5L287.33,466.03L287.93,466.06L317.86,468.33L318.45,468.39L336.41,471.19L337.01,471.34L341.2,472.97L341.8,473.54L343,474.05L343.6,474.04L502.82,473.29L503.42,473.28L598,472.86\" style=\"vector-effect: none; fill: none; stroke: rgb(99, 110, 250); stroke-opacity: 1; stroke-width: 2px; opacity: 1;\"/></g><g class=\"points\"/><g class=\"text\"/></g><g class=\"trace scatter traced1daf6\" style=\"stroke-miterlimit: 2; opacity: 1;\"><g class=\"fills\"/><g class=\"errorbars\"/><g class=\"lines\"><path class=\"js-line\" d=\"M0,351.08L2.39,350.36L2.99,349.99L5.99,346.87L6.58,345.9L9.58,339.77L10.18,337.51L17.96,302.15L18.56,297.96L20.35,288.7L20.95,287.35L23.94,283.52L24.54,282.93L26.94,275.54L27.54,271.05L33.52,225.71L34.12,221.84L40.11,188.55L40.7,185.52L47.89,153.32L48.49,150.97L55.67,126.06L56.27,124.27L64.05,103.5L64.65,102.14L72.43,85.88L73.03,85.27L80.81,72.24L81.41,71.66L89.19,60.69L89.79,59.88L90.39,60.66L90.99,63.59L92.18,62.26L92.78,62.92L95.18,60.45L95.78,62.09L96.97,61.07L97.57,65.91L100.56,63.55L101.16,64.44L116.13,55.78L116.73,55.52L125.71,51.34L126.3,51.28L137.08,47.34L137.68,47.19L148.45,44.35L149.05,44.19L166.41,40.31L167.01,40.19L193.95,35.98L194.54,35.9L232.26,32.22L232.85,32.17L286.73,29.28L287.33,29.26L327.43,27.99L328.03,27.98L389.69,26.67L390.29,26.66L502.82,25.5L503.42,25.5L574.65,25.06L575.25,25.06L598,24.95\" style=\"vector-effect: none; fill: none; stroke: rgb(239, 85, 59); stroke-opacity: 1; stroke-width: 2px; opacity: 1;\"/></g><g class=\"points\"/><g class=\"text\"/></g><g class=\"trace scatter trace29293a\" style=\"stroke-miterlimit: 2; opacity: 1;\"><g class=\"fills\"/><g class=\"errorbars\"/><g class=\"lines\"><path class=\"js-line\" d=\"M0,361.05L2.99,360.08L3.59,359.67L6.58,356.44L7.18,355.47L9.58,350.97L10.18,348.95L17.96,317.37L18.56,313.63L20.35,305.37L20.95,304.17L23.94,300.81L24.54,300.29L26.94,293.73L27.54,289.72L33.52,249.28L34.12,245.82L40.11,216.11L40.7,213.4L47.89,184.58L48.49,182.47L55.67,160.04L56.27,158.42L64.05,139.54L64.65,138.29L72.43,123.45L73.03,122.83L81.41,110.18L82.01,109.29L89.79,99.09L90.39,100.02L90.99,103.69L91.59,103.06L92.18,102.49L92.78,103.74L93.38,103.19L95.18,101.56L95.78,102.68L96.97,101.74L97.57,105.64L100.56,103.42L101.16,104.02L120.32,93.09L120.92,92.79L133.49,87.54L134.09,87.35L139.47,85.44L140.07,86.32L145.46,84.58L146.06,85.32L158.63,81.82L159.23,82.64L182.57,77.95L183.17,77.83L207.12,74.51L207.71,74.42L231.06,71.27L231.66,71.2L238.24,70.38L238.84,72.72L249.02,71.67L249.62,76.7L290.92,74.65L291.52,74.62L292.71,75.93L293.31,75.91L366.94,74.19L367.54,74.18L477.08,73.09L477.68,73.09L547.12,72.68L547.72,72.68L598,72.47\" style=\"vector-effect: none; fill: none; stroke: rgb(0, 204, 150); stroke-opacity: 1; stroke-width: 2px; opacity: 1;\"/></g><g class=\"points\"/><g class=\"text\"/></g><g class=\"trace scatter traceda7272\" style=\"stroke-miterlimit: 2; opacity: 1;\"><g class=\"fills\"/><g class=\"errorbars\"/><g class=\"lines\"><path class=\"js-line\" d=\"M0,361.05L2.99,360.09L3.59,359.67L6.58,356.46L7.18,355.5L9.58,351.02L10.18,349L17.96,317.54L18.56,313.81L20.35,305.59L20.95,304.4L23.94,301.1L24.54,300.6L26.94,294.11L27.54,290.11L33.52,249.86L34.12,246.42L40.11,216.94L40.7,214.26L47.89,185.76L48.49,183.68L55.67,161.63L56.27,160.04L64.05,141.64L64.65,140.44L72.43,126.01L73.03,125.47L80.81,113.88L81.41,113.37L89.19,103.57L89.79,102.85L90.39,103.55L90.99,106.17L92.18,104.99L92.78,105.57L95.18,103.36L95.78,104.83L96.97,103.91L97.57,108.25L100.56,106.13L101.16,106.93L116.13,99.12L116.73,98.88L126.3,95.04L126.9,94.8L140.67,90.74L141.27,90.57L161.02,86.03L161.62,85.91L195.74,80.88L196.34,80.82L225.07,78.21L225.67,78.17L254.4,76.52L255,76.49L301.69,74.9L302.29,74.89L471.1,72.78L471.7,72.78L537.54,72.41L538.14,72.41L598,72.1\" style=\"vector-effect: none; fill: none; stroke: rgb(171, 99, 250); stroke-opacity: 1; stroke-width: 2px; opacity: 1;\"/></g><g class=\"points\"/><g class=\"text\"/></g><g class=\"trace scatter trace81b646\" style=\"stroke-miterlimit: 2; opacity: 1;\"><g class=\"fills\"/><g class=\"errorbars\"/><g class=\"lines\"><path class=\"js-line\" d=\"M0,361.05L2.99,360.09L3.59,359.67L6.58,356.46L7.18,355.5L9.58,351.02L10.18,349L17.96,317.54L18.56,313.81L20.35,305.59L20.95,304.4L23.94,301.1L24.54,300.6L26.94,294.11L27.54,290.11L33.52,249.86L34.12,246.42L40.11,216.94L40.7,214.26L47.89,185.76L48.49,183.68L55.67,161.63L56.27,160.04L64.05,141.64L64.65,140.44L72.43,126.01L73.03,125.47L80.81,113.88L81.41,113.37L89.19,103.57L89.79,102.85L90.39,103.55L90.99,106.17L92.18,104.99L92.78,105.57L95.18,103.36L95.78,104.83L96.97,103.91L97.57,108.25L100.56,106.13L101.16,106.93L116.13,99.12L116.73,98.88L126.3,95.04L126.9,94.8L140.67,90.74L141.27,90.57L161.02,86.03L161.62,85.91L195.74,80.88L196.34,80.82L225.07,78.21L225.67,78.17L254.4,76.52L255,76.49L301.69,74.9L302.29,74.89L471.1,72.78L471.7,72.78L537.54,72.41L538.14,72.41L598,72.1\" style=\"vector-effect: none; fill: none; stroke: rgb(255, 161, 90); stroke-opacity: 1; stroke-dasharray: 9px, 9px; stroke-width: 2px; opacity: 1;\"/></g><g class=\"points\"/><g class=\"text\"/></g></g></g></g><path class=\"xlines-above crisp\" d=\"M79,519.5H679M79,19.5H679\" style=\"fill: none; stroke-width: 1px; stroke: rgb(0, 0, 0); stroke-opacity: 1;\"/><path class=\"ylines-above crisp\" d=\"M79.5,20V519M678.5,20V519\" style=\"fill: none; stroke-width: 1px; stroke: rgb(0, 0, 0); stroke-opacity: 1;\"/><g class=\"overlines-above\"/><g class=\"xaxislayer-above\"><path class=\"xtick ticks crisp\" d=\"M0,520v5\" transform=\"translate(199.41,0)\" style=\"stroke: rgb(68, 68, 68); stroke-opacity: 1; stroke-width: 1px;\"/><path class=\"xtick ticks crisp\" d=\"M0,520v5\" transform=\"translate(319.06,0)\" style=\"stroke: rgb(68, 68, 68); stroke-opacity: 1; stroke-width: 1px;\"/><path class=\"xtick ticks crisp\" d=\"M0,520v5\" transform=\"translate(438.7,0)\" style=\"stroke: rgb(68, 68, 68); stroke-opacity: 1; stroke-width: 1px;\"/><path class=\"xtick ticks crisp\" d=\"M0,520v5\" transform=\"translate(558.35,0)\" style=\"stroke: rgb(68, 68, 68); stroke-opacity: 1; stroke-width: 1px;\"/><path class=\"xtick ticks crisp\" d=\"M0,520v5\" transform=\"translate(678,0)\" style=\"stroke: rgb(68, 68, 68); stroke-opacity: 1; stroke-width: 1px;\"/><g class=\"xtick\"><text text-anchor=\"middle\" x=\"0\" y=\"549\" transform=\"translate(199.41,0)\" style=\"font-family: 'Times new roman'; font-size: 20px; fill: rgb(42, 63, 95); fill-opacity: 1; white-space: pre; opacity: 1;\">5</text></g><g class=\"xtick\"><text text-anchor=\"middle\" x=\"0\" y=\"549\" style=\"font-family: 'Times new roman'; font-size: 20px; fill: rgb(42, 63, 95); fill-opacity: 1; white-space: pre; opacity: 1;\" transform=\"translate(319.06,0)\">10</text></g><g class=\"xtick\"><text text-anchor=\"middle\" x=\"0\" y=\"549\" style=\"font-family: 'Times new roman'; font-size: 20px; fill: rgb(42, 63, 95); fill-opacity: 1; white-space: pre; opacity: 1;\" transform=\"translate(438.7,0)\">15</text></g><g class=\"xtick\"><text text-anchor=\"middle\" x=\"0\" y=\"549\" style=\"font-family: 'Times new roman'; font-size: 20px; fill: rgb(42, 63, 95); fill-opacity: 1; white-space: pre; opacity: 1;\" transform=\"translate(558.35,0)\">20</text></g><g class=\"xtick\"><text text-anchor=\"middle\" x=\"0\" y=\"549\" style=\"font-family: 'Times new roman'; font-size: 20px; fill: rgb(42, 63, 95); fill-opacity: 1; white-space: pre; opacity: 1;\" transform=\"translate(678,0)\">25</text></g></g><g class=\"yaxislayer-above\"><path class=\"ytick ticks crisp\" d=\"M79,0h-5\" transform=\"translate(0,497.58)\" style=\"stroke: rgb(68, 68, 68); stroke-opacity: 1; stroke-width: 1px;\"/><path class=\"ytick ticks crisp\" d=\"M79,0h-5\" transform=\"translate(0,412.74)\" style=\"stroke: rgb(68, 68, 68); stroke-opacity: 1; stroke-width: 1px;\"/><path class=\"ytick ticks crisp\" d=\"M79,0h-5\" transform=\"translate(0,327.89)\" style=\"stroke: rgb(68, 68, 68); stroke-opacity: 1; stroke-width: 1px;\"/><path class=\"ytick ticks crisp\" d=\"M79,0h-5\" transform=\"translate(0,243.05)\" style=\"stroke: rgb(68, 68, 68); stroke-opacity: 1; stroke-width: 1px;\"/><path class=\"ytick ticks crisp\" d=\"M79,0h-5\" transform=\"translate(0,158.21)\" style=\"stroke: rgb(68, 68, 68); stroke-opacity: 1; stroke-width: 1px;\"/><path class=\"ytick ticks crisp\" d=\"M79,0h-5\" transform=\"translate(0,73.37)\" style=\"stroke: rgb(68, 68, 68); stroke-opacity: 1; stroke-width: 1px;\"/><g class=\"ytick\"><text text-anchor=\"end\" x=\"70\" y=\"7\" transform=\"translate(0,497.58)\" style=\"font-family: 'Times new roman'; font-size: 20px; fill: rgb(42, 63, 95); fill-opacity: 1; white-space: pre; opacity: 1;\">0</text></g><g class=\"ytick\"><text text-anchor=\"end\" x=\"70\" y=\"7\" style=\"font-family: 'Times new roman'; font-size: 20px; fill: rgb(42, 63, 95); fill-opacity: 1; white-space: pre; opacity: 1;\" transform=\"translate(0,412.74)\">10</text></g><g class=\"ytick\"><text text-anchor=\"end\" x=\"70\" y=\"7\" style=\"font-family: 'Times new roman'; font-size: 20px; fill: rgb(42, 63, 95); fill-opacity: 1; white-space: pre; opacity: 1;\" transform=\"translate(0,327.89)\">20</text></g><g class=\"ytick\"><text text-anchor=\"end\" x=\"70\" y=\"7\" style=\"font-family: 'Times new roman'; font-size: 20px; fill: rgb(42, 63, 95); fill-opacity: 1; white-space: pre; opacity: 1;\" transform=\"translate(0,243.05)\">30</text></g><g class=\"ytick\"><text text-anchor=\"end\" x=\"70\" y=\"7\" style=\"font-family: 'Times new roman'; font-size: 20px; fill: rgb(42, 63, 95); fill-opacity: 1; white-space: pre; opacity: 1;\" transform=\"translate(0,158.21)\">40</text></g><g class=\"ytick\"><text text-anchor=\"end\" x=\"70\" y=\"7\" style=\"font-family: 'Times new roman'; font-size: 20px; fill: rgb(42, 63, 95); fill-opacity: 1; white-space: pre; opacity: 1;\" transform=\"translate(0,73.37)\">50</text></g></g><g class=\"overaxes-above\"/></g></g><g class=\"polarlayer\"/><g class=\"smithlayer\"/><g class=\"ternarylayer\"/><g class=\"geolayer\"/><g class=\"funnelarealayer\"/><g class=\"pielayer\"/><g class=\"iciclelayer\"/><g class=\"treemaplayer\"/><g class=\"sunburstlayer\"/><g class=\"glimages\"/><defs id=\"topdefs-f89a5e\"><g class=\"clips\"/><clipPath id=\"legendf89a5e\"><rect width=\"157\" height=\"142\" x=\"1\" y=\"1\"/></clipPath></defs><g class=\"layer-above\"><g class=\"imagelayer\"/><g class=\"shapelayer\"/></g><g class=\"infolayer\"><g class=\"legend\" pointer-events=\"all\" transform=\"translate(498.59999999999997,300.15)\"><rect class=\"bg\" shape-rendering=\"crispEdges\" style=\"stroke: rgb(0, 0, 0); stroke-opacity: 1; fill: rgb(255, 255, 255); fill-opacity: 1; stroke-width: 1px;\" width=\"158\" height=\"143\" x=\"0.5\" y=\"0.5\"/><g class=\"scrollbox\" transform=\"\" clip-path=\"url(#legendf89a5e)\"><g class=\"groups\"><g class=\"traces\" transform=\"translate(1,19.200000000000003)\" style=\"opacity: 1;\"><text class=\"legendtext\" text-anchor=\"start\" x=\"40\" y=\"7.0200000000000005\" style=\"font-family: 'Times new roman'; font-size: 18px; fill: rgb(42, 63, 95); fill-opacity: 1; white-space: pre;\">O2</text><g class=\"layers\" style=\"opacity: 1;\"><g class=\"legendfill\"/><g class=\"legendlines\"><path class=\"js-line\" d=\"M5,0h30\" style=\"fill: none; stroke: rgb(99, 110, 250); stroke-opacity: 1; stroke-width: 2px;\"/></g><g class=\"legendsymbols\"><g class=\"legendpoints\"/></g></g><rect class=\"legendtoggle\" x=\"0\" y=\"-13.200000000000001\" width=\"151.46875\" height=\"26.400000000000002\" style=\"fill: rgb(0, 0, 0); fill-opacity: 0;\"/></g><g class=\"traces\" transform=\"translate(1,45.6)\" style=\"opacity: 1;\"><text class=\"legendtext\" text-anchor=\"start\" x=\"40\" y=\"7.0200000000000005\" style=\"font-family: 'Times new roman'; font-size: 18px; fill: rgb(42, 63, 95); fill-opacity: 1; white-space: pre;\">empty clathrate</text><g class=\"layers\" style=\"opacity: 1;\"><g class=\"legendfill\"/><g class=\"legendlines\"><path class=\"js-line\" d=\"M5,0h30\" style=\"fill: none; stroke: rgb(239, 85, 59); stroke-opacity: 1; stroke-width: 2px;\"/></g><g class=\"legendsymbols\"><g class=\"legendpoints\"/></g></g><rect class=\"legendtoggle\" x=\"0\" y=\"-13.200000000000001\" width=\"151.46875\" height=\"26.400000000000002\" style=\"fill: rgb(0, 0, 0); fill-opacity: 0;\"/></g><g class=\"traces\" transform=\"translate(1,72)\" style=\"opacity: 1;\"><text class=\"legendtext\" text-anchor=\"start\" x=\"40\" y=\"7.0200000000000005\" style=\"font-family: 'Times new roman'; font-size: 18px; fill: rgb(42, 63, 95); fill-opacity: 1; white-space: pre;\">O2-hydrate</text><g class=\"layers\" style=\"opacity: 1;\"><g class=\"legendfill\"/><g class=\"legendlines\"><path class=\"js-line\" d=\"M5,0h30\" style=\"fill: none; stroke: rgb(0, 204, 150); stroke-opacity: 1; stroke-width: 2px;\"/></g><g class=\"legendsymbols\"><g class=\"legendpoints\"/></g></g><rect class=\"legendtoggle\" x=\"0\" y=\"-13.200000000000001\" width=\"151.46875\" height=\"26.400000000000002\" style=\"fill: rgb(0, 0, 0); fill-opacity: 0;\"/></g><g class=\"traces\" transform=\"translate(1,98.4)\" style=\"opacity: 1;\"><text class=\"legendtext\" text-anchor=\"start\" x=\"40\" y=\"7.0200000000000005\" style=\"font-family: 'Times new roman'; font-size: 18px; fill: rgb(42, 63, 95); fill-opacity: 1; white-space: pre;\">Combined</text><g class=\"layers\" style=\"opacity: 1;\"><g class=\"legendfill\"/><g class=\"legendlines\"><path class=\"js-line\" d=\"M5,0h30\" style=\"fill: none; stroke: rgb(171, 99, 250); stroke-opacity: 1; stroke-width: 2px;\"/></g><g class=\"legendsymbols\"><g class=\"legendpoints\"/></g></g><rect class=\"legendtoggle\" x=\"0\" y=\"-13.200000000000001\" width=\"151.46875\" height=\"26.400000000000002\" style=\"fill: rgb(0, 0, 0); fill-opacity: 0;\"/></g><g class=\"traces\" transform=\"translate(1,124.80000000000001)\" style=\"opacity: 1;\"><text class=\"legendtext\" text-anchor=\"start\" x=\"40\" y=\"7.0200000000000005\" style=\"font-family: 'Times new roman'; font-size: 18px; fill: rgb(42, 63, 95); fill-opacity: 1; white-space: pre;\">Combined calc</text><g class=\"layers\" style=\"opacity: 1;\"><g class=\"legendfill\"/><g class=\"legendlines\"><path class=\"js-line\" d=\"M5,0h30\" style=\"fill: none; stroke: rgb(255, 161, 90); stroke-opacity: 1; stroke-dasharray: 9px, 9px; stroke-width: 2px;\"/></g><g class=\"legendsymbols\"><g class=\"legendpoints\"/></g></g><rect class=\"legendtoggle\" x=\"0\" y=\"-13.200000000000001\" width=\"151.46875\" height=\"26.400000000000002\" style=\"fill: rgb(0, 0, 0); fill-opacity: 0;\"/></g></g></g><rect class=\"scrollbar\" rx=\"20\" ry=\"3\" width=\"0\" height=\"0\" style=\"fill: rgb(128, 139, 164); fill-opacity: 1;\" x=\"0\" y=\"0\"/></g><g class=\"g-gtitle\"/><g class=\"g-xtitle\"><g class=\"xtitle-math-group\" pointer-events=\"none\" data-unformatted=\"$\\Large \\textrm{Incident neutron wavelength } (\\mathring{\\textrm{A}})$\" data-math=\"Y\"><svg xmlns:xlink=\"http://www.w3.org/1999/xlink\" width=\"46.679ex\" height=\"58.09375\" viewBox=\"0 -1456.9 20097.8 1879.3\" role=\"img\" focusable=\"false\" aria-hidden=\"true\" style=\"vertical-align: -0.981ex; overflow: visible; pointer-events: none;\" class=\"xtitle-math\" preserveAspectRatio=\"xMinYMin meet\" x=\"170.70263671875\" y=\"562.0831592559814\"><defs id=\"MathJax_SVG_glyphs\"><path stroke-width=\"1\" id=\"MJMAIN-49\" d=\"M328 0Q307 3 180 3T32 0H21V46H43Q92 46 106 49T126 60Q128 63 128 342Q128 620 126 623Q122 628 118 630T96 635T43 637H21V683H32Q53 680 180 680T328 683H339V637H317Q268 637 254 634T234 623Q232 620 232 342Q232 63 234 60Q238 55 242 53T264 48T317 46H339V0H328Z\"/><path stroke-width=\"1\" id=\"MJMAIN-6E\" d=\"M41 46H55Q94 46 102 60V68Q102 77 102 91T102 122T103 161T103 203Q103 234 103 269T102 328V351Q99 370 88 376T43 385H25V408Q25 431 27 431L37 432Q47 433 65 434T102 436Q119 437 138 438T167 441T178 442H181V402Q181 364 182 364T187 369T199 384T218 402T247 421T285 437Q305 442 336 442Q450 438 463 329Q464 322 464 190V104Q464 66 466 59T477 49Q498 46 526 46H542V0H534L510 1Q487 2 460 2T422 3Q319 3 310 0H302V46H318Q379 46 379 62Q380 64 380 200Q379 335 378 343Q372 371 358 385T334 402T308 404Q263 404 229 370Q202 343 195 315T187 232V168V108Q187 78 188 68T191 55T200 49Q221 46 249 46H265V0H257L234 1Q210 2 183 2T145 3Q42 3 33 0H25V46H41Z\"/><path stroke-width=\"1\" id=\"MJMAIN-63\" d=\"M370 305T349 305T313 320T297 358Q297 381 312 396Q317 401 317 402T307 404Q281 408 258 408Q209 408 178 376Q131 329 131 219Q131 137 162 90Q203 29 272 29Q313 29 338 55T374 117Q376 125 379 127T395 129H409Q415 123 415 120Q415 116 411 104T395 71T366 33T318 2T249 -11Q163 -11 99 53T34 214Q34 318 99 383T250 448T370 421T404 357Q404 334 387 320Z\"/><path stroke-width=\"1\" id=\"MJMAIN-69\" d=\"M69 609Q69 637 87 653T131 669Q154 667 171 652T188 609Q188 579 171 564T129 549Q104 549 87 564T69 609ZM247 0Q232 3 143 3Q132 3 106 3T56 1L34 0H26V46H42Q70 46 91 49Q100 53 102 60T104 102V205V293Q104 345 102 359T88 378Q74 385 41 385H30V408Q30 431 32 431L42 432Q52 433 70 434T106 436Q123 437 142 438T171 441T182 442H185V62Q190 52 197 50T232 46H255V0H247Z\"/><path stroke-width=\"1\" id=\"MJMAIN-64\" d=\"M376 495Q376 511 376 535T377 568Q377 613 367 624T316 637H298V660Q298 683 300 683L310 684Q320 685 339 686T376 688Q393 689 413 690T443 693T454 694H457V390Q457 84 458 81Q461 61 472 55T517 46H535V0Q533 0 459 -5T380 -11H373V44L365 37Q307 -11 235 -11Q158 -11 96 50T34 215Q34 315 97 378T244 442Q319 442 376 393V495ZM373 342Q328 405 260 405Q211 405 173 369Q146 341 139 305T131 211Q131 155 138 120T173 59Q203 26 251 26Q322 26 373 103V342Z\"/><path stroke-width=\"1\" id=\"MJMAIN-65\" d=\"M28 218Q28 273 48 318T98 391T163 433T229 448Q282 448 320 430T378 380T406 316T415 245Q415 238 408 231H126V216Q126 68 226 36Q246 30 270 30Q312 30 342 62Q359 79 369 104L379 128Q382 131 395 131H398Q415 131 415 121Q415 117 412 108Q393 53 349 21T250 -11Q155 -11 92 58T28 218ZM333 275Q322 403 238 411H236Q228 411 220 410T195 402T166 381T143 340T127 274V267H333V275Z\"/><path stroke-width=\"1\" id=\"MJMAIN-74\" d=\"M27 422Q80 426 109 478T141 600V615H181V431H316V385H181V241Q182 116 182 100T189 68Q203 29 238 29Q282 29 292 100Q293 108 293 146V181H333V146V134Q333 57 291 17Q264 -10 221 -10Q187 -10 162 2T124 33T105 68T98 100Q97 107 97 248V385H18V422H27Z\"/><path stroke-width=\"1\" id=\"MJMAIN-75\" d=\"M383 58Q327 -10 256 -10H249Q124 -10 105 89Q104 96 103 226Q102 335 102 348T96 369Q86 385 36 385H25V408Q25 431 27 431L38 432Q48 433 67 434T105 436Q122 437 142 438T172 441T184 442H187V261Q188 77 190 64Q193 49 204 40Q224 26 264 26Q290 26 311 35T343 58T363 90T375 120T379 144Q379 145 379 161T380 201T380 248V315Q380 361 370 372T320 385H302V431Q304 431 378 436T457 442H464V264Q464 84 465 81Q468 61 479 55T524 46H542V0Q540 0 467 -5T390 -11H383V58Z\"/><path stroke-width=\"1\" id=\"MJMAIN-72\" d=\"M36 46H50Q89 46 97 60V68Q97 77 97 91T98 122T98 161T98 203Q98 234 98 269T98 328L97 351Q94 370 83 376T38 385H20V408Q20 431 22 431L32 432Q42 433 60 434T96 436Q112 437 131 438T160 441T171 442H174V373Q213 441 271 441H277Q322 441 343 419T364 373Q364 352 351 337T313 322Q288 322 276 338T263 372Q263 381 265 388T270 400T273 405Q271 407 250 401Q234 393 226 386Q179 341 179 207V154Q179 141 179 127T179 101T180 81T180 66V61Q181 59 183 57T188 54T193 51T200 49T207 48T216 47T225 47T235 46T245 46H276V0H267Q249 3 140 3Q37 3 28 0H20V46H36Z\"/><path stroke-width=\"1\" id=\"MJMAIN-6F\" d=\"M28 214Q28 309 93 378T250 448Q340 448 405 380T471 215Q471 120 407 55T250 -10Q153 -10 91 57T28 214ZM250 30Q372 30 372 193V225V250Q372 272 371 288T364 326T348 362T317 390T268 410Q263 411 252 411Q222 411 195 399Q152 377 139 338T126 246V226Q126 130 145 91Q177 30 250 30Z\"/><path stroke-width=\"1\" id=\"MJMAIN-77\" d=\"M90 368Q84 378 76 380T40 385H18V431H24L43 430Q62 430 84 429T116 428Q206 428 221 431H229V385H215Q177 383 177 368Q177 367 221 239L265 113L339 328L333 345Q323 374 316 379Q308 384 278 385H258V431H264Q270 428 348 428Q439 428 454 431H461V385H452Q404 385 404 369Q404 366 418 324T449 234T481 143L496 100L537 219Q579 341 579 347Q579 363 564 373T530 385H522V431H529Q541 428 624 428Q692 428 698 431H703V385H697Q696 385 691 385T682 384Q635 377 619 334L559 161Q546 124 528 71Q508 12 503 1T487 -11H479Q460 -11 456 -4Q455 -3 407 133L361 267Q359 263 266 -4Q261 -11 243 -11H238Q225 -11 220 -3L90 368Z\"/><path stroke-width=\"1\" id=\"MJMAIN-61\" d=\"M137 305T115 305T78 320T63 359Q63 394 97 421T218 448Q291 448 336 416T396 340Q401 326 401 309T402 194V124Q402 76 407 58T428 40Q443 40 448 56T453 109V145H493V106Q492 66 490 59Q481 29 455 12T400 -6T353 12T329 54V58L327 55Q325 52 322 49T314 40T302 29T287 17T269 6T247 -2T221 -8T190 -11Q130 -11 82 20T34 107Q34 128 41 147T68 188T116 225T194 253T304 268H318V290Q318 324 312 340Q290 411 215 411Q197 411 181 410T156 406T148 403Q170 388 170 359Q170 334 154 320ZM126 106Q126 75 150 51T209 26Q247 26 276 49T315 109Q317 116 318 175Q318 233 317 233Q309 233 296 232T251 223T193 203T147 166T126 106Z\"/><path stroke-width=\"1\" id=\"MJMAIN-76\" d=\"M338 431Q344 429 422 429Q479 429 503 431H508V385H497Q439 381 423 345Q421 341 356 172T288 -2Q283 -11 263 -11Q244 -11 239 -2Q99 359 98 364Q93 378 82 381T43 385H19V431H25L33 430Q41 430 53 430T79 430T104 429T122 428Q217 428 232 431H240V385H226Q187 384 184 370Q184 366 235 234L286 102L377 341V349Q377 363 367 372T349 383T335 385H331V431H338Z\"/><path stroke-width=\"1\" id=\"MJMAIN-6C\" d=\"M42 46H56Q95 46 103 60V68Q103 77 103 91T103 124T104 167T104 217T104 272T104 329Q104 366 104 407T104 482T104 542T103 586T103 603Q100 622 89 628T44 637H26V660Q26 683 28 683L38 684Q48 685 67 686T104 688Q121 689 141 690T171 693T182 694H185V379Q185 62 186 60Q190 52 198 49Q219 46 247 46H263V0H255L232 1Q209 2 183 2T145 3T107 3T57 1L34 0H26V46H42Z\"/><path stroke-width=\"1\" id=\"MJMAIN-67\" d=\"M329 409Q373 453 429 453Q459 453 472 434T485 396Q485 382 476 371T449 360Q416 360 412 390Q410 404 415 411Q415 412 416 414V415Q388 412 363 393Q355 388 355 386Q355 385 359 381T368 369T379 351T388 325T392 292Q392 230 343 187T222 143Q172 143 123 171Q112 153 112 133Q112 98 138 81Q147 75 155 75T227 73Q311 72 335 67Q396 58 431 26Q470 -13 470 -72Q470 -139 392 -175Q332 -206 250 -206Q167 -206 107 -175Q29 -140 29 -75Q29 -39 50 -15T92 18L103 24Q67 55 67 108Q67 155 96 193Q52 237 52 292Q52 355 102 398T223 442Q274 442 318 416L329 409ZM299 343Q294 371 273 387T221 404Q192 404 171 388T145 343Q142 326 142 292Q142 248 149 227T179 192Q196 182 222 182Q244 182 260 189T283 207T294 227T299 242Q302 258 302 292T299 343ZM403 -75Q403 -50 389 -34T348 -11T299 -2T245 0H218Q151 0 138 -6Q118 -15 107 -34T95 -74Q95 -84 101 -97T122 -127T170 -155T250 -167Q319 -167 361 -139T403 -75Z\"/><path stroke-width=\"1\" id=\"MJMAIN-68\" d=\"M41 46H55Q94 46 102 60V68Q102 77 102 91T102 124T102 167T103 217T103 272T103 329Q103 366 103 407T103 482T102 542T102 586T102 603Q99 622 88 628T43 637H25V660Q25 683 27 683L37 684Q47 685 66 686T103 688Q120 689 140 690T170 693T181 694H184V367Q244 442 328 442Q451 442 463 329Q464 322 464 190V104Q464 66 466 59T477 49Q498 46 526 46H542V0H534L510 1Q487 2 460 2T422 3Q319 3 310 0H302V46H318Q379 46 379 62Q380 64 380 200Q379 335 378 343Q372 371 358 385T334 402T308 404Q263 404 229 370Q202 343 195 315T187 232V168V108Q187 78 188 68T191 55T200 49Q221 46 249 46H265V0H257L234 1Q210 2 183 2T145 3Q42 3 33 0H25V46H41Z\"/><path stroke-width=\"1\" id=\"MJMAIN-28\" d=\"M94 250Q94 319 104 381T127 488T164 576T202 643T244 695T277 729T302 750H315H319Q333 750 333 741Q333 738 316 720T275 667T226 581T184 443T167 250T184 58T225 -81T274 -167T316 -220T333 -241Q333 -250 318 -250H315H302L274 -226Q180 -141 137 -14T94 250Z\"/><path stroke-width=\"1\" id=\"MJMAIN-41\" d=\"M255 0Q240 3 140 3Q48 3 39 0H32V46H47Q119 49 139 88Q140 91 192 245T295 553T348 708Q351 716 366 716H376Q396 715 400 709Q402 707 508 390L617 67Q624 54 636 51T687 46H717V0H708Q699 3 581 3Q458 3 437 0H427V46H440Q510 46 510 64Q510 66 486 138L462 209H229L209 150Q189 91 189 85Q189 72 209 59T259 46H264V0H255ZM447 255L345 557L244 256Q244 255 345 255H447Z\"/><path stroke-width=\"1\" id=\"MJMAIN-2DA\" d=\"M147 628Q147 669 179 692T244 715Q298 715 325 689T352 629Q352 592 323 567T249 542Q202 542 175 567T147 628ZM313 628Q313 660 300 669T259 678H253Q248 678 242 678T234 679Q217 679 207 674T192 659T188 644T187 629Q187 600 198 590Q210 579 250 579H265Q279 579 288 581T305 595T313 628Z\"/><path stroke-width=\"1\" id=\"MJMAIN-29\" d=\"M60 749L64 750Q69 750 74 750H86L114 726Q208 641 251 514T294 250Q294 182 284 119T261 12T224 -76T186 -143T145 -194T113 -227T90 -246Q87 -249 86 -250H74Q66 -250 63 -250T58 -247T55 -238Q56 -237 66 -225Q221 -64 221 250T66 725Q56 737 55 738Q55 746 60 749Z\"/><path stroke-width=\"1\" id=\"MJMAIN-53\" d=\"M55 507Q55 590 112 647T243 704H257Q342 704 405 641L426 672Q431 679 436 687T446 700L449 704Q450 704 453 704T459 705H463Q466 705 472 699V462L466 456H448Q437 456 435 459T430 479Q413 605 329 646Q292 662 254 662Q201 662 168 626T135 542Q135 508 152 480T200 435Q210 431 286 412T370 389Q427 367 463 314T500 191Q500 110 448 45T301 -21Q245 -21 201 -4T140 27L122 41Q118 36 107 21T87 -7T78 -21Q76 -22 68 -22H64Q61 -22 55 -16V101Q55 220 56 222Q58 227 76 227H89Q95 221 95 214Q95 182 105 151T139 90T205 42T305 24Q352 24 386 62T420 155Q420 198 398 233T340 281Q284 295 266 300Q261 301 239 306T206 314T174 325T141 343T112 367T85 402Q55 451 55 507Z\"/><path stroke-width=\"1\" id=\"MJMAIN-73\" d=\"M295 316Q295 356 268 385T190 414Q154 414 128 401Q98 382 98 349Q97 344 98 336T114 312T157 287Q175 282 201 278T245 269T277 256Q294 248 310 236T342 195T359 133Q359 71 321 31T198 -10H190Q138 -10 94 26L86 19L77 10Q71 4 65 -1L54 -11H46H42Q39 -11 33 -5V74V132Q33 153 35 157T45 162H54Q66 162 70 158T75 146T82 119T101 77Q136 26 198 26Q295 26 295 104Q295 133 277 151Q257 175 194 187T111 210Q75 227 54 256T33 318Q33 357 50 384T93 424T143 442T187 447H198Q238 447 268 432L283 424L292 431Q302 440 314 448H322H326Q329 448 335 442V310L329 304H301Q295 310 295 316Z\"/><path stroke-width=\"1\" id=\"MJMAIN-70\" d=\"M36 -148H50Q89 -148 97 -134V-126Q97 -119 97 -107T97 -77T98 -38T98 6T98 55T98 106Q98 140 98 177T98 243T98 296T97 335T97 351Q94 370 83 376T38 385H20V408Q20 431 22 431L32 432Q42 433 61 434T98 436Q115 437 135 438T165 441T176 442H179V416L180 390L188 397Q247 441 326 441Q407 441 464 377T522 216Q522 115 457 52T310 -11Q242 -11 190 33L182 40V-45V-101Q182 -128 184 -134T195 -145Q216 -148 244 -148H260V-194H252L228 -193Q205 -192 178 -192T140 -191Q37 -191 28 -194H20V-148H36ZM424 218Q424 292 390 347T305 402Q234 402 182 337V98Q222 26 294 26Q345 26 384 80T424 218Z\"/><path stroke-width=\"1\" id=\"MJMAIN-6D\" d=\"M41 46H55Q94 46 102 60V68Q102 77 102 91T102 122T103 161T103 203Q103 234 103 269T102 328V351Q99 370 88 376T43 385H25V408Q25 431 27 431L37 432Q47 433 65 434T102 436Q119 437 138 438T167 441T178 442H181V402Q181 364 182 364T187 369T199 384T218 402T247 421T285 437Q305 442 336 442Q351 442 364 440T387 434T406 426T421 417T432 406T441 395T448 384T452 374T455 366L457 361L460 365Q463 369 466 373T475 384T488 397T503 410T523 422T546 432T572 439T603 442Q729 442 740 329Q741 322 741 190V104Q741 66 743 59T754 49Q775 46 803 46H819V0H811L788 1Q764 2 737 2T699 3Q596 3 587 0H579V46H595Q656 46 656 62Q657 64 657 200Q656 335 655 343Q649 371 635 385T611 402T585 404Q540 404 506 370Q479 343 472 315T464 232V168V108Q464 78 465 68T468 55T477 49Q498 46 526 46H542V0H534L510 1Q487 2 460 2T422 3Q319 3 310 0H302V46H318Q379 46 379 62Q380 64 380 200Q379 335 378 343Q372 371 358 385T334 402T308 404Q263 404 229 370Q202 343 195 315T187 232V168V108Q187 78 188 68T191 55T200 49Q221 46 249 46H265V0H257L234 1Q210 2 183 2T145 3Q42 3 33 0H25V46H41Z\"/><path stroke-width=\"1\" id=\"MJMAIN-62\" d=\"M307 -11Q234 -11 168 55L158 37Q156 34 153 28T147 17T143 10L138 1L118 0H98V298Q98 599 97 603Q94 622 83 628T38 637H20V660Q20 683 22 683L32 684Q42 685 61 686T98 688Q115 689 135 690T165 693T176 694H179V543Q179 391 180 391L183 394Q186 397 192 401T207 411T228 421T254 431T286 439T323 442Q401 442 461 379T522 216Q522 115 458 52T307 -11ZM182 98Q182 97 187 90T196 79T206 67T218 55T233 44T250 35T271 29T295 26Q330 26 363 46T412 113Q424 148 424 212Q424 287 412 323Q385 405 300 405Q270 405 239 390T188 347L182 339V98Z\"/></defs><g stroke=\"rgb(42, 63, 95)\" fill=\"rgb(42, 63, 95)\" stroke-width=\"0\" transform=\"matrix(1 0 0 -1 0 0)\"><use transform=\"scale(1.44)\" xlink:href=\"#MJMAIN-49\"/><use transform=\"scale(1.44)\" xlink:href=\"#MJMAIN-6E\" x=\"361\" y=\"0\"/><use transform=\"scale(1.44)\" xlink:href=\"#MJMAIN-63\" x=\"918\" y=\"0\"/><use transform=\"scale(1.44)\" xlink:href=\"#MJMAIN-69\" x=\"1362\" y=\"0\"/><use transform=\"scale(1.44)\" xlink:href=\"#MJMAIN-64\" x=\"1641\" y=\"0\"/><use transform=\"scale(1.44)\" xlink:href=\"#MJMAIN-65\" x=\"2197\" y=\"0\"/><use transform=\"scale(1.44)\" xlink:href=\"#MJMAIN-6E\" x=\"2642\" y=\"0\"/><use transform=\"scale(1.44)\" xlink:href=\"#MJMAIN-74\" x=\"3198\" y=\"0\"/><use transform=\"scale(1.44)\" xlink:href=\"#MJMAIN-6E\" x=\"3761\" y=\"0\"/><use transform=\"scale(1.44)\" xlink:href=\"#MJMAIN-65\" x=\"4318\" y=\"0\"/><use transform=\"scale(1.44)\" xlink:href=\"#MJMAIN-75\" x=\"4762\" y=\"0\"/><use transform=\"scale(1.44)\" xlink:href=\"#MJMAIN-74\" x=\"5319\" y=\"0\"/><use transform=\"scale(1.44)\" xlink:href=\"#MJMAIN-72\" x=\"5708\" y=\"0\"/><use transform=\"scale(1.44)\" xlink:href=\"#MJMAIN-6F\" x=\"6101\" y=\"0\"/><use transform=\"scale(1.44)\" xlink:href=\"#MJMAIN-6E\" x=\"6601\" y=\"0\"/><use transform=\"scale(1.44)\" xlink:href=\"#MJMAIN-77\" x=\"7331\" y=\"0\"/><use transform=\"scale(1.44)\" xlink:href=\"#MJMAIN-61\" x=\"8054\" y=\"0\"/><use transform=\"scale(1.44)\" xlink:href=\"#MJMAIN-76\" x=\"8554\" y=\"0\"/><use transform=\"scale(1.44)\" xlink:href=\"#MJMAIN-65\" x=\"9083\" y=\"0\"/><use transform=\"scale(1.44)\" xlink:href=\"#MJMAIN-6C\" x=\"9527\" y=\"0\"/><use transform=\"scale(1.44)\" xlink:href=\"#MJMAIN-65\" x=\"9806\" y=\"0\"/><use transform=\"scale(1.44)\" xlink:href=\"#MJMAIN-6E\" x=\"10250\" y=\"0\"/><use transform=\"scale(1.44)\" xlink:href=\"#MJMAIN-67\" x=\"10807\" y=\"0\"/><use transform=\"scale(1.44)\" xlink:href=\"#MJMAIN-74\" x=\"11307\" y=\"0\"/><use transform=\"scale(1.44)\" xlink:href=\"#MJMAIN-68\" x=\"11697\" y=\"0\"/><use transform=\"scale(1.44)\" xlink:href=\"#MJMAIN-28\" x=\"12427\" y=\"0\"/><g transform=\"translate(18456,0)\"><use transform=\"scale(1.44)\" xlink:href=\"#MJMAIN-41\" x=\"0\" y=\"0\"/><use transform=\"scale(1.44)\" xlink:href=\"#MJMAIN-2DA\" x=\"125\" y=\"262\"/></g><use transform=\"scale(1.44)\" xlink:href=\"#MJMAIN-29\" x=\"13567\" y=\"0\"/></g></svg></g></g><g class=\"g-ytitle\"><g class=\"ytitle-math-group\" pointer-events=\"none\" data-unformatted=\"$\\Large \\textrm{Scattering cross section per atom (barn)}$\" data-math=\"Y\" transform=\"rotate(-90,25.35,269.5)translate(-251.462158203125,-22.300411224365234)\"><svg xmlns:xlink=\"http://www.w3.org/1999/xlink\" width=\"56.384ex\" height=\"48.09375\" viewBox=\"0 -1133.6 24276.3 1555.9\" role=\"img\" focusable=\"false\" aria-hidden=\"true\" style=\"vertical-align: -0.981ex; overflow: visible; pointer-events: none;\" class=\"ytitle-math\" preserveAspectRatio=\"xMinYMin meet\" x=\"25.35\" y=\"269.5\"><defs id=\"MathJax_SVG_glyphs\"><path stroke-width=\"1\" id=\"MJMAIN-49\" d=\"M328 0Q307 3 180 3T32 0H21V46H43Q92 46 106 49T126 60Q128 63 128 342Q128 620 126 623Q122 628 118 630T96 635T43 637H21V683H32Q53 680 180 680T328 683H339V637H317Q268 637 254 634T234 623Q232 620 232 342Q232 63 234 60Q238 55 242 53T264 48T317 46H339V0H328Z\"/><path stroke-width=\"1\" id=\"MJMAIN-6E\" d=\"M41 46H55Q94 46 102 60V68Q102 77 102 91T102 122T103 161T103 203Q103 234 103 269T102 328V351Q99 370 88 376T43 385H25V408Q25 431 27 431L37 432Q47 433 65 434T102 436Q119 437 138 438T167 441T178 442H181V402Q181 364 182 364T187 369T199 384T218 402T247 421T285 437Q305 442 336 442Q450 438 463 329Q464 322 464 190V104Q464 66 466 59T477 49Q498 46 526 46H542V0H534L510 1Q487 2 460 2T422 3Q319 3 310 0H302V46H318Q379 46 379 62Q380 64 380 200Q379 335 378 343Q372 371 358 385T334 402T308 404Q263 404 229 370Q202 343 195 315T187 232V168V108Q187 78 188 68T191 55T200 49Q221 46 249 46H265V0H257L234 1Q210 2 183 2T145 3Q42 3 33 0H25V46H41Z\"/><path stroke-width=\"1\" id=\"MJMAIN-63\" d=\"M370 305T349 305T313 320T297 358Q297 381 312 396Q317 401 317 402T307 404Q281 408 258 408Q209 408 178 376Q131 329 131 219Q131 137 162 90Q203 29 272 29Q313 29 338 55T374 117Q376 125 379 127T395 129H409Q415 123 415 120Q415 116 411 104T395 71T366 33T318 2T249 -11Q163 -11 99 53T34 214Q34 318 99 383T250 448T370 421T404 357Q404 334 387 320Z\"/><path stroke-width=\"1\" id=\"MJMAIN-69\" d=\"M69 609Q69 637 87 653T131 669Q154 667 171 652T188 609Q188 579 171 564T129 549Q104 549 87 564T69 609ZM247 0Q232 3 143 3Q132 3 106 3T56 1L34 0H26V46H42Q70 46 91 49Q100 53 102 60T104 102V205V293Q104 345 102 359T88 378Q74 385 41 385H30V408Q30 431 32 431L42 432Q52 433 70 434T106 436Q123 437 142 438T171 441T182 442H185V62Q190 52 197 50T232 46H255V0H247Z\"/><path stroke-width=\"1\" id=\"MJMAIN-64\" d=\"M376 495Q376 511 376 535T377 568Q377 613 367 624T316 637H298V660Q298 683 300 683L310 684Q320 685 339 686T376 688Q393 689 413 690T443 693T454 694H457V390Q457 84 458 81Q461 61 472 55T517 46H535V0Q533 0 459 -5T380 -11H373V44L365 37Q307 -11 235 -11Q158 -11 96 50T34 215Q34 315 97 378T244 442Q319 442 376 393V495ZM373 342Q328 405 260 405Q211 405 173 369Q146 341 139 305T131 211Q131 155 138 120T173 59Q203 26 251 26Q322 26 373 103V342Z\"/><path stroke-width=\"1\" id=\"MJMAIN-65\" d=\"M28 218Q28 273 48 318T98 391T163 433T229 448Q282 448 320 430T378 380T406 316T415 245Q415 238 408 231H126V216Q126 68 226 36Q246 30 270 30Q312 30 342 62Q359 79 369 104L379 128Q382 131 395 131H398Q415 131 415 121Q415 117 412 108Q393 53 349 21T250 -11Q155 -11 92 58T28 218ZM333 275Q322 403 238 411H236Q228 411 220 410T195 402T166 381T143 340T127 274V267H333V275Z\"/><path stroke-width=\"1\" id=\"MJMAIN-74\" d=\"M27 422Q80 426 109 478T141 600V615H181V431H316V385H181V241Q182 116 182 100T189 68Q203 29 238 29Q282 29 292 100Q293 108 293 146V181H333V146V134Q333 57 291 17Q264 -10 221 -10Q187 -10 162 2T124 33T105 68T98 100Q97 107 97 248V385H18V422H27Z\"/><path stroke-width=\"1\" id=\"MJMAIN-75\" d=\"M383 58Q327 -10 256 -10H249Q124 -10 105 89Q104 96 103 226Q102 335 102 348T96 369Q86 385 36 385H25V408Q25 431 27 431L38 432Q48 433 67 434T105 436Q122 437 142 438T172 441T184 442H187V261Q188 77 190 64Q193 49 204 40Q224 26 264 26Q290 26 311 35T343 58T363 90T375 120T379 144Q379 145 379 161T380 201T380 248V315Q380 361 370 372T320 385H302V431Q304 431 378 436T457 442H464V264Q464 84 465 81Q468 61 479 55T524 46H542V0Q540 0 467 -5T390 -11H383V58Z\"/><path stroke-width=\"1\" id=\"MJMAIN-72\" d=\"M36 46H50Q89 46 97 60V68Q97 77 97 91T98 122T98 161T98 203Q98 234 98 269T98 328L97 351Q94 370 83 376T38 385H20V408Q20 431 22 431L32 432Q42 433 60 434T96 436Q112 437 131 438T160 441T171 442H174V373Q213 441 271 441H277Q322 441 343 419T364 373Q364 352 351 337T313 322Q288 322 276 338T263 372Q263 381 265 388T270 400T273 405Q271 407 250 401Q234 393 226 386Q179 341 179 207V154Q179 141 179 127T179 101T180 81T180 66V61Q181 59 183 57T188 54T193 51T200 49T207 48T216 47T225 47T235 46T245 46H276V0H267Q249 3 140 3Q37 3 28 0H20V46H36Z\"/><path stroke-width=\"1\" id=\"MJMAIN-6F\" d=\"M28 214Q28 309 93 378T250 448Q340 448 405 380T471 215Q471 120 407 55T250 -10Q153 -10 91 57T28 214ZM250 30Q372 30 372 193V225V250Q372 272 371 288T364 326T348 362T317 390T268 410Q263 411 252 411Q222 411 195 399Q152 377 139 338T126 246V226Q126 130 145 91Q177 30 250 30Z\"/><path stroke-width=\"1\" id=\"MJMAIN-77\" d=\"M90 368Q84 378 76 380T40 385H18V431H24L43 430Q62 430 84 429T116 428Q206 428 221 431H229V385H215Q177 383 177 368Q177 367 221 239L265 113L339 328L333 345Q323 374 316 379Q308 384 278 385H258V431H264Q270 428 348 428Q439 428 454 431H461V385H452Q404 385 404 369Q404 366 418 324T449 234T481 143L496 100L537 219Q579 341 579 347Q579 363 564 373T530 385H522V431H529Q541 428 624 428Q692 428 698 431H703V385H697Q696 385 691 385T682 384Q635 377 619 334L559 161Q546 124 528 71Q508 12 503 1T487 -11H479Q460 -11 456 -4Q455 -3 407 133L361 267Q359 263 266 -4Q261 -11 243 -11H238Q225 -11 220 -3L90 368Z\"/><path stroke-width=\"1\" id=\"MJMAIN-61\" d=\"M137 305T115 305T78 320T63 359Q63 394 97 421T218 448Q291 448 336 416T396 340Q401 326 401 309T402 194V124Q402 76 407 58T428 40Q443 40 448 56T453 109V145H493V106Q492 66 490 59Q481 29 455 12T400 -6T353 12T329 54V58L327 55Q325 52 322 49T314 40T302 29T287 17T269 6T247 -2T221 -8T190 -11Q130 -11 82 20T34 107Q34 128 41 147T68 188T116 225T194 253T304 268H318V290Q318 324 312 340Q290 411 215 411Q197 411 181 410T156 406T148 403Q170 388 170 359Q170 334 154 320ZM126 106Q126 75 150 51T209 26Q247 26 276 49T315 109Q317 116 318 175Q318 233 317 233Q309 233 296 232T251 223T193 203T147 166T126 106Z\"/><path stroke-width=\"1\" id=\"MJMAIN-76\" d=\"M338 431Q344 429 422 429Q479 429 503 431H508V385H497Q439 381 423 345Q421 341 356 172T288 -2Q283 -11 263 -11Q244 -11 239 -2Q99 359 98 364Q93 378 82 381T43 385H19V431H25L33 430Q41 430 53 430T79 430T104 429T122 428Q217 428 232 431H240V385H226Q187 384 184 370Q184 366 235 234L286 102L377 341V349Q377 363 367 372T349 383T335 385H331V431H338Z\"/><path stroke-width=\"1\" id=\"MJMAIN-6C\" d=\"M42 46H56Q95 46 103 60V68Q103 77 103 91T103 124T104 167T104 217T104 272T104 329Q104 366 104 407T104 482T104 542T103 586T103 603Q100 622 89 628T44 637H26V660Q26 683 28 683L38 684Q48 685 67 686T104 688Q121 689 141 690T171 693T182 694H185V379Q185 62 186 60Q190 52 198 49Q219 46 247 46H263V0H255L232 1Q209 2 183 2T145 3T107 3T57 1L34 0H26V46H42Z\"/><path stroke-width=\"1\" id=\"MJMAIN-67\" d=\"M329 409Q373 453 429 453Q459 453 472 434T485 396Q485 382 476 371T449 360Q416 360 412 390Q410 404 415 411Q415 412 416 414V415Q388 412 363 393Q355 388 355 386Q355 385 359 381T368 369T379 351T388 325T392 292Q392 230 343 187T222 143Q172 143 123 171Q112 153 112 133Q112 98 138 81Q147 75 155 75T227 73Q311 72 335 67Q396 58 431 26Q470 -13 470 -72Q470 -139 392 -175Q332 -206 250 -206Q167 -206 107 -175Q29 -140 29 -75Q29 -39 50 -15T92 18L103 24Q67 55 67 108Q67 155 96 193Q52 237 52 292Q52 355 102 398T223 442Q274 442 318 416L329 409ZM299 343Q294 371 273 387T221 404Q192 404 171 388T145 343Q142 326 142 292Q142 248 149 227T179 192Q196 182 222 182Q244 182 260 189T283 207T294 227T299 242Q302 258 302 292T299 343ZM403 -75Q403 -50 389 -34T348 -11T299 -2T245 0H218Q151 0 138 -6Q118 -15 107 -34T95 -74Q95 -84 101 -97T122 -127T170 -155T250 -167Q319 -167 361 -139T403 -75Z\"/><path stroke-width=\"1\" id=\"MJMAIN-68\" d=\"M41 46H55Q94 46 102 60V68Q102 77 102 91T102 124T102 167T103 217T103 272T103 329Q103 366 103 407T103 482T102 542T102 586T102 603Q99 622 88 628T43 637H25V660Q25 683 27 683L37 684Q47 685 66 686T103 688Q120 689 140 690T170 693T181 694H184V367Q244 442 328 442Q451 442 463 329Q464 322 464 190V104Q464 66 466 59T477 49Q498 46 526 46H542V0H534L510 1Q487 2 460 2T422 3Q319 3 310 0H302V46H318Q379 46 379 62Q380 64 380 200Q379 335 378 343Q372 371 358 385T334 402T308 404Q263 404 229 370Q202 343 195 315T187 232V168V108Q187 78 188 68T191 55T200 49Q221 46 249 46H265V0H257L234 1Q210 2 183 2T145 3Q42 3 33 0H25V46H41Z\"/><path stroke-width=\"1\" id=\"MJMAIN-28\" d=\"M94 250Q94 319 104 381T127 488T164 576T202 643T244 695T277 729T302 750H315H319Q333 750 333 741Q333 738 316 720T275 667T226 581T184 443T167 250T184 58T225 -81T274 -167T316 -220T333 -241Q333 -250 318 -250H315H302L274 -226Q180 -141 137 -14T94 250Z\"/><path stroke-width=\"1\" id=\"MJMAIN-41\" d=\"M255 0Q240 3 140 3Q48 3 39 0H32V46H47Q119 49 139 88Q140 91 192 245T295 553T348 708Q351 716 366 716H376Q396 715 400 709Q402 707 508 390L617 67Q624 54 636 51T687 46H717V0H708Q699 3 581 3Q458 3 437 0H427V46H440Q510 46 510 64Q510 66 486 138L462 209H229L209 150Q189 91 189 85Q189 72 209 59T259 46H264V0H255ZM447 255L345 557L244 256Q244 255 345 255H447Z\"/><path stroke-width=\"1\" id=\"MJMAIN-2DA\" d=\"M147 628Q147 669 179 692T244 715Q298 715 325 689T352 629Q352 592 323 567T249 542Q202 542 175 567T147 628ZM313 628Q313 660 300 669T259 678H253Q248 678 242 678T234 679Q217 679 207 674T192 659T188 644T187 629Q187 600 198 590Q210 579 250 579H265Q279 579 288 581T305 595T313 628Z\"/><path stroke-width=\"1\" id=\"MJMAIN-29\" d=\"M60 749L64 750Q69 750 74 750H86L114 726Q208 641 251 514T294 250Q294 182 284 119T261 12T224 -76T186 -143T145 -194T113 -227T90 -246Q87 -249 86 -250H74Q66 -250 63 -250T58 -247T55 -238Q56 -237 66 -225Q221 -64 221 250T66 725Q56 737 55 738Q55 746 60 749Z\"/><path stroke-width=\"1\" id=\"MJMAIN-53\" d=\"M55 507Q55 590 112 647T243 704H257Q342 704 405 641L426 672Q431 679 436 687T446 700L449 704Q450 704 453 704T459 705H463Q466 705 472 699V462L466 456H448Q437 456 435 459T430 479Q413 605 329 646Q292 662 254 662Q201 662 168 626T135 542Q135 508 152 480T200 435Q210 431 286 412T370 389Q427 367 463 314T500 191Q500 110 448 45T301 -21Q245 -21 201 -4T140 27L122 41Q118 36 107 21T87 -7T78 -21Q76 -22 68 -22H64Q61 -22 55 -16V101Q55 220 56 222Q58 227 76 227H89Q95 221 95 214Q95 182 105 151T139 90T205 42T305 24Q352 24 386 62T420 155Q420 198 398 233T340 281Q284 295 266 300Q261 301 239 306T206 314T174 325T141 343T112 367T85 402Q55 451 55 507Z\"/><path stroke-width=\"1\" id=\"MJMAIN-73\" d=\"M295 316Q295 356 268 385T190 414Q154 414 128 401Q98 382 98 349Q97 344 98 336T114 312T157 287Q175 282 201 278T245 269T277 256Q294 248 310 236T342 195T359 133Q359 71 321 31T198 -10H190Q138 -10 94 26L86 19L77 10Q71 4 65 -1L54 -11H46H42Q39 -11 33 -5V74V132Q33 153 35 157T45 162H54Q66 162 70 158T75 146T82 119T101 77Q136 26 198 26Q295 26 295 104Q295 133 277 151Q257 175 194 187T111 210Q75 227 54 256T33 318Q33 357 50 384T93 424T143 442T187 447H198Q238 447 268 432L283 424L292 431Q302 440 314 448H322H326Q329 448 335 442V310L329 304H301Q295 310 295 316Z\"/><path stroke-width=\"1\" id=\"MJMAIN-70\" d=\"M36 -148H50Q89 -148 97 -134V-126Q97 -119 97 -107T97 -77T98 -38T98 6T98 55T98 106Q98 140 98 177T98 243T98 296T97 335T97 351Q94 370 83 376T38 385H20V408Q20 431 22 431L32 432Q42 433 61 434T98 436Q115 437 135 438T165 441T176 442H179V416L180 390L188 397Q247 441 326 441Q407 441 464 377T522 216Q522 115 457 52T310 -11Q242 -11 190 33L182 40V-45V-101Q182 -128 184 -134T195 -145Q216 -148 244 -148H260V-194H252L228 -193Q205 -192 178 -192T140 -191Q37 -191 28 -194H20V-148H36ZM424 218Q424 292 390 347T305 402Q234 402 182 337V98Q222 26 294 26Q345 26 384 80T424 218Z\"/><path stroke-width=\"1\" id=\"MJMAIN-6D\" d=\"M41 46H55Q94 46 102 60V68Q102 77 102 91T102 122T103 161T103 203Q103 234 103 269T102 328V351Q99 370 88 376T43 385H25V408Q25 431 27 431L37 432Q47 433 65 434T102 436Q119 437 138 438T167 441T178 442H181V402Q181 364 182 364T187 369T199 384T218 402T247 421T285 437Q305 442 336 442Q351 442 364 440T387 434T406 426T421 417T432 406T441 395T448 384T452 374T455 366L457 361L460 365Q463 369 466 373T475 384T488 397T503 410T523 422T546 432T572 439T603 442Q729 442 740 329Q741 322 741 190V104Q741 66 743 59T754 49Q775 46 803 46H819V0H811L788 1Q764 2 737 2T699 3Q596 3 587 0H579V46H595Q656 46 656 62Q657 64 657 200Q656 335 655 343Q649 371 635 385T611 402T585 404Q540 404 506 370Q479 343 472 315T464 232V168V108Q464 78 465 68T468 55T477 49Q498 46 526 46H542V0H534L510 1Q487 2 460 2T422 3Q319 3 310 0H302V46H318Q379 46 379 62Q380 64 380 200Q379 335 378 343Q372 371 358 385T334 402T308 404Q263 404 229 370Q202 343 195 315T187 232V168V108Q187 78 188 68T191 55T200 49Q221 46 249 46H265V0H257L234 1Q210 2 183 2T145 3Q42 3 33 0H25V46H41Z\"/><path stroke-width=\"1\" id=\"MJMAIN-62\" d=\"M307 -11Q234 -11 168 55L158 37Q156 34 153 28T147 17T143 10L138 1L118 0H98V298Q98 599 97 603Q94 622 83 628T38 637H20V660Q20 683 22 683L32 684Q42 685 61 686T98 688Q115 689 135 690T165 693T176 694H179V543Q179 391 180 391L183 394Q186 397 192 401T207 411T228 421T254 431T286 439T323 442Q401 442 461 379T522 216Q522 115 458 52T307 -11ZM182 98Q182 97 187 90T196 79T206 67T218 55T233 44T250 35T271 29T295 26Q330 26 363 46T412 113Q424 148 424 212Q424 287 412 323Q385 405 300 405Q270 405 239 390T188 347L182 339V98Z\"/></defs><g stroke=\"rgb(42, 63, 95)\" fill=\"rgb(42, 63, 95)\" stroke-width=\"0\" transform=\"matrix(1 0 0 -1 0 0)\"><use transform=\"scale(1.44)\" xlink:href=\"#MJMAIN-53\"/><use transform=\"scale(1.44)\" xlink:href=\"#MJMAIN-63\" x=\"556\" y=\"0\"/><use transform=\"scale(1.44)\" xlink:href=\"#MJMAIN-61\" x=\"1001\" y=\"0\"/><use transform=\"scale(1.44)\" xlink:href=\"#MJMAIN-74\" x=\"1501\" y=\"0\"/><use transform=\"scale(1.44)\" xlink:href=\"#MJMAIN-74\" x=\"1891\" y=\"0\"/><use transform=\"scale(1.44)\" xlink:href=\"#MJMAIN-65\" x=\"2280\" y=\"0\"/><use transform=\"scale(1.44)\" xlink:href=\"#MJMAIN-72\" x=\"2725\" y=\"0\"/><use transform=\"scale(1.44)\" xlink:href=\"#MJMAIN-69\" x=\"3117\" y=\"0\"/><use transform=\"scale(1.44)\" xlink:href=\"#MJMAIN-6E\" x=\"3396\" y=\"0\"/><use transform=\"scale(1.44)\" xlink:href=\"#MJMAIN-67\" x=\"3952\" y=\"0\"/><use transform=\"scale(1.44)\" xlink:href=\"#MJMAIN-63\" x=\"4626\" y=\"0\"/><use transform=\"scale(1.44)\" xlink:href=\"#MJMAIN-72\" x=\"5071\" y=\"0\"/><use transform=\"scale(1.44)\" xlink:href=\"#MJMAIN-6F\" x=\"5463\" y=\"0\"/><use transform=\"scale(1.44)\" xlink:href=\"#MJMAIN-73\" x=\"5964\" y=\"0\"/><use transform=\"scale(1.44)\" xlink:href=\"#MJMAIN-73\" x=\"6358\" y=\"0\"/><use transform=\"scale(1.44)\" xlink:href=\"#MJMAIN-73\" x=\"6926\" y=\"0\"/><use transform=\"scale(1.44)\" xlink:href=\"#MJMAIN-65\" x=\"7321\" y=\"0\"/><use transform=\"scale(1.44)\" xlink:href=\"#MJMAIN-63\" x=\"7765\" y=\"0\"/><use transform=\"scale(1.44)\" xlink:href=\"#MJMAIN-74\" x=\"8210\" y=\"0\"/><use transform=\"scale(1.44)\" xlink:href=\"#MJMAIN-69\" x=\"8599\" y=\"0\"/><use transform=\"scale(1.44)\" xlink:href=\"#MJMAIN-6F\" x=\"8878\" y=\"0\"/><use transform=\"scale(1.44)\" xlink:href=\"#MJMAIN-6E\" x=\"9378\" y=\"0\"/><use transform=\"scale(1.44)\" xlink:href=\"#MJMAIN-70\" x=\"10108\" y=\"0\"/><use transform=\"scale(1.44)\" xlink:href=\"#MJMAIN-65\" x=\"10665\" y=\"0\"/><use transform=\"scale(1.44)\" xlink:href=\"#MJMAIN-72\" x=\"11109\" y=\"0\"/><use transform=\"scale(1.44)\" xlink:href=\"#MJMAIN-61\" x=\"11675\" y=\"0\"/><use transform=\"scale(1.44)\" xlink:href=\"#MJMAIN-74\" x=\"12176\" y=\"0\"/><use transform=\"scale(1.44)\" xlink:href=\"#MJMAIN-6F\" x=\"12565\" y=\"0\"/><use transform=\"scale(1.44)\" xlink:href=\"#MJMAIN-6D\" x=\"13066\" y=\"0\"/><use transform=\"scale(1.44)\" xlink:href=\"#MJMAIN-28\" x=\"14073\" y=\"0\"/><use transform=\"scale(1.44)\" xlink:href=\"#MJMAIN-62\" x=\"14463\" y=\"0\"/><use transform=\"scale(1.44)\" xlink:href=\"#MJMAIN-61\" x=\"15019\" y=\"0\"/><use transform=\"scale(1.44)\" xlink:href=\"#MJMAIN-72\" x=\"15520\" y=\"0\"/><use transform=\"scale(1.44)\" xlink:href=\"#MJMAIN-6E\" x=\"15912\" y=\"0\"/><use transform=\"scale(1.44)\" xlink:href=\"#MJMAIN-29\" x=\"16469\" y=\"0\"/></g></svg></g></g></g></svg>"
      ]
     },
     "metadata": {},
     "output_type": "display_data"
    }
   ],
   "source": [
    "fig = make_subplots(rows = 1, cols = 1)\n",
    "fig.add_trace(\n",
    "    go.Scatter(\n",
    "        x = wavelength,\n",
    "        y = xs_O2,\n",
    "        mode = 'lines',\n",
    "        name = 'O2',\n",
    "    ),\n",
    "    row = 1, col = 1\n",
    ")\n",
    "fig.add_trace(\n",
    "    go.Scatter(\n",
    "        x = wavelength,\n",
    "        y = xs_ept,\n",
    "        mode = 'lines',\n",
    "        name = 'empty clathrate',\n",
    "    ),\n",
    "    row = 1, col = 1\n",
    ")\n",
    "fig.add_trace(\n",
    "    go.Scatter(\n",
    "        x = wavelength,\n",
    "        y = xs_cla,\n",
    "        mode = 'lines',\n",
    "        name = 'O2-hydrate',\n",
    "    ),\n",
    "    row = 1, col = 1\n",
    ")\n",
    "fig.add_trace(\n",
    "    go.Scatter(\n",
    "        x = wavelength,\n",
    "        y = xs_comb,\n",
    "        mode = 'lines',\n",
    "        name = 'Combined',\n",
    "    ),\n",
    "    row = 1, col = 1\n",
    ")\n",
    "fig.add_trace(\n",
    "    go.Scatter(\n",
    "        x = wavelength,\n",
    "        y = xs_ept*(17*3)/(17*3+3*2)+xs_O2*(3*2)/(17*3+3*2),\n",
    "        mode = 'lines',\n",
    "        line_dash = 'dash',\n",
    "        name = 'Combined calc',\n",
    "    ),\n",
    "    row = 1, col = 1\n",
    ")\n",
    "fig.update_xaxes(tickfont = dict(size = 20), linecolor = 'black', mirror = True, \n",
    "                 ticks = 'outside', exponentformat = 'power', row = 1, col = 1, \n",
    "                 #type = 'log', \n",
    "                 #range=[0,25],\n",
    "                 title = r'$\\Large \\textrm{Incident neutron wavelength } (\\mathring{\\textrm{A}})$', \n",
    "                 showgrid=True, gridwidth=.5, gridcolor='grey')\n",
    "fig.update_yaxes(tickfont = dict(size = 20), linecolor = 'black', mirror = True, \n",
    "                 ticks = 'outside', exponentformat = 'power', row = 1, col = 1, \n",
    "                 #type = 'log', \n",
    "                 #range = [0,9],\n",
    "                 title = r'$\\Large \\textrm{Scattering cross section per atom (barn)}$',\n",
    "                 showgrid=True, gridwidth=.5, gridcolor='grey')\n",
    "#fig.add_annotation(xref='paper',yref='paper',x=.5, y=.85, \n",
    "#                   text=r'$\\Large \\textrm{O2-D2O clathrates}$', showarrow=False)\n",
    "#fig.add_annotation(xref='paper',yref='paper',x=.5, y=.75, \n",
    "#                   text=r'$\\Large \\textrm{SII structure}$', showarrow=False)\n",
    "#fig.add_annotation(xref='paper',yref='paper',x=.5, y=.62, \n",
    "#                   text=r'$\\Large T=2\\textrm{ K}$', showarrow=False)\n",
    "fig.update_layout(\n",
    "    #paper_bgcolor = 'rgba(0,0,0,0)',\n",
    "    plot_bgcolor = 'rgba(0,0,0,0)',\n",
    "    font = dict(family = 'Times new roman', size = 24),\n",
    "    legend = dict(x = 0.7, y = 0.15, bordercolor = \"Black\", borderwidth = 1, font = dict(size = 18)),\n",
    "    margin = dict(l = 80, r = 20, t = 20, b = 60),\n",
    "    autosize=False,\n",
    "    width=700,\n",
    "    height=600\n",
    ")\n",
    "fig.show('svg')\n",
    "#fig.write_image('TDF-D2O-clathrates_XS_wavelength.eps',width=700,height=500)\n",
    "#fig.write_image('TDF-D2O-clathrates_XS_wavelength.png',width=700,height=500)"
   ]
  },
  {
   "cell_type": "code",
   "execution_count": null,
   "metadata": {},
   "outputs": [],
   "source": []
  }
 ],
 "metadata": {
  "kernelspec": {
   "display_name": "Python 3 (ipykernel)",
   "language": "python",
   "name": "python3"
  },
  "language_info": {
   "codemirror_mode": {
    "name": "ipython",
    "version": 3
   },
   "file_extension": ".py",
   "mimetype": "text/x-python",
   "name": "python",
   "nbconvert_exporter": "python",
   "pygments_lexer": "ipython3",
   "version": "3.12.3"
  }
 },
 "nbformat": 4,
 "nbformat_minor": 4
}

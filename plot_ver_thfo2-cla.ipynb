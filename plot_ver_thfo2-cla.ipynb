{
 "cells": [
  {
   "cell_type": "code",
   "execution_count": 1,
   "metadata": {},
   "outputs": [],
   "source": [
    "#Uncomment if needed:\n",
    "#%pip install ncrystal git+https://github.com/highness-eu/ncmat-clathrates plotly kaleido"
   ]
  },
  {
   "cell_type": "code",
   "execution_count": 2,
   "metadata": {},
   "outputs": [],
   "source": [
    "import NCrystal as NC\n",
    "import numpy as np\n",
    "from plotly.subplots import make_subplots\n",
    "import plotly.graph_objects as go"
   ]
  },
  {
   "cell_type": "code",
   "execution_count": 3,
   "metadata": {},
   "outputs": [],
   "source": [
    "T = 2 # temperature "
   ]
  },
  {
   "cell_type": "code",
   "execution_count": 4,
   "metadata": {},
   "outputs": [],
   "source": [
    "wavelength = np.linspace(0.01, 25, 1000)\n",
    "E = NC.wl2ekin(wavelength)"
   ]
  },
  {
   "cell_type": "code",
   "execution_count": 5,
   "metadata": {
    "tags": []
   },
   "outputs": [],
   "source": [
    "nc_O2   = 'plugins::MagScat/O2_pdos_hydrogenated_THFO2-hydrate_mag.ncmat'\n",
    "nc_ept  = 'plugins::ClathrateHydrateData/HighNESS_1088H2O_64THF_0O2_sg1_ClathrateHydrate-sII.ncmat'\n",
    "nc_cla  = 'plugins::ClathrateHydrateData/HighNESS_1088H2O_64THF_128O2_sg1_ClathrateHydrate-sII.ncmat'\n",
    "nc_comb = 'plugins::ClathrateHydrateData/HighNESS_1088H2O_64THF_128O2_sg1_ClathrateHydrate-sII_mag.ncmat'"
   ]
  },
  {
   "cell_type": "code",
   "execution_count": 6,
   "metadata": {},
   "outputs": [
    {
     "name": "stdout",
     "output_type": "stream",
     "text": [
      "NCrystal WARNING: Loading NCMAT data which has @CUSTOM_ section(s). This is OK if intended.\n",
      "2\n"
     ]
    },
    {
     "data": {
      "text/plain": [
       "36036.385139129285"
      ]
     },
     "execution_count": 6,
     "metadata": {},
     "output_type": "execute_result"
    }
   ],
   "source": [
    "O2info = NC.createInfo(nc_O2+';temp={}K'.format(T))\n",
    "print(O2info.getAtomInfo()[0].count.as_integer_ratio()[0])\n",
    "O2V = 192 * O2info.getAtomInfo()[0].count.as_integer_ratio()[0] * O2info.getAtomInfo()[0].atomData.averageMassAMU() / O2info.density\n",
    "O2V"
   ]
  },
  {
   "cell_type": "code",
   "execution_count": 7,
   "metadata": {},
   "outputs": [
    {
     "name": "stdout",
     "output_type": "stream",
     "text": [
      "H(cohSL=-3.739fm cohXS=1.75679barn incXS=80.26barn absXS=0.3326barn mass=1.00798amu Z=1)\n",
      "2176 1.007975973752\n",
      "H(cohSL=-3.739fm cohXS=1.75679barn incXS=80.26barn absXS=0.3326barn mass=1.00798amu Z=1)\n",
      "512 1.007975973752\n",
      "C(cohSL=6.646fm cohXS=5.55048barn incXS=0.001barn absXS=0.0035barn mass=12.011amu Z=6)\n",
      "256 12.0110369031873\n",
      "O(cohSL=5.803fm cohXS=4.2317barn incXS=0.0008barn absXS=0.00019barn mass=15.9993amu Z=8)\n",
      "1088 15.999304712099\n",
      "O(cohSL=5.803fm cohXS=4.2317barn incXS=0.0008barn absXS=0.00019barn mass=15.9993amu Z=8)\n",
      "64 15.999304712099\n"
     ]
    },
    {
     "data": {
      "text/plain": [
       "24216.58979845484"
      ]
     },
     "execution_count": 7,
     "metadata": {},
     "output_type": "execute_result"
    }
   ],
   "source": [
    "eptinfo = NC.createInfo(nc_ept+';temp={}K'.format(T))\n",
    "Mtot = 0\n",
    "for i in range(len(eptinfo.getAtomInfo())):\n",
    "    print(eptinfo.getAtomInfo()[i].atomData.description())\n",
    "    N = eptinfo.getAtomInfo()[i].count.as_integer_ratio()[0]\n",
    "    M = eptinfo.getAtomInfo()[i].atomData.averageMassAMU()\n",
    "    print(N, M)\n",
    "    Mtot += N * M\n",
    "eptV = Mtot / eptinfo.density\n",
    "eptV"
   ]
  },
  {
   "cell_type": "code",
   "execution_count": 8,
   "metadata": {},
   "outputs": [
    {
     "data": {
      "text/plain": [
       "0.5980847448023815"
      ]
     },
     "execution_count": 8,
     "metadata": {},
     "output_type": "execute_result"
    }
   ],
   "source": [
    "vf_O2 = O2V / (eptV + O2V)\n",
    "vf_O2"
   ]
  },
  {
   "cell_type": "code",
   "execution_count": 9,
   "metadata": {},
   "outputs": [
    {
     "data": {
      "text/plain": [
       "0.4019152551976185"
      ]
     },
     "execution_count": 9,
     "metadata": {},
     "output_type": "execute_result"
    }
   ],
   "source": [
    "vf_ept = 1 - vf_O2\n",
    "vf_ept"
   ]
  },
  {
   "cell_type": "code",
   "execution_count": 10,
   "metadata": {},
   "outputs": [
    {
     "name": "stdout",
     "output_type": "stream",
     "text": [
      "NCrystal WARNING: Discarding 187 edges of provided kernel data due to missing S values.\n",
      "NCrystal WARNING: Discarding 186 edges of provided kernel data due to missing S values.\n",
      "NCrystal WARNING: Discarding 195 edges of provided kernel data due to missing S values.\n",
      "NCrystal WARNING: Discarding 196 edges of provided kernel data due to missing S values.\n",
      "NCrystal WARNING: Discarding 198 edges of provided kernel data due to missing S values.\n",
      "NCrystal WARNING: Discarding 207 edges of provided kernel data due to missing S values.\n",
      "NCrystal WARNING: Discarding 186 edges of provided kernel data due to missing S values.\n",
      "NCrystal WARNING: Discarding 195 edges of provided kernel data due to missing S values.\n",
      "NCrystal WARNING: Discarding 196 edges of provided kernel data due to missing S values.\n",
      "NCrystal WARNING: Discarding 198 edges of provided kernel data due to missing S values.\n",
      "NCrystal WARNING: Discarding 207 edges of provided kernel data due to missing S values.\n",
      "NCrystal WARNING: Discarding 187 edges of provided kernel data due to missing S values.\n",
      "NCrystal WARNING: Loading NCMAT data which has @CUSTOM_ section(s). This is OK if intended.\n",
      "NCrystal WARNING: Discarding 186 edges of provided kernel data due to missing S values.\n",
      "NCrystal WARNING: Discarding 195 edges of provided kernel data due to missing S values.\n",
      "NCrystal WARNING: Discarding 196 edges of provided kernel data due to missing S values.\n",
      "NCrystal WARNING: Discarding 198 edges of provided kernel data due to missing S values.\n",
      "NCrystal WARNING: Discarding 207 edges of provided kernel data due to missing S values.\n",
      "NCrystal WARNING: Discarding 187 edges of provided kernel data due to missing S values.\n"
     ]
    }
   ],
   "source": [
    "O2    = NC.createScatter(nc_O2+f';coh_elas=0;temp={T}K')\n",
    "ept   = NC.createScatter(nc_ept+f';temp={T}K')\n",
    "cla   = NC.createScatter(nc_cla+f';temp={T}K')\n",
    "comb  = NC.createScatter(nc_comb+f';temp={T}K')\n",
    "\n",
    "xs_O2   = O2.xsect(E)\n",
    "xs_ept  = ept.xsect(E)\n",
    "xs_cla  = cla.xsect(E)\n",
    "xs_comb = comb.xsect(E)"
   ]
  },
  {
   "cell_type": "code",
   "execution_count": 11,
   "metadata": {},
   "outputs": [
    {
     "data": {
      "image/svg+xml": [
       "<svg class=\"main-svg\" xmlns=\"http://www.w3.org/2000/svg\" xmlns:xlink=\"http://www.w3.org/1999/xlink\" width=\"700\" height=\"600\" style=\"\" viewBox=\"0 0 700 600\"><rect x=\"0\" y=\"0\" width=\"700\" height=\"600\" style=\"fill: rgb(255, 255, 255); fill-opacity: 1;\"/><defs id=\"defs-7da5c1\"><g class=\"clips\"><clipPath id=\"clip7da5c1xyplot\" class=\"plotclip\"><rect width=\"598\" height=\"499\"/></clipPath><clipPath class=\"axesclip\" id=\"clip7da5c1x\"><rect x=\"80\" y=\"0\" width=\"598\" height=\"600\"/></clipPath><clipPath class=\"axesclip\" id=\"clip7da5c1y\"><rect x=\"0\" y=\"20\" width=\"700\" height=\"499\"/></clipPath><clipPath class=\"axesclip\" id=\"clip7da5c1xy\"><rect x=\"80\" y=\"20\" width=\"598\" height=\"499\"/></clipPath></g><g class=\"gradients\"/><g class=\"patterns\"/></defs><g class=\"bglayer\"><rect class=\"bg\" x=\"80\" y=\"20\" width=\"598\" height=\"499\" style=\"fill: rgb(0, 0, 0); fill-opacity: 0; stroke-width: 0;\"/></g><g class=\"layer-below\"><g class=\"imagelayer\"/><g class=\"shapelayer\"/></g><g class=\"cartesianlayer\"><g class=\"subplot xy\"><g class=\"layer-subplot\"><g class=\"shapelayer\"/><g class=\"imagelayer\"/></g><g class=\"minor-gridlayer\"><g class=\"x\"/><g class=\"y\"/></g><g class=\"gridlayer\"><g class=\"x\"><path class=\"xgrid crisp\" transform=\"translate(199.41,0)\" d=\"M0,20v499\" style=\"stroke: rgb(128, 128, 128); stroke-opacity: 1; stroke-width: 0.5px;\"/><path class=\"xgrid crisp\" transform=\"translate(319.06,0)\" d=\"M0,20v499\" style=\"stroke: rgb(128, 128, 128); stroke-opacity: 1; stroke-width: 0.5px;\"/><path class=\"xgrid crisp\" transform=\"translate(438.7,0)\" d=\"M0,20v499\" style=\"stroke: rgb(128, 128, 128); stroke-opacity: 1; stroke-width: 0.5px;\"/><path class=\"xgrid crisp\" transform=\"translate(558.35,0)\" d=\"M0,20v499\" style=\"stroke: rgb(128, 128, 128); stroke-opacity: 1; stroke-width: 0.5px;\"/></g><g class=\"y\"><path class=\"ygrid crisp\" transform=\"translate(0,411.49)\" d=\"M80,0h598\" style=\"stroke: rgb(128, 128, 128); stroke-opacity: 1; stroke-width: 0.5px;\"/><path class=\"ygrid crisp\" transform=\"translate(0,325.37)\" d=\"M80,0h598\" style=\"stroke: rgb(128, 128, 128); stroke-opacity: 1; stroke-width: 0.5px;\"/><path class=\"ygrid crisp\" transform=\"translate(0,239.25)\" d=\"M80,0h598\" style=\"stroke: rgb(128, 128, 128); stroke-opacity: 1; stroke-width: 0.5px;\"/><path class=\"ygrid crisp\" transform=\"translate(0,153.12)\" d=\"M80,0h598\" style=\"stroke: rgb(128, 128, 128); stroke-opacity: 1; stroke-width: 0.5px;\"/><path class=\"ygrid crisp\" transform=\"translate(0,67)\" d=\"M80,0h598\" style=\"stroke: rgb(128, 128, 128); stroke-opacity: 1; stroke-width: 0.5px;\"/></g></g><g class=\"zerolinelayer\"><path class=\"yzl zl crisp\" transform=\"translate(0,497.62)\" d=\"M80,0h598\" style=\"stroke: rgb(255, 255, 255); stroke-opacity: 1; stroke-width: 2px;\"/></g><g class=\"layer-between\"><g class=\"shapelayer\"/><g class=\"imagelayer\"/></g><path class=\"xlines-below\"/><path class=\"ylines-below\"/><g class=\"overlines-below\"/><g class=\"xaxislayer-below\"/><g class=\"yaxislayer-below\"/><g class=\"overaxes-below\"/><g class=\"overplot\"><g class=\"xy\" transform=\"translate(80,20)\" clip-path=\"url(#clip7da5c1xyplot)\"><g class=\"scatterlayer mlayer\"><g class=\"trace scatter traceaa3fb1\" style=\"stroke-miterlimit: 2; opacity: 1;\"><g class=\"fills\"/><g class=\"errorbars\"/><g class=\"lines\"><path class=\"js-line\" d=\"M0,445.36L5.99,446.09L6.58,446.25L13.77,448.9L14.37,449.2L23.35,455L23.94,455.45L35.32,462.89L35.92,463.21L44.89,466.96L45.49,467.16L56.27,469.67L56.87,469.76L70.04,470.99L70.63,471.02L87.99,470.85L88.59,470.82L183.17,464.77L183.77,464.75L244.23,464.39L244.83,464.4L286.73,465.84L287.33,465.88L316.06,468.03L316.66,468.1L334.02,470.58L334.62,470.71L341.2,472.95L341.8,473.53L343,474.05L343.6,474.04L496.84,473.29L497.44,473.28L598,472.82\" style=\"vector-effect: none; fill: none; stroke: rgb(99, 110, 250); stroke-opacity: 1; stroke-width: 2px; opacity: 1;\"/></g><g class=\"points\"/><g class=\"text\"/></g><g class=\"trace scatter trace22d42f\" style=\"stroke-miterlimit: 2; opacity: 1;\"><g class=\"fills\"/><g class=\"errorbars\"/><g class=\"lines\"><path class=\"js-line\" d=\"M0,350.19L2.39,349.4L2.99,348.99L5.99,345.61L6.58,344.57L9.58,337.9L10.18,335.54L13.17,321.14L13.77,317.88L22.15,280.69L22.75,279.06L25.14,272.12L25.74,270.45L27.54,259.28L28.13,254.33L34.12,211.67L34.72,208.12L42.5,168.7L43.1,166.04L50.28,138.24L50.88,136.2L57.47,116.59L58.06,115.02L65.25,98.45L65.85,97.19L71.83,85.1L72.43,84.62L80.21,72.66L80.81,71.76L89.19,61.48L89.79,65.6L90.99,64.44L91.59,65.22L93.98,62.94L94.58,64.57L96.37,63.04L96.97,66.27L99.37,64.66L99.97,65.08L105.95,61.2L106.55,61.08L114.33,56.43L114.93,56.36L122.71,52.52L123.31,52.22L129.3,49.59L129.9,49.33L140.07,45.15L140.67,44.98L151.45,41.46L152.04,41.39L157.43,39.67L158.03,40.37L167.01,38.15L167.61,38.87L185.57,35.14L186.16,35.03L193.95,34.23L194.54,34.13L204.12,32.77L204.72,33.11L230.46,30L231.06,29.93L246.62,28.28L247.22,30.13L272.96,28.25L273.56,28.38L289.12,27.36L289.72,29.36L340.6,27.55L341.2,27.54L409.44,26.01L410.04,26.07L459.72,25.16L460.32,25.15L472.89,24.95L473.49,26.26L569.87,25.51L570.46,25.5L598,25.42\" style=\"vector-effect: none; fill: none; stroke: rgb(239, 85, 59); stroke-opacity: 1; stroke-width: 2px; opacity: 1;\"/></g><g class=\"points\"/><g class=\"text\"/></g><g class=\"trace scatter trace46f1a0\" style=\"stroke-miterlimit: 2; opacity: 1;\"><g class=\"fills\"/><g class=\"errorbars\"/><g class=\"lines\"><path class=\"js-line\" d=\"M0,355.78L2.39,355.05L2.99,354.67L5.99,351.5L6.58,350.53L9.58,344.3L10.18,342.09L13.17,328.58L13.77,325.53L22.15,290.74L22.75,289.22L25.14,282.75L25.74,281.2L27.54,270.74L28.13,266.09L34.12,226.04L34.72,222.7L42.5,185.63L43.1,183.12L50.28,156.87L50.88,154.93L58.06,134.83L58.66,133.37L67.04,115.34L67.64,114.13L73.63,103.72L74.23,102.82L85.6,86.99L86.2,86.49L89.19,83.03L89.79,88.02L90.99,86.91L91.59,88.26L93.98,86.16L94.58,87.26L96.37,85.79L96.97,88.62L99.37,87.05L99.97,87.31L105.95,83.39L106.55,83.09L114.93,78.1L115.53,77.73L120.92,74.95L121.52,74.63L128.7,71.34L129.3,71.03L144.26,65.26L144.86,66.23L157.43,61.96L158.03,63.81L167.01,61.45L167.61,62.18L191.55,56.93L192.15,56.81L217.89,52.42L218.49,52.32L221.48,51.99L222.08,51.89L235.85,49.79L236.45,51.57L246.62,50.19L247.22,56.66L278.95,54.75L279.55,54.72L289.12,54.16L289.72,55.89L334.02,54.25L334.62,54.42L394.48,53.17L395.08,53.16L472.89,52.01L473.49,52.8L577.05,52.05L577.65,52.04L598,52.02\" style=\"vector-effect: none; fill: none; stroke: rgb(0, 204, 150); stroke-opacity: 1; stroke-width: 2px; opacity: 1;\"/></g><g class=\"points\"/><g class=\"text\"/></g><g class=\"trace scatter trace1ee8d9\" style=\"stroke-miterlimit: 2; opacity: 1;\"><g class=\"fills\"/><g class=\"errorbars\"/><g class=\"lines\"><path class=\"js-line\" d=\"M0,358.34L2.39,357.64L2.99,357.27L5.99,354.22L6.58,353.28L9.58,347.27L10.18,345.13L13.17,332.07L13.77,329.11L22.15,295.56L22.75,294.1L25.14,287.91L25.74,286.42L27.54,276.32L28.13,271.83L34.12,233.15L34.72,229.93L41.9,196.63L42.5,194.2L49.09,170.36L49.68,168.43L56.87,148.32L57.47,146.87L64.05,132.72L64.65,131.52L73.03,116.81L73.63,115.89L83.21,103.13L83.8,102.51L89.19,96.57L89.79,100.33L90.99,99.26L91.59,99.97L93.98,97.87L94.58,99.36L96.37,97.95L96.97,100.9L99.37,99.41L99.97,99.79L105.95,96.21L106.55,96.09L114.33,91.78L114.93,91.71L123.31,87.87L123.91,87.7L138.87,81.76L139.47,81.53L149.05,78.53L149.65,78.44L157.43,76.2L158.03,76.84L167.01,74.77L167.61,75.43L186.16,71.85L186.76,71.75L196.94,70.64L197.54,70.55L213.1,68.97L213.7,68.89L246.62,65.66L247.22,67.35L289.12,64.95L289.72,66.79L327.43,65.65L328.03,65.64L365.15,65.15L365.74,65.14L409.44,64.39L410.04,64.44L456.13,63.64L456.73,63.64L472.89,63.39L473.49,64.59L557.89,63.93L558.49,63.93L598,63.77\" style=\"vector-effect: none; fill: none; stroke: rgb(171, 99, 250); stroke-opacity: 1; stroke-width: 2px; opacity: 1;\"/></g><g class=\"points\"/><g class=\"text\"/></g><g class=\"trace scatter trace5ca7be\" style=\"stroke-miterlimit: 2; opacity: 1;\"><g class=\"fills\"/><g class=\"errorbars\"/><g class=\"lines\"><path class=\"js-line\" d=\"M0,358.34L2.39,357.64L2.99,357.27L5.99,354.22L6.58,353.28L9.58,347.27L10.18,345.13L13.17,332.07L13.77,329.11L22.15,295.56L22.75,294.1L25.14,287.91L25.74,286.42L27.54,276.32L28.13,271.83L34.12,233.15L34.72,229.93L41.9,196.63L42.5,194.2L49.09,170.36L49.68,168.43L56.87,148.32L57.47,146.87L64.05,132.72L64.65,131.52L73.03,116.81L73.63,115.89L83.21,103.13L83.8,102.51L89.19,96.57L89.79,100.33L90.99,99.26L91.59,99.97L93.98,97.87L94.58,99.36L96.37,97.95L96.97,100.9L99.37,99.41L99.97,99.79L105.95,96.21L106.55,96.09L114.33,91.78L114.93,91.71L123.31,87.87L123.91,87.7L138.87,81.76L139.47,81.53L149.05,78.53L149.65,78.44L157.43,76.2L158.03,76.84L167.01,74.77L167.61,75.43L186.16,71.85L186.76,71.75L196.94,70.64L197.54,70.55L213.1,68.97L213.7,68.89L246.62,65.66L247.22,67.35L289.12,64.95L289.72,66.79L327.43,65.65L328.03,65.64L365.15,65.15L365.74,65.14L409.44,64.39L410.04,64.44L456.13,63.64L456.73,63.64L472.89,63.39L473.49,64.59L557.89,63.93L558.49,63.93L598,63.77\" style=\"vector-effect: none; fill: none; stroke: rgb(255, 161, 90); stroke-opacity: 1; stroke-dasharray: 9px, 9px; stroke-width: 2px; opacity: 1;\"/></g><g class=\"points\"/><g class=\"text\"/></g></g></g></g><path class=\"xlines-above crisp\" d=\"M79,519.5H679M79,19.5H679\" style=\"fill: none; stroke-width: 1px; stroke: rgb(0, 0, 0); stroke-opacity: 1;\"/><path class=\"ylines-above crisp\" d=\"M79.5,20V519M678.5,20V519\" style=\"fill: none; stroke-width: 1px; stroke: rgb(0, 0, 0); stroke-opacity: 1;\"/><g class=\"overlines-above\"/><g class=\"xaxislayer-above\"><path class=\"xtick ticks crisp\" d=\"M0,520v5\" transform=\"translate(199.41,0)\" style=\"stroke: rgb(68, 68, 68); stroke-opacity: 1; stroke-width: 1px;\"/><path class=\"xtick ticks crisp\" d=\"M0,520v5\" transform=\"translate(319.06,0)\" style=\"stroke: rgb(68, 68, 68); stroke-opacity: 1; stroke-width: 1px;\"/><path class=\"xtick ticks crisp\" d=\"M0,520v5\" transform=\"translate(438.7,0)\" style=\"stroke: rgb(68, 68, 68); stroke-opacity: 1; stroke-width: 1px;\"/><path class=\"xtick ticks crisp\" d=\"M0,520v5\" transform=\"translate(558.35,0)\" style=\"stroke: rgb(68, 68, 68); stroke-opacity: 1; stroke-width: 1px;\"/><path class=\"xtick ticks crisp\" d=\"M0,520v5\" transform=\"translate(678,0)\" style=\"stroke: rgb(68, 68, 68); stroke-opacity: 1; stroke-width: 1px;\"/><g class=\"xtick\"><text text-anchor=\"middle\" x=\"0\" y=\"549\" transform=\"translate(199.41,0)\" style=\"font-family: 'Times new roman'; font-size: 20px; fill: rgb(42, 63, 95); fill-opacity: 1; white-space: pre; opacity: 1;\">5</text></g><g class=\"xtick\"><text text-anchor=\"middle\" x=\"0\" y=\"549\" style=\"font-family: 'Times new roman'; font-size: 20px; fill: rgb(42, 63, 95); fill-opacity: 1; white-space: pre; opacity: 1;\" transform=\"translate(319.06,0)\">10</text></g><g class=\"xtick\"><text text-anchor=\"middle\" x=\"0\" y=\"549\" style=\"font-family: 'Times new roman'; font-size: 20px; fill: rgb(42, 63, 95); fill-opacity: 1; white-space: pre; opacity: 1;\" transform=\"translate(438.7,0)\">15</text></g><g class=\"xtick\"><text text-anchor=\"middle\" x=\"0\" y=\"549\" style=\"font-family: 'Times new roman'; font-size: 20px; fill: rgb(42, 63, 95); fill-opacity: 1; white-space: pre; opacity: 1;\" transform=\"translate(558.35,0)\">20</text></g><g class=\"xtick\"><text text-anchor=\"middle\" x=\"0\" y=\"549\" style=\"font-family: 'Times new roman'; font-size: 20px; fill: rgb(42, 63, 95); fill-opacity: 1; white-space: pre; opacity: 1;\" transform=\"translate(678,0)\">25</text></g></g><g class=\"yaxislayer-above\"><path class=\"ytick ticks crisp\" d=\"M79,0h-5\" transform=\"translate(0,497.62)\" style=\"stroke: rgb(68, 68, 68); stroke-opacity: 1; stroke-width: 1px;\"/><path class=\"ytick ticks crisp\" d=\"M79,0h-5\" transform=\"translate(0,411.49)\" style=\"stroke: rgb(68, 68, 68); stroke-opacity: 1; stroke-width: 1px;\"/><path class=\"ytick ticks crisp\" d=\"M79,0h-5\" transform=\"translate(0,325.37)\" style=\"stroke: rgb(68, 68, 68); stroke-opacity: 1; stroke-width: 1px;\"/><path class=\"ytick ticks crisp\" d=\"M79,0h-5\" transform=\"translate(0,239.25)\" style=\"stroke: rgb(68, 68, 68); stroke-opacity: 1; stroke-width: 1px;\"/><path class=\"ytick ticks crisp\" d=\"M79,0h-5\" transform=\"translate(0,153.12)\" style=\"stroke: rgb(68, 68, 68); stroke-opacity: 1; stroke-width: 1px;\"/><path class=\"ytick ticks crisp\" d=\"M79,0h-5\" transform=\"translate(0,67)\" style=\"stroke: rgb(68, 68, 68); stroke-opacity: 1; stroke-width: 1px;\"/><g class=\"ytick\"><text text-anchor=\"end\" x=\"70\" y=\"7\" transform=\"translate(0,497.62)\" style=\"font-family: 'Times new roman'; font-size: 20px; fill: rgb(42, 63, 95); fill-opacity: 1; white-space: pre; opacity: 1;\">0</text></g><g class=\"ytick\"><text text-anchor=\"end\" x=\"70\" y=\"7\" style=\"font-family: 'Times new roman'; font-size: 20px; fill: rgb(42, 63, 95); fill-opacity: 1; white-space: pre; opacity: 1;\" transform=\"translate(0,411.49)\">10</text></g><g class=\"ytick\"><text text-anchor=\"end\" x=\"70\" y=\"7\" style=\"font-family: 'Times new roman'; font-size: 20px; fill: rgb(42, 63, 95); fill-opacity: 1; white-space: pre; opacity: 1;\" transform=\"translate(0,325.37)\">20</text></g><g class=\"ytick\"><text text-anchor=\"end\" x=\"70\" y=\"7\" style=\"font-family: 'Times new roman'; font-size: 20px; fill: rgb(42, 63, 95); fill-opacity: 1; white-space: pre; opacity: 1;\" transform=\"translate(0,239.25)\">30</text></g><g class=\"ytick\"><text text-anchor=\"end\" x=\"70\" y=\"7\" style=\"font-family: 'Times new roman'; font-size: 20px; fill: rgb(42, 63, 95); fill-opacity: 1; white-space: pre; opacity: 1;\" transform=\"translate(0,153.12)\">40</text></g><g class=\"ytick\"><text text-anchor=\"end\" x=\"70\" y=\"7\" style=\"font-family: 'Times new roman'; font-size: 20px; fill: rgb(42, 63, 95); fill-opacity: 1; white-space: pre; opacity: 1;\" transform=\"translate(0,67)\">50</text></g></g><g class=\"overaxes-above\"/></g></g><g class=\"polarlayer\"/><g class=\"smithlayer\"/><g class=\"ternarylayer\"/><g class=\"geolayer\"/><g class=\"funnelarealayer\"/><g class=\"pielayer\"/><g class=\"iciclelayer\"/><g class=\"treemaplayer\"/><g class=\"sunburstlayer\"/><g class=\"glimages\"/><defs id=\"topdefs-7da5c1\"><g class=\"clips\"/><clipPath id=\"legend7da5c1\"><rect width=\"172\" height=\"142\" x=\"1\" y=\"1\"/></clipPath></defs><g class=\"layer-above\"><g class=\"imagelayer\"/><g class=\"shapelayer\"/></g><g class=\"infolayer\"><g class=\"legend\" pointer-events=\"all\" transform=\"translate(498.59999999999997,300.15)\"><rect class=\"bg\" shape-rendering=\"crispEdges\" style=\"stroke: rgb(0, 0, 0); stroke-opacity: 1; fill: rgb(255, 255, 255); fill-opacity: 1; stroke-width: 1px;\" width=\"173\" height=\"143\" x=\"0.5\" y=\"0.5\"/><g class=\"scrollbox\" transform=\"\" clip-path=\"url(#legend7da5c1)\"><g class=\"groups\"><g class=\"traces\" transform=\"translate(1,19.200000000000003)\" style=\"opacity: 1;\"><text class=\"legendtext\" text-anchor=\"start\" x=\"40\" y=\"7.0200000000000005\" style=\"font-family: 'Times new roman'; font-size: 18px; fill: rgb(42, 63, 95); fill-opacity: 1; white-space: pre;\">O2</text><g class=\"layers\" style=\"opacity: 1;\"><g class=\"legendfill\"/><g class=\"legendlines\"><path class=\"js-line\" d=\"M5,0h30\" style=\"fill: none; stroke: rgb(99, 110, 250); stroke-opacity: 1; stroke-width: 2px;\"/></g><g class=\"legendsymbols\"><g class=\"legendpoints\"/></g></g><rect class=\"legendtoggle\" x=\"0\" y=\"-13.200000000000001\" width=\"166.140625\" height=\"26.400000000000002\" style=\"fill: rgb(0, 0, 0); fill-opacity: 0;\"/></g><g class=\"traces\" transform=\"translate(1,45.6)\" style=\"opacity: 1;\"><text class=\"legendtext\" text-anchor=\"start\" x=\"40\" y=\"7.0200000000000005\" style=\"font-family: 'Times new roman'; font-size: 18px; fill: rgb(42, 63, 95); fill-opacity: 1; white-space: pre;\">THF-hydrate</text><g class=\"layers\" style=\"opacity: 1;\"><g class=\"legendfill\"/><g class=\"legendlines\"><path class=\"js-line\" d=\"M5,0h30\" style=\"fill: none; stroke: rgb(239, 85, 59); stroke-opacity: 1; stroke-width: 2px;\"/></g><g class=\"legendsymbols\"><g class=\"legendpoints\"/></g></g><rect class=\"legendtoggle\" x=\"0\" y=\"-13.200000000000001\" width=\"166.140625\" height=\"26.400000000000002\" style=\"fill: rgb(0, 0, 0); fill-opacity: 0;\"/></g><g class=\"traces\" transform=\"translate(1,72)\" style=\"opacity: 1;\"><text class=\"legendtext\" text-anchor=\"start\" x=\"40\" y=\"7.0200000000000005\" style=\"font-family: 'Times new roman'; font-size: 18px; fill: rgb(42, 63, 95); fill-opacity: 1; white-space: pre;\">THF+O2-hydrate</text><g class=\"layers\" style=\"opacity: 1;\"><g class=\"legendfill\"/><g class=\"legendlines\"><path class=\"js-line\" d=\"M5,0h30\" style=\"fill: none; stroke: rgb(0, 204, 150); stroke-opacity: 1; stroke-width: 2px;\"/></g><g class=\"legendsymbols\"><g class=\"legendpoints\"/></g></g><rect class=\"legendtoggle\" x=\"0\" y=\"-13.200000000000001\" width=\"166.140625\" height=\"26.400000000000002\" style=\"fill: rgb(0, 0, 0); fill-opacity: 0;\"/></g><g class=\"traces\" transform=\"translate(1,98.4)\" style=\"opacity: 1;\"><text class=\"legendtext\" text-anchor=\"start\" x=\"40\" y=\"7.0200000000000005\" style=\"font-family: 'Times new roman'; font-size: 18px; fill: rgb(42, 63, 95); fill-opacity: 1; white-space: pre;\">Combined</text><g class=\"layers\" style=\"opacity: 1;\"><g class=\"legendfill\"/><g class=\"legendlines\"><path class=\"js-line\" d=\"M5,0h30\" style=\"fill: none; stroke: rgb(171, 99, 250); stroke-opacity: 1; stroke-width: 2px;\"/></g><g class=\"legendsymbols\"><g class=\"legendpoints\"/></g></g><rect class=\"legendtoggle\" x=\"0\" y=\"-13.200000000000001\" width=\"166.140625\" height=\"26.400000000000002\" style=\"fill: rgb(0, 0, 0); fill-opacity: 0;\"/></g><g class=\"traces\" transform=\"translate(1,124.80000000000001)\" style=\"opacity: 1;\"><text class=\"legendtext\" text-anchor=\"start\" x=\"40\" y=\"7.0200000000000005\" style=\"font-family: 'Times new roman'; font-size: 18px; fill: rgb(42, 63, 95); fill-opacity: 1; white-space: pre;\">Combined calc</text><g class=\"layers\" style=\"opacity: 1;\"><g class=\"legendfill\"/><g class=\"legendlines\"><path class=\"js-line\" d=\"M5,0h30\" style=\"fill: none; stroke: rgb(255, 161, 90); stroke-opacity: 1; stroke-dasharray: 9px, 9px; stroke-width: 2px;\"/></g><g class=\"legendsymbols\"><g class=\"legendpoints\"/></g></g><rect class=\"legendtoggle\" x=\"0\" y=\"-13.200000000000001\" width=\"166.140625\" height=\"26.400000000000002\" style=\"fill: rgb(0, 0, 0); fill-opacity: 0;\"/></g></g></g><rect class=\"scrollbar\" rx=\"20\" ry=\"3\" width=\"0\" height=\"0\" style=\"fill: rgb(128, 139, 164); fill-opacity: 1;\" x=\"0\" y=\"0\"/></g><g class=\"g-gtitle\"/><g class=\"g-xtitle\"><g class=\"xtitle-math-group\" pointer-events=\"none\" data-unformatted=\"$\\Large \\textrm{Incident neutron wavelength } (\\mathring{\\textrm{A}})$\" data-math=\"Y\"><svg xmlns:xlink=\"http://www.w3.org/1999/xlink\" width=\"46.679ex\" height=\"58.09375\" viewBox=\"0 -1456.9 20097.8 1879.3\" role=\"img\" focusable=\"false\" aria-hidden=\"true\" style=\"vertical-align: -0.981ex; overflow: visible; pointer-events: none;\" class=\"xtitle-math\" preserveAspectRatio=\"xMinYMin meet\" x=\"170.70263671875\" y=\"562.0831592559814\"><defs id=\"MathJax_SVG_glyphs\"><path stroke-width=\"1\" id=\"MJMAIN-49\" d=\"M328 0Q307 3 180 3T32 0H21V46H43Q92 46 106 49T126 60Q128 63 128 342Q128 620 126 623Q122 628 118 630T96 635T43 637H21V683H32Q53 680 180 680T328 683H339V637H317Q268 637 254 634T234 623Q232 620 232 342Q232 63 234 60Q238 55 242 53T264 48T317 46H339V0H328Z\"/><path stroke-width=\"1\" id=\"MJMAIN-6E\" d=\"M41 46H55Q94 46 102 60V68Q102 77 102 91T102 122T103 161T103 203Q103 234 103 269T102 328V351Q99 370 88 376T43 385H25V408Q25 431 27 431L37 432Q47 433 65 434T102 436Q119 437 138 438T167 441T178 442H181V402Q181 364 182 364T187 369T199 384T218 402T247 421T285 437Q305 442 336 442Q450 438 463 329Q464 322 464 190V104Q464 66 466 59T477 49Q498 46 526 46H542V0H534L510 1Q487 2 460 2T422 3Q319 3 310 0H302V46H318Q379 46 379 62Q380 64 380 200Q379 335 378 343Q372 371 358 385T334 402T308 404Q263 404 229 370Q202 343 195 315T187 232V168V108Q187 78 188 68T191 55T200 49Q221 46 249 46H265V0H257L234 1Q210 2 183 2T145 3Q42 3 33 0H25V46H41Z\"/><path stroke-width=\"1\" id=\"MJMAIN-63\" d=\"M370 305T349 305T313 320T297 358Q297 381 312 396Q317 401 317 402T307 404Q281 408 258 408Q209 408 178 376Q131 329 131 219Q131 137 162 90Q203 29 272 29Q313 29 338 55T374 117Q376 125 379 127T395 129H409Q415 123 415 120Q415 116 411 104T395 71T366 33T318 2T249 -11Q163 -11 99 53T34 214Q34 318 99 383T250 448T370 421T404 357Q404 334 387 320Z\"/><path stroke-width=\"1\" id=\"MJMAIN-69\" d=\"M69 609Q69 637 87 653T131 669Q154 667 171 652T188 609Q188 579 171 564T129 549Q104 549 87 564T69 609ZM247 0Q232 3 143 3Q132 3 106 3T56 1L34 0H26V46H42Q70 46 91 49Q100 53 102 60T104 102V205V293Q104 345 102 359T88 378Q74 385 41 385H30V408Q30 431 32 431L42 432Q52 433 70 434T106 436Q123 437 142 438T171 441T182 442H185V62Q190 52 197 50T232 46H255V0H247Z\"/><path stroke-width=\"1\" id=\"MJMAIN-64\" d=\"M376 495Q376 511 376 535T377 568Q377 613 367 624T316 637H298V660Q298 683 300 683L310 684Q320 685 339 686T376 688Q393 689 413 690T443 693T454 694H457V390Q457 84 458 81Q461 61 472 55T517 46H535V0Q533 0 459 -5T380 -11H373V44L365 37Q307 -11 235 -11Q158 -11 96 50T34 215Q34 315 97 378T244 442Q319 442 376 393V495ZM373 342Q328 405 260 405Q211 405 173 369Q146 341 139 305T131 211Q131 155 138 120T173 59Q203 26 251 26Q322 26 373 103V342Z\"/><path stroke-width=\"1\" id=\"MJMAIN-65\" d=\"M28 218Q28 273 48 318T98 391T163 433T229 448Q282 448 320 430T378 380T406 316T415 245Q415 238 408 231H126V216Q126 68 226 36Q246 30 270 30Q312 30 342 62Q359 79 369 104L379 128Q382 131 395 131H398Q415 131 415 121Q415 117 412 108Q393 53 349 21T250 -11Q155 -11 92 58T28 218ZM333 275Q322 403 238 411H236Q228 411 220 410T195 402T166 381T143 340T127 274V267H333V275Z\"/><path stroke-width=\"1\" id=\"MJMAIN-74\" d=\"M27 422Q80 426 109 478T141 600V615H181V431H316V385H181V241Q182 116 182 100T189 68Q203 29 238 29Q282 29 292 100Q293 108 293 146V181H333V146V134Q333 57 291 17Q264 -10 221 -10Q187 -10 162 2T124 33T105 68T98 100Q97 107 97 248V385H18V422H27Z\"/><path stroke-width=\"1\" id=\"MJMAIN-75\" d=\"M383 58Q327 -10 256 -10H249Q124 -10 105 89Q104 96 103 226Q102 335 102 348T96 369Q86 385 36 385H25V408Q25 431 27 431L38 432Q48 433 67 434T105 436Q122 437 142 438T172 441T184 442H187V261Q188 77 190 64Q193 49 204 40Q224 26 264 26Q290 26 311 35T343 58T363 90T375 120T379 144Q379 145 379 161T380 201T380 248V315Q380 361 370 372T320 385H302V431Q304 431 378 436T457 442H464V264Q464 84 465 81Q468 61 479 55T524 46H542V0Q540 0 467 -5T390 -11H383V58Z\"/><path stroke-width=\"1\" id=\"MJMAIN-72\" d=\"M36 46H50Q89 46 97 60V68Q97 77 97 91T98 122T98 161T98 203Q98 234 98 269T98 328L97 351Q94 370 83 376T38 385H20V408Q20 431 22 431L32 432Q42 433 60 434T96 436Q112 437 131 438T160 441T171 442H174V373Q213 441 271 441H277Q322 441 343 419T364 373Q364 352 351 337T313 322Q288 322 276 338T263 372Q263 381 265 388T270 400T273 405Q271 407 250 401Q234 393 226 386Q179 341 179 207V154Q179 141 179 127T179 101T180 81T180 66V61Q181 59 183 57T188 54T193 51T200 49T207 48T216 47T225 47T235 46T245 46H276V0H267Q249 3 140 3Q37 3 28 0H20V46H36Z\"/><path stroke-width=\"1\" id=\"MJMAIN-6F\" d=\"M28 214Q28 309 93 378T250 448Q340 448 405 380T471 215Q471 120 407 55T250 -10Q153 -10 91 57T28 214ZM250 30Q372 30 372 193V225V250Q372 272 371 288T364 326T348 362T317 390T268 410Q263 411 252 411Q222 411 195 399Q152 377 139 338T126 246V226Q126 130 145 91Q177 30 250 30Z\"/><path stroke-width=\"1\" id=\"MJMAIN-77\" d=\"M90 368Q84 378 76 380T40 385H18V431H24L43 430Q62 430 84 429T116 428Q206 428 221 431H229V385H215Q177 383 177 368Q177 367 221 239L265 113L339 328L333 345Q323 374 316 379Q308 384 278 385H258V431H264Q270 428 348 428Q439 428 454 431H461V385H452Q404 385 404 369Q404 366 418 324T449 234T481 143L496 100L537 219Q579 341 579 347Q579 363 564 373T530 385H522V431H529Q541 428 624 428Q692 428 698 431H703V385H697Q696 385 691 385T682 384Q635 377 619 334L559 161Q546 124 528 71Q508 12 503 1T487 -11H479Q460 -11 456 -4Q455 -3 407 133L361 267Q359 263 266 -4Q261 -11 243 -11H238Q225 -11 220 -3L90 368Z\"/><path stroke-width=\"1\" id=\"MJMAIN-61\" d=\"M137 305T115 305T78 320T63 359Q63 394 97 421T218 448Q291 448 336 416T396 340Q401 326 401 309T402 194V124Q402 76 407 58T428 40Q443 40 448 56T453 109V145H493V106Q492 66 490 59Q481 29 455 12T400 -6T353 12T329 54V58L327 55Q325 52 322 49T314 40T302 29T287 17T269 6T247 -2T221 -8T190 -11Q130 -11 82 20T34 107Q34 128 41 147T68 188T116 225T194 253T304 268H318V290Q318 324 312 340Q290 411 215 411Q197 411 181 410T156 406T148 403Q170 388 170 359Q170 334 154 320ZM126 106Q126 75 150 51T209 26Q247 26 276 49T315 109Q317 116 318 175Q318 233 317 233Q309 233 296 232T251 223T193 203T147 166T126 106Z\"/><path stroke-width=\"1\" id=\"MJMAIN-76\" d=\"M338 431Q344 429 422 429Q479 429 503 431H508V385H497Q439 381 423 345Q421 341 356 172T288 -2Q283 -11 263 -11Q244 -11 239 -2Q99 359 98 364Q93 378 82 381T43 385H19V431H25L33 430Q41 430 53 430T79 430T104 429T122 428Q217 428 232 431H240V385H226Q187 384 184 370Q184 366 235 234L286 102L377 341V349Q377 363 367 372T349 383T335 385H331V431H338Z\"/><path stroke-width=\"1\" id=\"MJMAIN-6C\" d=\"M42 46H56Q95 46 103 60V68Q103 77 103 91T103 124T104 167T104 217T104 272T104 329Q104 366 104 407T104 482T104 542T103 586T103 603Q100 622 89 628T44 637H26V660Q26 683 28 683L38 684Q48 685 67 686T104 688Q121 689 141 690T171 693T182 694H185V379Q185 62 186 60Q190 52 198 49Q219 46 247 46H263V0H255L232 1Q209 2 183 2T145 3T107 3T57 1L34 0H26V46H42Z\"/><path stroke-width=\"1\" id=\"MJMAIN-67\" d=\"M329 409Q373 453 429 453Q459 453 472 434T485 396Q485 382 476 371T449 360Q416 360 412 390Q410 404 415 411Q415 412 416 414V415Q388 412 363 393Q355 388 355 386Q355 385 359 381T368 369T379 351T388 325T392 292Q392 230 343 187T222 143Q172 143 123 171Q112 153 112 133Q112 98 138 81Q147 75 155 75T227 73Q311 72 335 67Q396 58 431 26Q470 -13 470 -72Q470 -139 392 -175Q332 -206 250 -206Q167 -206 107 -175Q29 -140 29 -75Q29 -39 50 -15T92 18L103 24Q67 55 67 108Q67 155 96 193Q52 237 52 292Q52 355 102 398T223 442Q274 442 318 416L329 409ZM299 343Q294 371 273 387T221 404Q192 404 171 388T145 343Q142 326 142 292Q142 248 149 227T179 192Q196 182 222 182Q244 182 260 189T283 207T294 227T299 242Q302 258 302 292T299 343ZM403 -75Q403 -50 389 -34T348 -11T299 -2T245 0H218Q151 0 138 -6Q118 -15 107 -34T95 -74Q95 -84 101 -97T122 -127T170 -155T250 -167Q319 -167 361 -139T403 -75Z\"/><path stroke-width=\"1\" id=\"MJMAIN-68\" d=\"M41 46H55Q94 46 102 60V68Q102 77 102 91T102 124T102 167T103 217T103 272T103 329Q103 366 103 407T103 482T102 542T102 586T102 603Q99 622 88 628T43 637H25V660Q25 683 27 683L37 684Q47 685 66 686T103 688Q120 689 140 690T170 693T181 694H184V367Q244 442 328 442Q451 442 463 329Q464 322 464 190V104Q464 66 466 59T477 49Q498 46 526 46H542V0H534L510 1Q487 2 460 2T422 3Q319 3 310 0H302V46H318Q379 46 379 62Q380 64 380 200Q379 335 378 343Q372 371 358 385T334 402T308 404Q263 404 229 370Q202 343 195 315T187 232V168V108Q187 78 188 68T191 55T200 49Q221 46 249 46H265V0H257L234 1Q210 2 183 2T145 3Q42 3 33 0H25V46H41Z\"/><path stroke-width=\"1\" id=\"MJMAIN-28\" d=\"M94 250Q94 319 104 381T127 488T164 576T202 643T244 695T277 729T302 750H315H319Q333 750 333 741Q333 738 316 720T275 667T226 581T184 443T167 250T184 58T225 -81T274 -167T316 -220T333 -241Q333 -250 318 -250H315H302L274 -226Q180 -141 137 -14T94 250Z\"/><path stroke-width=\"1\" id=\"MJMAIN-41\" d=\"M255 0Q240 3 140 3Q48 3 39 0H32V46H47Q119 49 139 88Q140 91 192 245T295 553T348 708Q351 716 366 716H376Q396 715 400 709Q402 707 508 390L617 67Q624 54 636 51T687 46H717V0H708Q699 3 581 3Q458 3 437 0H427V46H440Q510 46 510 64Q510 66 486 138L462 209H229L209 150Q189 91 189 85Q189 72 209 59T259 46H264V0H255ZM447 255L345 557L244 256Q244 255 345 255H447Z\"/><path stroke-width=\"1\" id=\"MJMAIN-2DA\" d=\"M147 628Q147 669 179 692T244 715Q298 715 325 689T352 629Q352 592 323 567T249 542Q202 542 175 567T147 628ZM313 628Q313 660 300 669T259 678H253Q248 678 242 678T234 679Q217 679 207 674T192 659T188 644T187 629Q187 600 198 590Q210 579 250 579H265Q279 579 288 581T305 595T313 628Z\"/><path stroke-width=\"1\" id=\"MJMAIN-29\" d=\"M60 749L64 750Q69 750 74 750H86L114 726Q208 641 251 514T294 250Q294 182 284 119T261 12T224 -76T186 -143T145 -194T113 -227T90 -246Q87 -249 86 -250H74Q66 -250 63 -250T58 -247T55 -238Q56 -237 66 -225Q221 -64 221 250T66 725Q56 737 55 738Q55 746 60 749Z\"/><path stroke-width=\"1\" id=\"MJMAIN-53\" d=\"M55 507Q55 590 112 647T243 704H257Q342 704 405 641L426 672Q431 679 436 687T446 700L449 704Q450 704 453 704T459 705H463Q466 705 472 699V462L466 456H448Q437 456 435 459T430 479Q413 605 329 646Q292 662 254 662Q201 662 168 626T135 542Q135 508 152 480T200 435Q210 431 286 412T370 389Q427 367 463 314T500 191Q500 110 448 45T301 -21Q245 -21 201 -4T140 27L122 41Q118 36 107 21T87 -7T78 -21Q76 -22 68 -22H64Q61 -22 55 -16V101Q55 220 56 222Q58 227 76 227H89Q95 221 95 214Q95 182 105 151T139 90T205 42T305 24Q352 24 386 62T420 155Q420 198 398 233T340 281Q284 295 266 300Q261 301 239 306T206 314T174 325T141 343T112 367T85 402Q55 451 55 507Z\"/><path stroke-width=\"1\" id=\"MJMAIN-73\" d=\"M295 316Q295 356 268 385T190 414Q154 414 128 401Q98 382 98 349Q97 344 98 336T114 312T157 287Q175 282 201 278T245 269T277 256Q294 248 310 236T342 195T359 133Q359 71 321 31T198 -10H190Q138 -10 94 26L86 19L77 10Q71 4 65 -1L54 -11H46H42Q39 -11 33 -5V74V132Q33 153 35 157T45 162H54Q66 162 70 158T75 146T82 119T101 77Q136 26 198 26Q295 26 295 104Q295 133 277 151Q257 175 194 187T111 210Q75 227 54 256T33 318Q33 357 50 384T93 424T143 442T187 447H198Q238 447 268 432L283 424L292 431Q302 440 314 448H322H326Q329 448 335 442V310L329 304H301Q295 310 295 316Z\"/><path stroke-width=\"1\" id=\"MJMAIN-70\" d=\"M36 -148H50Q89 -148 97 -134V-126Q97 -119 97 -107T97 -77T98 -38T98 6T98 55T98 106Q98 140 98 177T98 243T98 296T97 335T97 351Q94 370 83 376T38 385H20V408Q20 431 22 431L32 432Q42 433 61 434T98 436Q115 437 135 438T165 441T176 442H179V416L180 390L188 397Q247 441 326 441Q407 441 464 377T522 216Q522 115 457 52T310 -11Q242 -11 190 33L182 40V-45V-101Q182 -128 184 -134T195 -145Q216 -148 244 -148H260V-194H252L228 -193Q205 -192 178 -192T140 -191Q37 -191 28 -194H20V-148H36ZM424 218Q424 292 390 347T305 402Q234 402 182 337V98Q222 26 294 26Q345 26 384 80T424 218Z\"/><path stroke-width=\"1\" id=\"MJMAIN-6D\" d=\"M41 46H55Q94 46 102 60V68Q102 77 102 91T102 122T103 161T103 203Q103 234 103 269T102 328V351Q99 370 88 376T43 385H25V408Q25 431 27 431L37 432Q47 433 65 434T102 436Q119 437 138 438T167 441T178 442H181V402Q181 364 182 364T187 369T199 384T218 402T247 421T285 437Q305 442 336 442Q351 442 364 440T387 434T406 426T421 417T432 406T441 395T448 384T452 374T455 366L457 361L460 365Q463 369 466 373T475 384T488 397T503 410T523 422T546 432T572 439T603 442Q729 442 740 329Q741 322 741 190V104Q741 66 743 59T754 49Q775 46 803 46H819V0H811L788 1Q764 2 737 2T699 3Q596 3 587 0H579V46H595Q656 46 656 62Q657 64 657 200Q656 335 655 343Q649 371 635 385T611 402T585 404Q540 404 506 370Q479 343 472 315T464 232V168V108Q464 78 465 68T468 55T477 49Q498 46 526 46H542V0H534L510 1Q487 2 460 2T422 3Q319 3 310 0H302V46H318Q379 46 379 62Q380 64 380 200Q379 335 378 343Q372 371 358 385T334 402T308 404Q263 404 229 370Q202 343 195 315T187 232V168V108Q187 78 188 68T191 55T200 49Q221 46 249 46H265V0H257L234 1Q210 2 183 2T145 3Q42 3 33 0H25V46H41Z\"/><path stroke-width=\"1\" id=\"MJMAIN-62\" d=\"M307 -11Q234 -11 168 55L158 37Q156 34 153 28T147 17T143 10L138 1L118 0H98V298Q98 599 97 603Q94 622 83 628T38 637H20V660Q20 683 22 683L32 684Q42 685 61 686T98 688Q115 689 135 690T165 693T176 694H179V543Q179 391 180 391L183 394Q186 397 192 401T207 411T228 421T254 431T286 439T323 442Q401 442 461 379T522 216Q522 115 458 52T307 -11ZM182 98Q182 97 187 90T196 79T206 67T218 55T233 44T250 35T271 29T295 26Q330 26 363 46T412 113Q424 148 424 212Q424 287 412 323Q385 405 300 405Q270 405 239 390T188 347L182 339V98Z\"/></defs><g stroke=\"rgb(42, 63, 95)\" fill=\"rgb(42, 63, 95)\" stroke-width=\"0\" transform=\"matrix(1 0 0 -1 0 0)\"><use transform=\"scale(1.44)\" xlink:href=\"#MJMAIN-49\"/><use transform=\"scale(1.44)\" xlink:href=\"#MJMAIN-6E\" x=\"361\" y=\"0\"/><use transform=\"scale(1.44)\" xlink:href=\"#MJMAIN-63\" x=\"918\" y=\"0\"/><use transform=\"scale(1.44)\" xlink:href=\"#MJMAIN-69\" x=\"1362\" y=\"0\"/><use transform=\"scale(1.44)\" xlink:href=\"#MJMAIN-64\" x=\"1641\" y=\"0\"/><use transform=\"scale(1.44)\" xlink:href=\"#MJMAIN-65\" x=\"2197\" y=\"0\"/><use transform=\"scale(1.44)\" xlink:href=\"#MJMAIN-6E\" x=\"2642\" y=\"0\"/><use transform=\"scale(1.44)\" xlink:href=\"#MJMAIN-74\" x=\"3198\" y=\"0\"/><use transform=\"scale(1.44)\" xlink:href=\"#MJMAIN-6E\" x=\"3761\" y=\"0\"/><use transform=\"scale(1.44)\" xlink:href=\"#MJMAIN-65\" x=\"4318\" y=\"0\"/><use transform=\"scale(1.44)\" xlink:href=\"#MJMAIN-75\" x=\"4762\" y=\"0\"/><use transform=\"scale(1.44)\" xlink:href=\"#MJMAIN-74\" x=\"5319\" y=\"0\"/><use transform=\"scale(1.44)\" xlink:href=\"#MJMAIN-72\" x=\"5708\" y=\"0\"/><use transform=\"scale(1.44)\" xlink:href=\"#MJMAIN-6F\" x=\"6101\" y=\"0\"/><use transform=\"scale(1.44)\" xlink:href=\"#MJMAIN-6E\" x=\"6601\" y=\"0\"/><use transform=\"scale(1.44)\" xlink:href=\"#MJMAIN-77\" x=\"7331\" y=\"0\"/><use transform=\"scale(1.44)\" xlink:href=\"#MJMAIN-61\" x=\"8054\" y=\"0\"/><use transform=\"scale(1.44)\" xlink:href=\"#MJMAIN-76\" x=\"8554\" y=\"0\"/><use transform=\"scale(1.44)\" xlink:href=\"#MJMAIN-65\" x=\"9083\" y=\"0\"/><use transform=\"scale(1.44)\" xlink:href=\"#MJMAIN-6C\" x=\"9527\" y=\"0\"/><use transform=\"scale(1.44)\" xlink:href=\"#MJMAIN-65\" x=\"9806\" y=\"0\"/><use transform=\"scale(1.44)\" xlink:href=\"#MJMAIN-6E\" x=\"10250\" y=\"0\"/><use transform=\"scale(1.44)\" xlink:href=\"#MJMAIN-67\" x=\"10807\" y=\"0\"/><use transform=\"scale(1.44)\" xlink:href=\"#MJMAIN-74\" x=\"11307\" y=\"0\"/><use transform=\"scale(1.44)\" xlink:href=\"#MJMAIN-68\" x=\"11697\" y=\"0\"/><use transform=\"scale(1.44)\" xlink:href=\"#MJMAIN-28\" x=\"12427\" y=\"0\"/><g transform=\"translate(18456,0)\"><use transform=\"scale(1.44)\" xlink:href=\"#MJMAIN-41\" x=\"0\" y=\"0\"/><use transform=\"scale(1.44)\" xlink:href=\"#MJMAIN-2DA\" x=\"125\" y=\"262\"/></g><use transform=\"scale(1.44)\" xlink:href=\"#MJMAIN-29\" x=\"13567\" y=\"0\"/></g></svg></g></g><g class=\"g-ytitle\"><g class=\"ytitle-math-group\" pointer-events=\"none\" data-unformatted=\"$\\Large \\textrm{Scattering cross section per atom (barn)}$\" data-math=\"Y\" transform=\"rotate(-90,25.35,269.5)translate(-251.462158203125,-22.300411224365234)\"><svg xmlns:xlink=\"http://www.w3.org/1999/xlink\" width=\"56.384ex\" height=\"48.09375\" viewBox=\"0 -1133.6 24276.3 1555.9\" role=\"img\" focusable=\"false\" aria-hidden=\"true\" style=\"vertical-align: -0.981ex; overflow: visible; pointer-events: none;\" class=\"ytitle-math\" preserveAspectRatio=\"xMinYMin meet\" x=\"25.35\" y=\"269.5\"><defs id=\"MathJax_SVG_glyphs\"><path stroke-width=\"1\" id=\"MJMAIN-49\" d=\"M328 0Q307 3 180 3T32 0H21V46H43Q92 46 106 49T126 60Q128 63 128 342Q128 620 126 623Q122 628 118 630T96 635T43 637H21V683H32Q53 680 180 680T328 683H339V637H317Q268 637 254 634T234 623Q232 620 232 342Q232 63 234 60Q238 55 242 53T264 48T317 46H339V0H328Z\"/><path stroke-width=\"1\" id=\"MJMAIN-6E\" d=\"M41 46H55Q94 46 102 60V68Q102 77 102 91T102 122T103 161T103 203Q103 234 103 269T102 328V351Q99 370 88 376T43 385H25V408Q25 431 27 431L37 432Q47 433 65 434T102 436Q119 437 138 438T167 441T178 442H181V402Q181 364 182 364T187 369T199 384T218 402T247 421T285 437Q305 442 336 442Q450 438 463 329Q464 322 464 190V104Q464 66 466 59T477 49Q498 46 526 46H542V0H534L510 1Q487 2 460 2T422 3Q319 3 310 0H302V46H318Q379 46 379 62Q380 64 380 200Q379 335 378 343Q372 371 358 385T334 402T308 404Q263 404 229 370Q202 343 195 315T187 232V168V108Q187 78 188 68T191 55T200 49Q221 46 249 46H265V0H257L234 1Q210 2 183 2T145 3Q42 3 33 0H25V46H41Z\"/><path stroke-width=\"1\" id=\"MJMAIN-63\" d=\"M370 305T349 305T313 320T297 358Q297 381 312 396Q317 401 317 402T307 404Q281 408 258 408Q209 408 178 376Q131 329 131 219Q131 137 162 90Q203 29 272 29Q313 29 338 55T374 117Q376 125 379 127T395 129H409Q415 123 415 120Q415 116 411 104T395 71T366 33T318 2T249 -11Q163 -11 99 53T34 214Q34 318 99 383T250 448T370 421T404 357Q404 334 387 320Z\"/><path stroke-width=\"1\" id=\"MJMAIN-69\" d=\"M69 609Q69 637 87 653T131 669Q154 667 171 652T188 609Q188 579 171 564T129 549Q104 549 87 564T69 609ZM247 0Q232 3 143 3Q132 3 106 3T56 1L34 0H26V46H42Q70 46 91 49Q100 53 102 60T104 102V205V293Q104 345 102 359T88 378Q74 385 41 385H30V408Q30 431 32 431L42 432Q52 433 70 434T106 436Q123 437 142 438T171 441T182 442H185V62Q190 52 197 50T232 46H255V0H247Z\"/><path stroke-width=\"1\" id=\"MJMAIN-64\" d=\"M376 495Q376 511 376 535T377 568Q377 613 367 624T316 637H298V660Q298 683 300 683L310 684Q320 685 339 686T376 688Q393 689 413 690T443 693T454 694H457V390Q457 84 458 81Q461 61 472 55T517 46H535V0Q533 0 459 -5T380 -11H373V44L365 37Q307 -11 235 -11Q158 -11 96 50T34 215Q34 315 97 378T244 442Q319 442 376 393V495ZM373 342Q328 405 260 405Q211 405 173 369Q146 341 139 305T131 211Q131 155 138 120T173 59Q203 26 251 26Q322 26 373 103V342Z\"/><path stroke-width=\"1\" id=\"MJMAIN-65\" d=\"M28 218Q28 273 48 318T98 391T163 433T229 448Q282 448 320 430T378 380T406 316T415 245Q415 238 408 231H126V216Q126 68 226 36Q246 30 270 30Q312 30 342 62Q359 79 369 104L379 128Q382 131 395 131H398Q415 131 415 121Q415 117 412 108Q393 53 349 21T250 -11Q155 -11 92 58T28 218ZM333 275Q322 403 238 411H236Q228 411 220 410T195 402T166 381T143 340T127 274V267H333V275Z\"/><path stroke-width=\"1\" id=\"MJMAIN-74\" d=\"M27 422Q80 426 109 478T141 600V615H181V431H316V385H181V241Q182 116 182 100T189 68Q203 29 238 29Q282 29 292 100Q293 108 293 146V181H333V146V134Q333 57 291 17Q264 -10 221 -10Q187 -10 162 2T124 33T105 68T98 100Q97 107 97 248V385H18V422H27Z\"/><path stroke-width=\"1\" id=\"MJMAIN-75\" d=\"M383 58Q327 -10 256 -10H249Q124 -10 105 89Q104 96 103 226Q102 335 102 348T96 369Q86 385 36 385H25V408Q25 431 27 431L38 432Q48 433 67 434T105 436Q122 437 142 438T172 441T184 442H187V261Q188 77 190 64Q193 49 204 40Q224 26 264 26Q290 26 311 35T343 58T363 90T375 120T379 144Q379 145 379 161T380 201T380 248V315Q380 361 370 372T320 385H302V431Q304 431 378 436T457 442H464V264Q464 84 465 81Q468 61 479 55T524 46H542V0Q540 0 467 -5T390 -11H383V58Z\"/><path stroke-width=\"1\" id=\"MJMAIN-72\" d=\"M36 46H50Q89 46 97 60V68Q97 77 97 91T98 122T98 161T98 203Q98 234 98 269T98 328L97 351Q94 370 83 376T38 385H20V408Q20 431 22 431L32 432Q42 433 60 434T96 436Q112 437 131 438T160 441T171 442H174V373Q213 441 271 441H277Q322 441 343 419T364 373Q364 352 351 337T313 322Q288 322 276 338T263 372Q263 381 265 388T270 400T273 405Q271 407 250 401Q234 393 226 386Q179 341 179 207V154Q179 141 179 127T179 101T180 81T180 66V61Q181 59 183 57T188 54T193 51T200 49T207 48T216 47T225 47T235 46T245 46H276V0H267Q249 3 140 3Q37 3 28 0H20V46H36Z\"/><path stroke-width=\"1\" id=\"MJMAIN-6F\" d=\"M28 214Q28 309 93 378T250 448Q340 448 405 380T471 215Q471 120 407 55T250 -10Q153 -10 91 57T28 214ZM250 30Q372 30 372 193V225V250Q372 272 371 288T364 326T348 362T317 390T268 410Q263 411 252 411Q222 411 195 399Q152 377 139 338T126 246V226Q126 130 145 91Q177 30 250 30Z\"/><path stroke-width=\"1\" id=\"MJMAIN-77\" d=\"M90 368Q84 378 76 380T40 385H18V431H24L43 430Q62 430 84 429T116 428Q206 428 221 431H229V385H215Q177 383 177 368Q177 367 221 239L265 113L339 328L333 345Q323 374 316 379Q308 384 278 385H258V431H264Q270 428 348 428Q439 428 454 431H461V385H452Q404 385 404 369Q404 366 418 324T449 234T481 143L496 100L537 219Q579 341 579 347Q579 363 564 373T530 385H522V431H529Q541 428 624 428Q692 428 698 431H703V385H697Q696 385 691 385T682 384Q635 377 619 334L559 161Q546 124 528 71Q508 12 503 1T487 -11H479Q460 -11 456 -4Q455 -3 407 133L361 267Q359 263 266 -4Q261 -11 243 -11H238Q225 -11 220 -3L90 368Z\"/><path stroke-width=\"1\" id=\"MJMAIN-61\" d=\"M137 305T115 305T78 320T63 359Q63 394 97 421T218 448Q291 448 336 416T396 340Q401 326 401 309T402 194V124Q402 76 407 58T428 40Q443 40 448 56T453 109V145H493V106Q492 66 490 59Q481 29 455 12T400 -6T353 12T329 54V58L327 55Q325 52 322 49T314 40T302 29T287 17T269 6T247 -2T221 -8T190 -11Q130 -11 82 20T34 107Q34 128 41 147T68 188T116 225T194 253T304 268H318V290Q318 324 312 340Q290 411 215 411Q197 411 181 410T156 406T148 403Q170 388 170 359Q170 334 154 320ZM126 106Q126 75 150 51T209 26Q247 26 276 49T315 109Q317 116 318 175Q318 233 317 233Q309 233 296 232T251 223T193 203T147 166T126 106Z\"/><path stroke-width=\"1\" id=\"MJMAIN-76\" d=\"M338 431Q344 429 422 429Q479 429 503 431H508V385H497Q439 381 423 345Q421 341 356 172T288 -2Q283 -11 263 -11Q244 -11 239 -2Q99 359 98 364Q93 378 82 381T43 385H19V431H25L33 430Q41 430 53 430T79 430T104 429T122 428Q217 428 232 431H240V385H226Q187 384 184 370Q184 366 235 234L286 102L377 341V349Q377 363 367 372T349 383T335 385H331V431H338Z\"/><path stroke-width=\"1\" id=\"MJMAIN-6C\" d=\"M42 46H56Q95 46 103 60V68Q103 77 103 91T103 124T104 167T104 217T104 272T104 329Q104 366 104 407T104 482T104 542T103 586T103 603Q100 622 89 628T44 637H26V660Q26 683 28 683L38 684Q48 685 67 686T104 688Q121 689 141 690T171 693T182 694H185V379Q185 62 186 60Q190 52 198 49Q219 46 247 46H263V0H255L232 1Q209 2 183 2T145 3T107 3T57 1L34 0H26V46H42Z\"/><path stroke-width=\"1\" id=\"MJMAIN-67\" d=\"M329 409Q373 453 429 453Q459 453 472 434T485 396Q485 382 476 371T449 360Q416 360 412 390Q410 404 415 411Q415 412 416 414V415Q388 412 363 393Q355 388 355 386Q355 385 359 381T368 369T379 351T388 325T392 292Q392 230 343 187T222 143Q172 143 123 171Q112 153 112 133Q112 98 138 81Q147 75 155 75T227 73Q311 72 335 67Q396 58 431 26Q470 -13 470 -72Q470 -139 392 -175Q332 -206 250 -206Q167 -206 107 -175Q29 -140 29 -75Q29 -39 50 -15T92 18L103 24Q67 55 67 108Q67 155 96 193Q52 237 52 292Q52 355 102 398T223 442Q274 442 318 416L329 409ZM299 343Q294 371 273 387T221 404Q192 404 171 388T145 343Q142 326 142 292Q142 248 149 227T179 192Q196 182 222 182Q244 182 260 189T283 207T294 227T299 242Q302 258 302 292T299 343ZM403 -75Q403 -50 389 -34T348 -11T299 -2T245 0H218Q151 0 138 -6Q118 -15 107 -34T95 -74Q95 -84 101 -97T122 -127T170 -155T250 -167Q319 -167 361 -139T403 -75Z\"/><path stroke-width=\"1\" id=\"MJMAIN-68\" d=\"M41 46H55Q94 46 102 60V68Q102 77 102 91T102 124T102 167T103 217T103 272T103 329Q103 366 103 407T103 482T102 542T102 586T102 603Q99 622 88 628T43 637H25V660Q25 683 27 683L37 684Q47 685 66 686T103 688Q120 689 140 690T170 693T181 694H184V367Q244 442 328 442Q451 442 463 329Q464 322 464 190V104Q464 66 466 59T477 49Q498 46 526 46H542V0H534L510 1Q487 2 460 2T422 3Q319 3 310 0H302V46H318Q379 46 379 62Q380 64 380 200Q379 335 378 343Q372 371 358 385T334 402T308 404Q263 404 229 370Q202 343 195 315T187 232V168V108Q187 78 188 68T191 55T200 49Q221 46 249 46H265V0H257L234 1Q210 2 183 2T145 3Q42 3 33 0H25V46H41Z\"/><path stroke-width=\"1\" id=\"MJMAIN-28\" d=\"M94 250Q94 319 104 381T127 488T164 576T202 643T244 695T277 729T302 750H315H319Q333 750 333 741Q333 738 316 720T275 667T226 581T184 443T167 250T184 58T225 -81T274 -167T316 -220T333 -241Q333 -250 318 -250H315H302L274 -226Q180 -141 137 -14T94 250Z\"/><path stroke-width=\"1\" id=\"MJMAIN-41\" d=\"M255 0Q240 3 140 3Q48 3 39 0H32V46H47Q119 49 139 88Q140 91 192 245T295 553T348 708Q351 716 366 716H376Q396 715 400 709Q402 707 508 390L617 67Q624 54 636 51T687 46H717V0H708Q699 3 581 3Q458 3 437 0H427V46H440Q510 46 510 64Q510 66 486 138L462 209H229L209 150Q189 91 189 85Q189 72 209 59T259 46H264V0H255ZM447 255L345 557L244 256Q244 255 345 255H447Z\"/><path stroke-width=\"1\" id=\"MJMAIN-2DA\" d=\"M147 628Q147 669 179 692T244 715Q298 715 325 689T352 629Q352 592 323 567T249 542Q202 542 175 567T147 628ZM313 628Q313 660 300 669T259 678H253Q248 678 242 678T234 679Q217 679 207 674T192 659T188 644T187 629Q187 600 198 590Q210 579 250 579H265Q279 579 288 581T305 595T313 628Z\"/><path stroke-width=\"1\" id=\"MJMAIN-29\" d=\"M60 749L64 750Q69 750 74 750H86L114 726Q208 641 251 514T294 250Q294 182 284 119T261 12T224 -76T186 -143T145 -194T113 -227T90 -246Q87 -249 86 -250H74Q66 -250 63 -250T58 -247T55 -238Q56 -237 66 -225Q221 -64 221 250T66 725Q56 737 55 738Q55 746 60 749Z\"/><path stroke-width=\"1\" id=\"MJMAIN-53\" d=\"M55 507Q55 590 112 647T243 704H257Q342 704 405 641L426 672Q431 679 436 687T446 700L449 704Q450 704 453 704T459 705H463Q466 705 472 699V462L466 456H448Q437 456 435 459T430 479Q413 605 329 646Q292 662 254 662Q201 662 168 626T135 542Q135 508 152 480T200 435Q210 431 286 412T370 389Q427 367 463 314T500 191Q500 110 448 45T301 -21Q245 -21 201 -4T140 27L122 41Q118 36 107 21T87 -7T78 -21Q76 -22 68 -22H64Q61 -22 55 -16V101Q55 220 56 222Q58 227 76 227H89Q95 221 95 214Q95 182 105 151T139 90T205 42T305 24Q352 24 386 62T420 155Q420 198 398 233T340 281Q284 295 266 300Q261 301 239 306T206 314T174 325T141 343T112 367T85 402Q55 451 55 507Z\"/><path stroke-width=\"1\" id=\"MJMAIN-73\" d=\"M295 316Q295 356 268 385T190 414Q154 414 128 401Q98 382 98 349Q97 344 98 336T114 312T157 287Q175 282 201 278T245 269T277 256Q294 248 310 236T342 195T359 133Q359 71 321 31T198 -10H190Q138 -10 94 26L86 19L77 10Q71 4 65 -1L54 -11H46H42Q39 -11 33 -5V74V132Q33 153 35 157T45 162H54Q66 162 70 158T75 146T82 119T101 77Q136 26 198 26Q295 26 295 104Q295 133 277 151Q257 175 194 187T111 210Q75 227 54 256T33 318Q33 357 50 384T93 424T143 442T187 447H198Q238 447 268 432L283 424L292 431Q302 440 314 448H322H326Q329 448 335 442V310L329 304H301Q295 310 295 316Z\"/><path stroke-width=\"1\" id=\"MJMAIN-70\" d=\"M36 -148H50Q89 -148 97 -134V-126Q97 -119 97 -107T97 -77T98 -38T98 6T98 55T98 106Q98 140 98 177T98 243T98 296T97 335T97 351Q94 370 83 376T38 385H20V408Q20 431 22 431L32 432Q42 433 61 434T98 436Q115 437 135 438T165 441T176 442H179V416L180 390L188 397Q247 441 326 441Q407 441 464 377T522 216Q522 115 457 52T310 -11Q242 -11 190 33L182 40V-45V-101Q182 -128 184 -134T195 -145Q216 -148 244 -148H260V-194H252L228 -193Q205 -192 178 -192T140 -191Q37 -191 28 -194H20V-148H36ZM424 218Q424 292 390 347T305 402Q234 402 182 337V98Q222 26 294 26Q345 26 384 80T424 218Z\"/><path stroke-width=\"1\" id=\"MJMAIN-6D\" d=\"M41 46H55Q94 46 102 60V68Q102 77 102 91T102 122T103 161T103 203Q103 234 103 269T102 328V351Q99 370 88 376T43 385H25V408Q25 431 27 431L37 432Q47 433 65 434T102 436Q119 437 138 438T167 441T178 442H181V402Q181 364 182 364T187 369T199 384T218 402T247 421T285 437Q305 442 336 442Q351 442 364 440T387 434T406 426T421 417T432 406T441 395T448 384T452 374T455 366L457 361L460 365Q463 369 466 373T475 384T488 397T503 410T523 422T546 432T572 439T603 442Q729 442 740 329Q741 322 741 190V104Q741 66 743 59T754 49Q775 46 803 46H819V0H811L788 1Q764 2 737 2T699 3Q596 3 587 0H579V46H595Q656 46 656 62Q657 64 657 200Q656 335 655 343Q649 371 635 385T611 402T585 404Q540 404 506 370Q479 343 472 315T464 232V168V108Q464 78 465 68T468 55T477 49Q498 46 526 46H542V0H534L510 1Q487 2 460 2T422 3Q319 3 310 0H302V46H318Q379 46 379 62Q380 64 380 200Q379 335 378 343Q372 371 358 385T334 402T308 404Q263 404 229 370Q202 343 195 315T187 232V168V108Q187 78 188 68T191 55T200 49Q221 46 249 46H265V0H257L234 1Q210 2 183 2T145 3Q42 3 33 0H25V46H41Z\"/><path stroke-width=\"1\" id=\"MJMAIN-62\" d=\"M307 -11Q234 -11 168 55L158 37Q156 34 153 28T147 17T143 10L138 1L118 0H98V298Q98 599 97 603Q94 622 83 628T38 637H20V660Q20 683 22 683L32 684Q42 685 61 686T98 688Q115 689 135 690T165 693T176 694H179V543Q179 391 180 391L183 394Q186 397 192 401T207 411T228 421T254 431T286 439T323 442Q401 442 461 379T522 216Q522 115 458 52T307 -11ZM182 98Q182 97 187 90T196 79T206 67T218 55T233 44T250 35T271 29T295 26Q330 26 363 46T412 113Q424 148 424 212Q424 287 412 323Q385 405 300 405Q270 405 239 390T188 347L182 339V98Z\"/></defs><g stroke=\"rgb(42, 63, 95)\" fill=\"rgb(42, 63, 95)\" stroke-width=\"0\" transform=\"matrix(1 0 0 -1 0 0)\"><use transform=\"scale(1.44)\" xlink:href=\"#MJMAIN-53\"/><use transform=\"scale(1.44)\" xlink:href=\"#MJMAIN-63\" x=\"556\" y=\"0\"/><use transform=\"scale(1.44)\" xlink:href=\"#MJMAIN-61\" x=\"1001\" y=\"0\"/><use transform=\"scale(1.44)\" xlink:href=\"#MJMAIN-74\" x=\"1501\" y=\"0\"/><use transform=\"scale(1.44)\" xlink:href=\"#MJMAIN-74\" x=\"1891\" y=\"0\"/><use transform=\"scale(1.44)\" xlink:href=\"#MJMAIN-65\" x=\"2280\" y=\"0\"/><use transform=\"scale(1.44)\" xlink:href=\"#MJMAIN-72\" x=\"2725\" y=\"0\"/><use transform=\"scale(1.44)\" xlink:href=\"#MJMAIN-69\" x=\"3117\" y=\"0\"/><use transform=\"scale(1.44)\" xlink:href=\"#MJMAIN-6E\" x=\"3396\" y=\"0\"/><use transform=\"scale(1.44)\" xlink:href=\"#MJMAIN-67\" x=\"3952\" y=\"0\"/><use transform=\"scale(1.44)\" xlink:href=\"#MJMAIN-63\" x=\"4626\" y=\"0\"/><use transform=\"scale(1.44)\" xlink:href=\"#MJMAIN-72\" x=\"5071\" y=\"0\"/><use transform=\"scale(1.44)\" xlink:href=\"#MJMAIN-6F\" x=\"5463\" y=\"0\"/><use transform=\"scale(1.44)\" xlink:href=\"#MJMAIN-73\" x=\"5964\" y=\"0\"/><use transform=\"scale(1.44)\" xlink:href=\"#MJMAIN-73\" x=\"6358\" y=\"0\"/><use transform=\"scale(1.44)\" xlink:href=\"#MJMAIN-73\" x=\"6926\" y=\"0\"/><use transform=\"scale(1.44)\" xlink:href=\"#MJMAIN-65\" x=\"7321\" y=\"0\"/><use transform=\"scale(1.44)\" xlink:href=\"#MJMAIN-63\" x=\"7765\" y=\"0\"/><use transform=\"scale(1.44)\" xlink:href=\"#MJMAIN-74\" x=\"8210\" y=\"0\"/><use transform=\"scale(1.44)\" xlink:href=\"#MJMAIN-69\" x=\"8599\" y=\"0\"/><use transform=\"scale(1.44)\" xlink:href=\"#MJMAIN-6F\" x=\"8878\" y=\"0\"/><use transform=\"scale(1.44)\" xlink:href=\"#MJMAIN-6E\" x=\"9378\" y=\"0\"/><use transform=\"scale(1.44)\" xlink:href=\"#MJMAIN-70\" x=\"10108\" y=\"0\"/><use transform=\"scale(1.44)\" xlink:href=\"#MJMAIN-65\" x=\"10665\" y=\"0\"/><use transform=\"scale(1.44)\" xlink:href=\"#MJMAIN-72\" x=\"11109\" y=\"0\"/><use transform=\"scale(1.44)\" xlink:href=\"#MJMAIN-61\" x=\"11675\" y=\"0\"/><use transform=\"scale(1.44)\" xlink:href=\"#MJMAIN-74\" x=\"12176\" y=\"0\"/><use transform=\"scale(1.44)\" xlink:href=\"#MJMAIN-6F\" x=\"12565\" y=\"0\"/><use transform=\"scale(1.44)\" xlink:href=\"#MJMAIN-6D\" x=\"13066\" y=\"0\"/><use transform=\"scale(1.44)\" xlink:href=\"#MJMAIN-28\" x=\"14073\" y=\"0\"/><use transform=\"scale(1.44)\" xlink:href=\"#MJMAIN-62\" x=\"14463\" y=\"0\"/><use transform=\"scale(1.44)\" xlink:href=\"#MJMAIN-61\" x=\"15019\" y=\"0\"/><use transform=\"scale(1.44)\" xlink:href=\"#MJMAIN-72\" x=\"15520\" y=\"0\"/><use transform=\"scale(1.44)\" xlink:href=\"#MJMAIN-6E\" x=\"15912\" y=\"0\"/><use transform=\"scale(1.44)\" xlink:href=\"#MJMAIN-29\" x=\"16469\" y=\"0\"/></g></svg></g></g></g></svg>"
      ]
     },
     "metadata": {},
     "output_type": "display_data"
    }
   ],
   "source": [
    "fig = make_subplots(rows = 1, cols = 1)\n",
    "fig.add_trace(\n",
    "    go.Scatter(\n",
    "        x = wavelength,\n",
    "        y = xs_O2,\n",
    "        mode = 'lines',\n",
    "        name = 'O2',\n",
    "    ),\n",
    "    row = 1, col = 1\n",
    ")\n",
    "fig.add_trace(\n",
    "    go.Scatter(\n",
    "        x = wavelength,\n",
    "        y = xs_ept,\n",
    "        mode = 'lines',\n",
    "        name = 'THF-hydrate',\n",
    "    ),\n",
    "    row = 1, col = 1\n",
    ")\n",
    "fig.add_trace(\n",
    "    go.Scatter(\n",
    "        x = wavelength,\n",
    "        y = xs_cla,\n",
    "        mode = 'lines',\n",
    "        name = 'THF+O2-hydrate',\n",
    "    ),\n",
    "    row = 1, col = 1\n",
    ")\n",
    "fig.add_trace(\n",
    "    go.Scatter(\n",
    "        x = wavelength,\n",
    "        y = xs_comb,\n",
    "        mode = 'lines',\n",
    "        name = 'Combined',\n",
    "    ),\n",
    "    row = 1, col = 1\n",
    ")\n",
    "fig.add_trace(\n",
    "    go.Scatter(\n",
    "        x = wavelength,\n",
    "        y = xs_ept*(17*3+13)/(17*3+13+3*2)+xs_O2*(3*2)/(17*3+13+3*2),\n",
    "        mode = 'lines',\n",
    "        line_dash = 'dash',\n",
    "        name = 'Combined calc',\n",
    "    ),\n",
    "    row = 1, col = 1\n",
    ")\n",
    "fig.update_xaxes(tickfont = dict(size = 20), linecolor = 'black', mirror = True, \n",
    "                 ticks = 'outside', exponentformat = 'power', row = 1, col = 1, \n",
    "                 #type = 'log', \n",
    "                 #range=[0,25],\n",
    "                 title = r'$\\Large \\textrm{Incident neutron wavelength } (\\mathring{\\textrm{A}})$', \n",
    "                 showgrid=True, gridwidth=.5, gridcolor='grey')\n",
    "fig.update_yaxes(tickfont = dict(size = 20), linecolor = 'black', mirror = True, \n",
    "                 ticks = 'outside', exponentformat = 'power', row = 1, col = 1, \n",
    "                 #type = 'log', \n",
    "                 #range = [0,9],\n",
    "                 title = r'$\\Large \\textrm{Scattering cross section per atom (barn)}$',\n",
    "                 showgrid=True, gridwidth=.5, gridcolor='grey')\n",
    "#fig.add_annotation(xref='paper',yref='paper',x=.5, y=.85, \n",
    "#                   text=r'$\\Large \\textrm{O2-D2O clathrates}$', showarrow=False)\n",
    "#fig.add_annotation(xref='paper',yref='paper',x=.5, y=.75, \n",
    "#                   text=r'$\\Large \\textrm{SII structure}$', showarrow=False)\n",
    "#fig.add_annotation(xref='paper',yref='paper',x=.5, y=.62, \n",
    "#                   text=r'$\\Large T=2\\textrm{ K}$', showarrow=False)\n",
    "fig.update_layout(\n",
    "    #paper_bgcolor = 'rgba(0,0,0,0)',\n",
    "    plot_bgcolor = 'rgba(0,0,0,0)',\n",
    "    font = dict(family = 'Times new roman', size = 24),\n",
    "    legend = dict(x = 0.7, y = 0.15, bordercolor = \"Black\", borderwidth = 1, font = dict(size = 18)),\n",
    "    margin = dict(l = 80, r = 20, t = 20, b = 60),\n",
    "    autosize=False,\n",
    "    width=700,\n",
    "    height=600\n",
    ")\n",
    "fig.show('svg')\n",
    "#fig.write_image('TDF-D2O-clathrates_XS_wavelength.eps',width=700,height=500)\n",
    "#fig.write_image('TDF-D2O-clathrates_XS_wavelength.png',width=700,height=500)"
   ]
  },
  {
   "cell_type": "code",
   "execution_count": null,
   "metadata": {},
   "outputs": [],
   "source": []
  }
 ],
 "metadata": {
  "kernelspec": {
   "display_name": "Python 3 (ipykernel)",
   "language": "python",
   "name": "python3"
  },
  "language_info": {
   "codemirror_mode": {
    "name": "ipython",
    "version": 3
   },
   "file_extension": ".py",
   "mimetype": "text/x-python",
   "name": "python",
   "nbconvert_exporter": "python",
   "pygments_lexer": "ipython3",
   "version": "3.12.3"
  }
 },
 "nbformat": 4,
 "nbformat_minor": 4
}

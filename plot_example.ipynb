{
 "cells": [
  {
   "cell_type": "code",
   "execution_count": 1,
   "metadata": {},
   "outputs": [],
   "source": [
    "import NCrystal as NC\n",
    "import numpy as np\n",
    "from plotly.subplots import make_subplots\n",
    "import plotly.graph_objects as go"
   ]
  },
  {
   "cell_type": "code",
   "execution_count": 2,
   "metadata": {},
   "outputs": [],
   "source": [
    "T = 2 # temperature "
   ]
  },
  {
   "cell_type": "code",
   "execution_count": 3,
   "metadata": {
    "tags": []
   },
   "outputs": [],
   "source": [
    "dcutoff = 0.5 # AA"
   ]
  },
  {
   "cell_type": "code",
   "execution_count": 4,
   "metadata": {},
   "outputs": [],
   "source": [
    "wavelength = np.linspace(0.01, 25, 1000)\n",
    "E = NC.wl2ekin(wavelength)"
   ]
  },
  {
   "cell_type": "code",
   "execution_count": 5,
   "metadata": {
    "tags": []
   },
   "outputs": [],
   "source": [
    "nc_O2   = 'ncplugin-MagScat_O2_pdos_deuterated_TDFO2-clathrate_mag.ncmat'\n",
    "nc_ept  = 'HighNESS_1088D2O_64TDF_0O2_sg1_ClathrateHydrate-sII.ncmat'\n",
    "nc_cla  = 'HighNESS_1088D2O_64TDF_128O2_sg1_ClathrateHydrate-sII.ncmat'\n",
    "nc_comb = 'HighNESS_1088D2O_64TDF_128O2_sg1_ClathrateHydrate-sII_mag.ncmat'"
   ]
  },
  {
   "cell_type": "code",
   "execution_count": 6,
   "metadata": {},
   "outputs": [
    {
     "name": "stdout",
     "output_type": "stream",
     "text": [
      "NCrystal::NCMATLoader WARNING: Loading NCMAT data which has @CUSTOM_ section(s). This is OK if intended.\n",
      "NCrystal WARNING: Discarding 198 edges of provided kernel data due to missing S values.\n",
      "NCrystal WARNING: Discarding 153 edges of provided kernel data due to missing S values.\n",
      "NCrystal WARNING: Discarding 150 edges of provided kernel data due to missing S values.\n",
      "NCrystal WARNING: Discarding 156 edges of provided kernel data due to missing S values.\n",
      "NCrystal WARNING: Discarding 165 edges of provided kernel data due to missing S values.\n",
      "NCrystal WARNING: Discarding 166 edges of provided kernel data due to missing S values.\n",
      "NCrystal WARNING: Discarding 153 edges of provided kernel data due to missing S values.\n",
      "NCrystal WARNING: Discarding 150 edges of provided kernel data due to missing S values.\n",
      "NCrystal WARNING: Discarding 156 edges of provided kernel data due to missing S values.\n",
      "NCrystal WARNING: Discarding 165 edges of provided kernel data due to missing S values.\n",
      "NCrystal WARNING: Discarding 166 edges of provided kernel data due to missing S values.\n",
      "NCrystal WARNING: Discarding 198 edges of provided kernel data due to missing S values.\n",
      "NCrystal::NCMATLoader WARNING: Loading NCMAT data which has @CUSTOM_ section(s). This is OK if intended.\n",
      "NCrystal WARNING: Discarding 153 edges of provided kernel data due to missing S values.\n",
      "NCrystal WARNING: Discarding 150 edges of provided kernel data due to missing S values.\n",
      "NCrystal WARNING: Discarding 156 edges of provided kernel data due to missing S values.\n",
      "NCrystal WARNING: Discarding 165 edges of provided kernel data due to missing S values.\n",
      "NCrystal WARNING: Discarding 166 edges of provided kernel data due to missing S values.\n",
      "NCrystal WARNING: Discarding 198 edges of provided kernel data due to missing S values.\n"
     ]
    }
   ],
   "source": [
    "O2    = NC.createScatter(nc_O2+';temp={}K;coh_elas=0'.format(T))\n",
    "ept   = NC.createScatter(nc_ept+';temp={}K;dcutoff={}'.format(T,dcutoff))\n",
    "cla   = NC.createScatter(nc_cla+';temp={}K;dcutoff={}'.format(T,dcutoff))\n",
    "comb  = NC.createScatter(nc_comb+';temp={}K;dcutoff={}'.format(T,dcutoff))\n",
    "\n",
    "xs_O2   = O2.crossSectionNonOriented(E)\n",
    "xs_ept  = ept.crossSectionNonOriented(E)\n",
    "xs_cla  = cla.crossSectionNonOriented(E)\n",
    "xs_comb = comb.crossSectionNonOriented(E)"
   ]
  },
  {
   "cell_type": "code",
   "execution_count": 9,
   "metadata": {},
   "outputs": [
    {
     "data": {
      "image/svg+xml": [
       "<svg class=\"main-svg\" xmlns=\"http://www.w3.org/2000/svg\" xmlns:xlink=\"http://www.w3.org/1999/xlink\" width=\"700\" height=\"500\" style=\"\" viewBox=\"0 0 700 500\"><rect x=\"0\" y=\"0\" width=\"700\" height=\"500\" style=\"fill: rgb(255, 255, 255); fill-opacity: 1;\"/><defs id=\"defs-79ecc8\"><g class=\"clips\"><clipPath id=\"clip79ecc8xyplot\" class=\"plotclip\"><rect width=\"598\" height=\"402\"/></clipPath><clipPath class=\"axesclip\" id=\"clip79ecc8x\"><rect x=\"80\" y=\"0\" width=\"598\" height=\"500\"/></clipPath><clipPath class=\"axesclip\" id=\"clip79ecc8y\"><rect x=\"0\" y=\"20\" width=\"700\" height=\"402\"/></clipPath><clipPath class=\"axesclip\" id=\"clip79ecc8xy\"><rect x=\"80\" y=\"20\" width=\"598\" height=\"402\"/></clipPath></g><g class=\"gradients\"/><g class=\"patterns\"/></defs><g class=\"bglayer\"><rect class=\"bg\" x=\"80\" y=\"20\" width=\"598\" height=\"402\" style=\"fill: rgb(0, 0, 0); fill-opacity: 0; stroke-width: 0;\"/></g><g class=\"layer-below\"><g class=\"imagelayer\"/><g class=\"shapelayer\"/></g><g class=\"cartesianlayer\"><g class=\"subplot xy\"><g class=\"layer-subplot\"><g class=\"shapelayer\"/><g class=\"imagelayer\"/></g><g class=\"minor-gridlayer\"><g class=\"x\"/><g class=\"y\"/></g><g class=\"gridlayer\"><g class=\"x\"><path class=\"xgrid crisp\" transform=\"translate(199.41,0)\" d=\"M0,20v402\" style=\"stroke: rgb(128, 128, 128); stroke-opacity: 1; stroke-width: 0.5px;\"/><path class=\"xgrid crisp\" transform=\"translate(319.06,0)\" d=\"M0,20v402\" style=\"stroke: rgb(128, 128, 128); stroke-opacity: 1; stroke-width: 0.5px;\"/><path class=\"xgrid crisp\" transform=\"translate(438.7,0)\" d=\"M0,20v402\" style=\"stroke: rgb(128, 128, 128); stroke-opacity: 1; stroke-width: 0.5px;\"/><path class=\"xgrid crisp\" transform=\"translate(558.35,0)\" d=\"M0,20v402\" style=\"stroke: rgb(128, 128, 128); stroke-opacity: 1; stroke-width: 0.5px;\"/></g><g class=\"y\"><path class=\"ygrid crisp\" transform=\"translate(0,392.31)\" d=\"M80,0h598\" style=\"stroke: rgb(128, 128, 128); stroke-opacity: 1; stroke-width: 0.5px;\"/><path class=\"ygrid crisp\" transform=\"translate(0,336.15)\" d=\"M80,0h598\" style=\"stroke: rgb(128, 128, 128); stroke-opacity: 1; stroke-width: 0.5px;\"/><path class=\"ygrid crisp\" transform=\"translate(0,279.99)\" d=\"M80,0h598\" style=\"stroke: rgb(128, 128, 128); stroke-opacity: 1; stroke-width: 0.5px;\"/><path class=\"ygrid crisp\" transform=\"translate(0,223.83)\" d=\"M80,0h598\" style=\"stroke: rgb(128, 128, 128); stroke-opacity: 1; stroke-width: 0.5px;\"/><path class=\"ygrid crisp\" transform=\"translate(0,167.67)\" d=\"M80,0h598\" style=\"stroke: rgb(128, 128, 128); stroke-opacity: 1; stroke-width: 0.5px;\"/><path class=\"ygrid crisp\" transform=\"translate(0,111.5)\" d=\"M80,0h598\" style=\"stroke: rgb(128, 128, 128); stroke-opacity: 1; stroke-width: 0.5px;\"/><path class=\"ygrid crisp\" transform=\"translate(0,55.34)\" d=\"M80,0h598\" style=\"stroke: rgb(128, 128, 128); stroke-opacity: 1; stroke-width: 0.5px;\"/></g></g><g class=\"zerolinelayer\"/><path class=\"xlines-below\"/><path class=\"ylines-below\"/><g class=\"overlines-below\"/><g class=\"xaxislayer-below\"/><g class=\"yaxislayer-below\"/><g class=\"overaxes-below\"/><g class=\"plot\" transform=\"translate(80,20)\" clip-path=\"url(#clip79ecc8xyplot)\"><g class=\"scatterlayer mlayer\"><g class=\"trace scatter traced6af41\" style=\"stroke-miterlimit: 2; opacity: 1;\"><g class=\"fills\"/><g class=\"errorbars\"/><g class=\"lines\"><path class=\"js-line\" d=\"M0,218.14L1.8,218.94L2.39,219.48L4.79,222.97L5.39,224.15L8.38,232.29L8.98,234.33L13.17,251.81L13.77,254.94L26.34,321.81L26.94,324.51L32.32,345.01L32.92,346.91L37.71,359.4L38.31,360.66L43.1,368.71L43.7,369.49L47.89,373.75L48.49,374.2L52.68,376.31L53.28,376.49L57.47,376.93L58.06,376.89L62.85,375.8L63.45,375.58L69.44,372.39L70.04,371.98L77.22,365.83L77.82,365.2L86.8,354.81L87.4,354.05L127.5,302.45L128.1,301.78L141.27,288.19L141.87,287.63L153.84,277.43L154.44,276.97L165.81,269.13L166.41,268.76L178.38,262.37L178.98,262.1L190.95,257.49L191.55,257.3L204.12,254.28L204.72,254.18L216.69,252.91L217.29,252.89L229.86,253.18L230.46,253.24L241.83,254.9L242.43,255.02L255.6,258.61L256.2,258.82L268.77,264L269.37,264.29L280.74,270.6L281.34,270.97L292.12,278.61L292.71,279.09L302.89,288.13L303.49,288.73L312.47,298.67L313.07,299.41L320.85,310.18L321.45,311.12L328.03,322.73L328.63,323.94L334.02,336.61L334.62,338.29L338.21,350.44L338.81,353.01L341.2,367.56L341.8,375.14L343,381.86L343.6,381.82L387.89,378.81L388.49,378.77L549.51,368.78L550.11,368.75L598,365.88\" style=\"vector-effect: non-scaling-stroke; fill: none; stroke: rgb(99, 110, 250); stroke-opacity: 1; stroke-width: 2px; opacity: 1;\"/></g><g class=\"points\"/><g class=\"text\"/></g><g class=\"trace scatter tracea1e0c1\" style=\"stroke-miterlimit: 2; opacity: 1;\"><g class=\"fills\"/><g class=\"errorbars\"/><g class=\"lines\"><path class=\"js-line\" d=\"M0,227.68L11.37,226.96L11.97,226.53L12.57,226.19L13.17,224.94L20.95,202.5L21.55,199.79L24.54,186.39L25.14,185.53L26.94,182.03L27.54,180.39L35.92,162.19L36.51,161.6L40.7,156.16L41.3,157.28L43.7,152.2L44.3,151.24L45.49,147.67L46.09,147.95L47.29,144.7L47.89,144.67L49.09,141.24L49.68,145.1L50.28,145.75L50.88,145.29L53.28,139.7L53.87,138.45L55.67,135.98L56.27,133.96L56.87,131.97L57.47,136.12L58.66,136.32L59.26,133.29L64.65,117.81L65.25,114.77L67.04,109.38L67.64,110.55L68.24,110.9L68.84,108.04L69.44,107.68L70.04,105.64L70.63,105.72L71.23,107.04L71.83,106.7L72.43,108.18L74.23,102.82L74.82,105.72L76.02,102.01L76.62,105.25L78.42,98.57L79.02,105.8L79.61,104.66L80.21,108.66L82.01,102.08L82.61,108.16L84.4,102.92L85,100.9L85.6,97.62L86.2,98.49L86.8,98.11L89.19,89.08L89.79,96.62L90.99,93.72L91.59,95.62L93.38,89.59L93.98,89.5L94.58,88.22L95.18,89.39L96.37,84.35L96.97,90.12L98.17,85.44L98.77,85.53L99.37,84.05L99.97,89.39L101.16,86.07L101.76,86.3L102.36,86.24L102.96,83.19L104.16,79.42L104.75,79.5L105.95,73.29L106.55,88.82L108.94,80.32L109.54,81.07L111.94,72.5L112.54,72.07L114.33,64.99L114.93,65.81L116.73,60.71L117.33,59.57L121.52,41.45L122.11,42.56L124.51,31.75L125.11,41.21L127.5,31.14L128.1,32.43L129.3,26.56L129.9,51.28L134.09,34.32L134.68,33.28L135.88,27.67L136.48,28.67L138.28,20.1L138.87,112.33L140.07,108.27L140.67,109.39L144.26,98.7L144.86,123.24L149.05,110.04L149.65,111.66L151.45,105.94L152.04,108.27L157.43,90.78L158.03,157.46L160.42,151.6L161.02,155.88L163.42,150.07L164.02,150.45L167.01,143.05L167.61,178.22L178.38,156.36L178.98,156.51L187.36,139.04L187.96,183.11L192.75,174.44L193.35,174.94L198.14,166.01L198.73,166.88L204.12,156.81L204.72,219.54L218.49,201.05L219.09,202.45L235.85,179.92L236.45,262.16L246.62,254.2L247.22,294.23L258.59,288.79L259.19,290.52L272.96,283.72L273.56,285.26L289.12,277.44L289.72,281.65L329.83,260.78L330.43,260.45L334.02,258.4L334.62,260.34L366.34,241.97L366.94,243.97L406.45,219.43L407.05,219.03L436.38,199.73L436.98,199.31L472.89,173.21L473.49,350.01L566.27,349.21L566.87,349.21L579.44,349.02L580.04,350.24L598,350.05\" style=\"vector-effect: non-scaling-stroke; fill: none; stroke: rgb(239, 85, 59); stroke-opacity: 1; stroke-width: 2px; opacity: 1;\"/></g><g class=\"points\"/><g class=\"text\"/></g><g class=\"trace scatter tracee06761\" style=\"stroke-miterlimit: 2; opacity: 1;\"><g class=\"fills\"/><g class=\"errorbars\"/><g class=\"lines\"><path class=\"js-line\" d=\"M0,227.12L11.97,226.42L12.57,226.13L15.56,218.86L16.16,217.28L19.16,210.7L19.75,208.66L22.75,195.74L23.35,192.36L24.54,188.8L25.14,188.04L26.94,184.94L27.54,183.42L35.32,167.14L35.92,167L40.7,162.11L41.3,163.55L43.7,158.56L44.3,157.53L45.49,153.93L46.09,154.42L47.29,151.5L47.89,152.05L49.09,149.02L49.68,153.32L50.88,154.23L51.48,152.45L52.68,151.45L53.28,149.96L56.27,145.39L56.87,143.52L57.47,147.03L58.06,146.35L58.66,146.66L61.06,138.59L61.66,137.89L64.05,131.63L64.65,129.88L67.04,121.28L67.64,121.75L68.24,121.59L68.84,118.93L69.44,118.8L70.04,116.97L71.83,121.16L72.43,123.32L74.23,118.6L74.82,121.04L76.02,118.11L76.62,122.27L78.42,116.39L79.02,125.96L79.61,124.94L80.21,128.8L82.01,123L82.61,131.19L83.21,128.67L83.8,129.08L84.4,127.81L85.6,123.04L86.2,124.34L86.8,124.04L87.4,121.34L87.99,118.32L88.59,118.48L89.19,116.13L89.79,120.53L90.39,118.74L91.59,117.71L92.18,114.7L94.58,109.86L95.18,110.97L96.37,106.27L96.97,110.76L98.17,106.52L98.77,106.53L99.37,105.17L99.97,109.11L101.16,106.04L101.76,106.21L102.96,102L103.56,99.12L104.75,98.36L105.35,95.46L105.95,92.51L106.55,101.3L108.94,92.95L109.54,93.95L111.94,85.81L112.54,85.44L114.33,78.68L114.93,79.62L116.73,74.59L117.33,73.55L120.32,62.3L120.92,61.12L121.52,58.23L122.11,59.43L123.31,53.61L123.91,55.16L124.51,52.41L125.11,56.49L127.5,47.06L128.1,48.67L129.3,43.05L129.9,64.96L134.09,48.56L134.68,47.68L135.88,42.28L136.48,44.16L138.28,35.91L138.87,154.6L140.07,151.21L140.67,152.77L144.26,144.17L144.86,185.64L149.05,175.89L149.65,178.03L151.45,173.84L152.04,176.52L157.43,163.65L158.03,250.05L160.42,246.91L161.02,251L163.42,247.9L164.02,248.68L167.01,244.76L167.61,279.4L174.19,273.37L174.79,273.66L178.38,270.22L178.98,270.96L182.57,267.53L183.17,267.95L187.36,263.82L187.96,285.43L192.75,281.79L193.35,282.76L198.14,279.01L198.73,280.35L204.12,276.23L204.72,306.67L218.49,299.65L219.09,301.4L226.87,297.39L227.47,298.18L235.85,293.83L236.45,324.39L246.62,321.51L247.22,331.15L258.59,328.76L259.19,330.48L272.96,327.55L273.56,329.13L289.12,325.93L289.72,329.35L334.02,320.32L334.62,322.24L366.34,315.27L366.94,317.17L432.79,302.28L433.39,302.12L472.89,291.78L473.49,354.56L564.48,353.81L565.08,353.8L579.44,353.6L580.04,354.83L598,354.65\" style=\"vector-effect: non-scaling-stroke; fill: none; stroke: rgb(0, 204, 150); stroke-opacity: 1; stroke-width: 2px; opacity: 1;\"/></g><g class=\"points\"/><g class=\"text\"/></g><g class=\"trace scatter traced97f0f\" style=\"stroke-miterlimit: 2; opacity: 1;\"><g class=\"fills\"/><g class=\"errorbars\"/><g class=\"lines\"><path class=\"js-line\" d=\"M0,226.86L7.78,227.66L8.38,227.76L12.57,228.14L13.17,227.24L17.36,219.7L17.96,218.83L20.95,210.37L21.55,208.18L24.54,197.27L25.14,196.73L26.94,194.25L27.54,192.96L35.92,178.74L36.51,178.32L40.7,174.07L41.3,175.18L43.7,170.83L44.3,170.01L45.49,166.86L46.09,167.17L47.29,164.29L47.89,164.3L49.09,161.24L49.68,164.81L50.88,165.03L51.48,163.17L53.28,160L53.87,158.86L55.67,156.63L56.27,154.79L56.87,152.97L57.47,156.76L58.66,156.93L59.26,154.16L64.65,139.86L65.25,137.06L67.04,132.05L67.64,133.09L68.24,133.38L68.84,130.73L69.44,130.37L70.04,128.47L70.63,128.51L71.23,129.67L71.83,129.32L72.43,130.63L74.23,125.61L74.82,128.21L76.02,124.73L76.62,127.64L78.42,121.37L79.02,127.92L79.61,126.83L80.21,130.43L82.01,124.24L82.61,129.74L84.4,124.77L85,122.86L85.6,119.79L86.2,120.53L86.8,120.11L89.19,111.59L89.79,118.42L90.99,115.64L91.59,117.3L93.38,111.58L93.98,111.43L94.58,110.19L95.18,111.2L96.37,106.44L96.97,111.65L98.17,107.24L98.77,107.24L99.37,105.83L99.97,110.63L101.16,107.46L101.76,107.61L102.36,107.48L102.96,104.62L104.16,101.04L104.75,101.05L105.95,95.22L106.55,109.36L108.94,101.32L109.54,101.93L111.94,93.83L112.54,93.37L114.33,86.7L114.93,87.39L116.73,82.53L117.33,81.42L121.52,64.42L122.11,65.37L124.51,55.25L125.11,63.84L127.5,54.4L128.1,55.52L129.3,50.03L129.9,72.58L134.09,56.68L134.68,55.68L135.88,50.45L136.48,51.32L138.28,43.33L138.87,127.6L140.07,123.79L140.67,124.77L144.26,114.71L144.86,137.1L149.05,124.71L149.65,126.15L151.45,120.8L152.04,122.89L157.43,106.55L158.03,167.48L160.42,161.98L161.02,165.85L165.21,157.93L165.81,156.6L167.01,153.8L167.61,185.92L178.38,165.45L178.98,165.56L187.36,149.29L187.96,189.57L192.75,181.52L193.35,181.95L198.14,173.68L198.73,174.47L204.12,165.16L204.72,222.51L218.49,205.49L219.09,206.77L235.85,186.26L236.45,261.46L246.62,254.35L247.22,290.96L258.59,286.3L259.19,287.89L272.96,282.21L273.56,283.64L289.12,277.35L289.72,281.23L332.22,265.64L332.82,265.46L334.02,265.11L334.62,267.02L340.6,266.03L341.2,266.13L343,266.42L343.6,266.1L366.34,253.82L366.94,255.65L404.65,234.08L405.25,233.72L451.34,205.1L451.94,204.7L472.89,190.37L473.49,352.01L579.44,350.56L580.04,351.67L598,351.41\" style=\"vector-effect: non-scaling-stroke; fill: none; stroke: rgb(171, 99, 250); stroke-opacity: 1; stroke-width: 2px; opacity: 1;\"/></g><g class=\"points\"/><g class=\"text\"/></g><g class=\"trace scatter tracea6c8f2\" style=\"stroke-miterlimit: 2; opacity: 1;\"><g class=\"fills\"/><g class=\"errorbars\"/><g class=\"lines\"><path class=\"js-line\" d=\"M0,226.86L7.78,227.66L8.38,227.76L12.57,228.14L13.17,227.24L17.36,219.7L17.96,218.83L20.95,210.37L21.55,208.18L24.54,197.27L25.14,196.73L26.94,194.25L27.54,192.96L35.92,178.74L36.51,178.32L40.7,174.07L41.3,175.18L43.7,170.83L44.3,170.01L45.49,166.86L46.09,167.17L47.29,164.29L47.89,164.3L49.09,161.24L49.68,164.81L50.88,165.03L51.48,163.17L53.28,160L53.87,158.86L55.67,156.63L56.27,154.79L56.87,152.97L57.47,156.76L58.66,156.93L59.26,154.16L64.65,139.86L65.25,137.06L67.04,132.05L67.64,133.09L68.24,133.38L68.84,130.73L69.44,130.37L70.04,128.47L70.63,128.51L71.23,129.67L71.83,129.32L72.43,130.63L74.23,125.61L74.82,128.21L76.02,124.73L76.62,127.64L78.42,121.37L79.02,127.92L79.61,126.83L80.21,130.43L82.01,124.24L82.61,129.74L84.4,124.77L85,122.86L85.6,119.79L86.2,120.53L86.8,120.11L89.19,111.59L89.79,118.42L90.99,115.64L91.59,117.3L93.38,111.58L93.98,111.43L94.58,110.19L95.18,111.2L96.37,106.44L96.97,111.65L98.17,107.24L98.77,107.24L99.37,105.83L99.97,110.63L101.16,107.46L101.76,107.61L102.36,107.48L102.96,104.62L104.16,101.04L104.75,101.05L105.95,95.22L106.55,109.36L108.94,101.32L109.54,101.93L111.94,93.83L112.54,93.37L114.33,86.7L114.93,87.39L116.73,82.53L117.33,81.42L121.52,64.42L122.11,65.37L124.51,55.25L125.11,63.84L127.5,54.4L128.1,55.52L129.3,50.03L129.9,72.58L134.09,56.68L134.68,55.68L135.88,50.45L136.48,51.32L138.28,43.33L138.87,127.6L140.07,123.79L140.67,124.77L144.26,114.71L144.86,137.1L149.05,124.71L149.65,126.15L151.45,120.8L152.04,122.89L157.43,106.55L158.03,167.48L160.42,161.98L161.02,165.85L165.21,157.93L165.81,156.6L167.01,153.8L167.61,185.92L178.38,165.45L178.98,165.56L187.36,149.29L187.96,189.57L192.75,181.52L193.35,181.95L198.14,173.68L198.73,174.47L204.12,165.16L204.72,222.51L218.49,205.49L219.09,206.77L235.85,186.26L236.45,261.46L246.62,254.35L247.22,290.96L258.59,286.3L259.19,287.89L272.96,282.21L273.56,283.64L289.12,277.35L289.72,281.23L332.22,265.64L332.82,265.46L334.02,265.11L334.62,267.02L340.6,266.03L341.2,266.13L343,266.42L343.6,266.1L366.34,253.82L366.94,255.65L404.65,234.08L405.25,233.72L451.34,205.1L451.94,204.7L472.89,190.37L473.49,352.01L579.44,350.56L580.04,351.67L598,351.41\" style=\"vector-effect: non-scaling-stroke; fill: none; stroke: rgb(255, 161, 90); stroke-opacity: 1; stroke-width: 2px; opacity: 1; stroke-dasharray: 9px, 9px;\"/></g><g class=\"points\"/><g class=\"text\"/></g></g></g><g class=\"overplot\"/><path class=\"xlines-above crisp\" d=\"M79,422.5H679M79,19.5H679\" style=\"fill: none; stroke-width: 1px; stroke: rgb(0, 0, 0); stroke-opacity: 1;\"/><path class=\"ylines-above crisp\" d=\"M79.5,20V422M678.5,20V422\" style=\"fill: none; stroke-width: 1px; stroke: rgb(0, 0, 0); stroke-opacity: 1;\"/><g class=\"overlines-above\"/><g class=\"xaxislayer-above\"><path class=\"xtick ticks crisp\" d=\"M0,423v5\" transform=\"translate(199.41,0)\" style=\"stroke: rgb(68, 68, 68); stroke-opacity: 1; stroke-width: 1px;\"/><path class=\"xtick ticks crisp\" d=\"M0,423v5\" transform=\"translate(319.06,0)\" style=\"stroke: rgb(68, 68, 68); stroke-opacity: 1; stroke-width: 1px;\"/><path class=\"xtick ticks crisp\" d=\"M0,423v5\" transform=\"translate(438.7,0)\" style=\"stroke: rgb(68, 68, 68); stroke-opacity: 1; stroke-width: 1px;\"/><path class=\"xtick ticks crisp\" d=\"M0,423v5\" transform=\"translate(558.35,0)\" style=\"stroke: rgb(68, 68, 68); stroke-opacity: 1; stroke-width: 1px;\"/><path class=\"xtick ticks crisp\" d=\"M0,423v5\" transform=\"translate(678,0)\" style=\"stroke: rgb(68, 68, 68); stroke-opacity: 1; stroke-width: 1px;\"/><g class=\"xtick\"><text text-anchor=\"middle\" x=\"0\" y=\"452\" transform=\"translate(199.41,0)\" style=\"font-family: 'Times new roman'; font-size: 20px; fill: rgb(42, 63, 95); fill-opacity: 1; white-space: pre; opacity: 1;\">5</text></g><g class=\"xtick\"><text text-anchor=\"middle\" x=\"0\" y=\"452\" style=\"font-family: 'Times new roman'; font-size: 20px; fill: rgb(42, 63, 95); fill-opacity: 1; white-space: pre; opacity: 1;\" transform=\"translate(319.06,0)\">10</text></g><g class=\"xtick\"><text text-anchor=\"middle\" x=\"0\" y=\"452\" style=\"font-family: 'Times new roman'; font-size: 20px; fill: rgb(42, 63, 95); fill-opacity: 1; white-space: pre; opacity: 1;\" transform=\"translate(438.7,0)\">15</text></g><g class=\"xtick\"><text text-anchor=\"middle\" x=\"0\" y=\"452\" style=\"font-family: 'Times new roman'; font-size: 20px; fill: rgb(42, 63, 95); fill-opacity: 1; white-space: pre; opacity: 1;\" transform=\"translate(558.35,0)\">20</text></g><g class=\"xtick\"><text text-anchor=\"middle\" x=\"0\" y=\"452\" style=\"font-family: 'Times new roman'; font-size: 20px; fill: rgb(42, 63, 95); fill-opacity: 1; white-space: pre; opacity: 1;\" transform=\"translate(678,0)\">25</text></g></g><g class=\"yaxislayer-above\"><path class=\"ytick ticks crisp\" d=\"M79,0h-5\" transform=\"translate(0,392.31)\" style=\"stroke: rgb(68, 68, 68); stroke-opacity: 1; stroke-width: 1px;\"/><path class=\"ytick ticks crisp\" d=\"M79,0h-5\" transform=\"translate(0,336.15)\" style=\"stroke: rgb(68, 68, 68); stroke-opacity: 1; stroke-width: 1px;\"/><path class=\"ytick ticks crisp\" d=\"M79,0h-5\" transform=\"translate(0,279.99)\" style=\"stroke: rgb(68, 68, 68); stroke-opacity: 1; stroke-width: 1px;\"/><path class=\"ytick ticks crisp\" d=\"M79,0h-5\" transform=\"translate(0,223.83)\" style=\"stroke: rgb(68, 68, 68); stroke-opacity: 1; stroke-width: 1px;\"/><path class=\"ytick ticks crisp\" d=\"M79,0h-5\" transform=\"translate(0,167.67)\" style=\"stroke: rgb(68, 68, 68); stroke-opacity: 1; stroke-width: 1px;\"/><path class=\"ytick ticks crisp\" d=\"M79,0h-5\" transform=\"translate(0,111.5)\" style=\"stroke: rgb(68, 68, 68); stroke-opacity: 1; stroke-width: 1px;\"/><path class=\"ytick ticks crisp\" d=\"M79,0h-5\" transform=\"translate(0,55.34)\" style=\"stroke: rgb(68, 68, 68); stroke-opacity: 1; stroke-width: 1px;\"/><g class=\"ytick\"><text text-anchor=\"end\" x=\"70\" y=\"7\" transform=\"translate(0,392.31)\" style=\"font-family: 'Times new roman'; font-size: 20px; fill: rgb(42, 63, 95); fill-opacity: 1; white-space: pre; opacity: 1;\">1</text></g><g class=\"ytick\"><text text-anchor=\"end\" x=\"70\" y=\"7\" style=\"font-family: 'Times new roman'; font-size: 20px; fill: rgb(42, 63, 95); fill-opacity: 1; white-space: pre; opacity: 1;\" transform=\"translate(0,336.15)\">2</text></g><g class=\"ytick\"><text text-anchor=\"end\" x=\"70\" y=\"7\" style=\"font-family: 'Times new roman'; font-size: 20px; fill: rgb(42, 63, 95); fill-opacity: 1; white-space: pre; opacity: 1;\" transform=\"translate(0,279.99)\">3</text></g><g class=\"ytick\"><text text-anchor=\"end\" x=\"70\" y=\"7\" style=\"font-family: 'Times new roman'; font-size: 20px; fill: rgb(42, 63, 95); fill-opacity: 1; white-space: pre; opacity: 1;\" transform=\"translate(0,223.83)\">4</text></g><g class=\"ytick\"><text text-anchor=\"end\" x=\"70\" y=\"7\" style=\"font-family: 'Times new roman'; font-size: 20px; fill: rgb(42, 63, 95); fill-opacity: 1; white-space: pre; opacity: 1;\" transform=\"translate(0,167.67)\">5</text></g><g class=\"ytick\"><text text-anchor=\"end\" x=\"70\" y=\"7\" style=\"font-family: 'Times new roman'; font-size: 20px; fill: rgb(42, 63, 95); fill-opacity: 1; white-space: pre; opacity: 1;\" transform=\"translate(0,111.5)\">6</text></g><g class=\"ytick\"><text text-anchor=\"end\" x=\"70\" y=\"7\" style=\"font-family: 'Times new roman'; font-size: 20px; fill: rgb(42, 63, 95); fill-opacity: 1; white-space: pre; opacity: 1;\" transform=\"translate(0,55.34)\">7</text></g></g><g class=\"overaxes-above\"/></g></g><g class=\"polarlayer\"/><g class=\"smithlayer\"/><g class=\"ternarylayer\"/><g class=\"geolayer\"/><g class=\"funnelarealayer\"/><g class=\"pielayer\"/><g class=\"iciclelayer\"/><g class=\"treemaplayer\"/><g class=\"sunburstlayer\"/><g class=\"glimages\"/><defs id=\"topdefs-79ecc8\"><g class=\"clips\"/><clipPath id=\"legend79ecc8\"><rect width=\"180\" height=\"142\" x=\"1\" y=\"1\"/></clipPath></defs><g class=\"layer-above\"><g class=\"imagelayer\"/><g class=\"shapelayer\"/></g><g class=\"infolayer\"><g class=\"legend\" pointer-events=\"all\" transform=\"translate(498.59999999999997,20)\"><rect class=\"bg\" shape-rendering=\"crispEdges\" width=\"181\" height=\"143\" x=\"0.5\" y=\"0.5\" style=\"stroke: rgb(0, 0, 0); stroke-opacity: 1; fill: rgb(255, 255, 255); fill-opacity: 1; stroke-width: 1px;\"/><g class=\"scrollbox\" transform=\"\" clip-path=\"url(#legend79ecc8)\"><g class=\"groups\"><g class=\"traces\" transform=\"translate(1,19.200000000000003)\" style=\"opacity: 1;\"><text class=\"legendtext\" text-anchor=\"start\" x=\"40\" y=\"7.0200000000000005\" style=\"font-family: 'Times new roman'; font-size: 18px; fill: rgb(42, 63, 95); fill-opacity: 1; white-space: pre;\">O2</text><g class=\"layers\" style=\"opacity: 1;\"><g class=\"legendfill\"/><g class=\"legendlines\"><path class=\"js-line\" d=\"M5,0h30\" style=\"fill: none; stroke: rgb(99, 110, 250); stroke-opacity: 1; stroke-width: 2px;\"/></g><g class=\"legendsymbols\"><g class=\"legendpoints\"/></g></g><rect class=\"legendtoggle\" x=\"0\" y=\"-13.200000000000001\" width=\"174.109375\" height=\"26.400000000000002\" style=\"fill: rgb(0, 0, 0); fill-opacity: 0;\"/></g><g class=\"traces\" transform=\"translate(1,45.6)\" style=\"opacity: 1;\"><text class=\"legendtext\" text-anchor=\"start\" x=\"40\" y=\"7.0200000000000005\" style=\"font-family: 'Times new roman'; font-size: 18px; fill: rgb(42, 63, 95); fill-opacity: 1; white-space: pre;\">THF-clathrate</text><g class=\"layers\" style=\"opacity: 1;\"><g class=\"legendfill\"/><g class=\"legendlines\"><path class=\"js-line\" d=\"M5,0h30\" style=\"fill: none; stroke: rgb(239, 85, 59); stroke-opacity: 1; stroke-width: 2px;\"/></g><g class=\"legendsymbols\"><g class=\"legendpoints\"/></g></g><rect class=\"legendtoggle\" x=\"0\" y=\"-13.200000000000001\" width=\"174.109375\" height=\"26.400000000000002\" style=\"fill: rgb(0, 0, 0); fill-opacity: 0;\"/></g><g class=\"traces\" transform=\"translate(1,72)\" style=\"opacity: 1;\"><text class=\"legendtext\" text-anchor=\"start\" x=\"40\" y=\"7.0200000000000005\" style=\"font-family: 'Times new roman'; font-size: 18px; fill: rgb(42, 63, 95); fill-opacity: 1; white-space: pre;\">THF+O2-clathrate</text><g class=\"layers\" style=\"opacity: 1;\"><g class=\"legendfill\"/><g class=\"legendlines\"><path class=\"js-line\" d=\"M5,0h30\" style=\"fill: none; stroke: rgb(0, 204, 150); stroke-opacity: 1; stroke-width: 2px;\"/></g><g class=\"legendsymbols\"><g class=\"legendpoints\"/></g></g><rect class=\"legendtoggle\" x=\"0\" y=\"-13.200000000000001\" width=\"174.109375\" height=\"26.400000000000002\" style=\"fill: rgb(0, 0, 0); fill-opacity: 0;\"/></g><g class=\"traces\" transform=\"translate(1,98.4)\" style=\"opacity: 1;\"><text class=\"legendtext\" text-anchor=\"start\" x=\"40\" y=\"7.0200000000000005\" style=\"font-family: 'Times new roman'; font-size: 18px; fill: rgb(42, 63, 95); fill-opacity: 1; white-space: pre;\">Combined</text><g class=\"layers\" style=\"opacity: 1;\"><g class=\"legendfill\"/><g class=\"legendlines\"><path class=\"js-line\" d=\"M5,0h30\" style=\"fill: none; stroke: rgb(171, 99, 250); stroke-opacity: 1; stroke-width: 2px;\"/></g><g class=\"legendsymbols\"><g class=\"legendpoints\"/></g></g><rect class=\"legendtoggle\" x=\"0\" y=\"-13.200000000000001\" width=\"174.109375\" height=\"26.400000000000002\" style=\"fill: rgb(0, 0, 0); fill-opacity: 0;\"/></g><g class=\"traces\" transform=\"translate(1,124.80000000000001)\" style=\"opacity: 1;\"><text class=\"legendtext\" text-anchor=\"start\" x=\"40\" y=\"7.0200000000000005\" style=\"font-family: 'Times new roman'; font-size: 18px; fill: rgb(42, 63, 95); fill-opacity: 1; white-space: pre;\">Combined calc</text><g class=\"layers\" style=\"opacity: 1;\"><g class=\"legendfill\"/><g class=\"legendlines\"><path class=\"js-line\" d=\"M5,0h30\" style=\"fill: none; stroke: rgb(255, 161, 90); stroke-opacity: 1; stroke-dasharray: 9px, 9px; stroke-width: 2px;\"/></g><g class=\"legendsymbols\"><g class=\"legendpoints\"/></g></g><rect class=\"legendtoggle\" x=\"0\" y=\"-13.200000000000001\" width=\"174.109375\" height=\"26.400000000000002\" style=\"fill: rgb(0, 0, 0); fill-opacity: 0;\"/></g></g></g><rect class=\"scrollbar\" rx=\"20\" ry=\"3\" width=\"0\" height=\"0\" x=\"0\" y=\"0\" style=\"fill: rgb(128, 139, 164); fill-opacity: 1;\"/></g><g class=\"g-gtitle\"/><g class=\"g-xtitle\"><text class=\"xtitle\" x=\"379\" y=\"487.8\" text-anchor=\"middle\" style=\"font-family: 'Times new roman'; font-size: 24px; fill: rgb(42, 63, 95); opacity: 1; font-weight: normal; white-space: pre;\">Incident neutron wavelength (Angstrom)</text></g><g class=\"g-ytitle\"><text class=\"ytitle\" transform=\"rotate(-90,28.200000000000003,221)\" x=\"28.200000000000003\" y=\"221\" text-anchor=\"middle\" style=\"font-family: 'Times new roman'; font-size: 24px; fill: rgb(42, 63, 95); opacity: 1; font-weight: normal; white-space: pre;\">Scattering cross section per atom (barn)</text></g></g></svg>"
      ]
     },
     "metadata": {},
     "output_type": "display_data"
    }
   ],
   "source": [
    "fig = make_subplots(rows = 1, cols = 1)\n",
    "fig.add_trace(\n",
    "    go.Scatter(\n",
    "        x = wavelength,\n",
    "        y = xs_O2,\n",
    "        mode = 'lines',\n",
    "        name = 'O2',\n",
    "    ),\n",
    "    row = 1, col = 1\n",
    ")\n",
    "fig.add_trace(\n",
    "    go.Scatter(\n",
    "        x = wavelength,\n",
    "        y = xs_ept,\n",
    "        mode = 'lines',\n",
    "        name = 'THF-clathrate',\n",
    "    ),\n",
    "    row = 1, col = 1\n",
    ")\n",
    "fig.add_trace(\n",
    "    go.Scatter(\n",
    "        x = wavelength,\n",
    "        y = xs_cla,\n",
    "        mode = 'lines',\n",
    "        name = 'THF+O2-clathrate',\n",
    "    ),\n",
    "    row = 1, col = 1\n",
    ")\n",
    "fig.add_trace(\n",
    "    go.Scatter(\n",
    "        x = wavelength,\n",
    "        y = xs_comb,\n",
    "        mode = 'lines',\n",
    "        name = 'Combined',\n",
    "    ),\n",
    "    row = 1, col = 1\n",
    ")\n",
    "fig.add_trace(\n",
    "    go.Scatter(\n",
    "        x = wavelength,\n",
    "        y = xs_ept*(17*3+13)/(17*3+13+3*2)+xs_O2*(3*2)/(17*3+13+3*2),\n",
    "        mode = 'lines',\n",
    "        line_dash = 'dash',\n",
    "        name = 'Combined calc',\n",
    "    ),\n",
    "    row = 1, col = 1\n",
    ")\n",
    "fig.update_xaxes(tickfont = dict(size = 20), linecolor = 'black', mirror = True, \n",
    "                 ticks = 'outside', exponentformat = 'power', row = 1, col = 1, \n",
    "                 #type = 'log', \n",
    "                 #range=[0,25],\n",
    "                 title = 'Incident neutron wavelength (Angstrom)', \n",
    "                 showgrid=True, gridwidth=.5, gridcolor='grey')\n",
    "fig.update_yaxes(tickfont = dict(size = 20), linecolor = 'black', mirror = True, \n",
    "                 ticks = 'outside', exponentformat = 'power', row = 1, col = 1, \n",
    "                 #type = 'log', \n",
    "                 #range = [0,9],\n",
    "                 title = 'Scattering cross section per atom (barn)',\n",
    "                 showgrid=True, gridwidth=.5, gridcolor='grey')\n",
    "fig.update_layout(\n",
    "    #paper_bgcolor = 'rgba(0,0,0,0)',\n",
    "    plot_bgcolor = 'rgba(0,0,0,0)',\n",
    "    font = dict(family = 'Times new roman', size = 20),\n",
    "    legend = dict(x = 0.7, y = 1., bordercolor = \"Black\", borderwidth = 1, font = dict(size = 18)),\n",
    "    margin = dict(l = 80, r = 20, t = 20, b = 60),\n",
    "    autosize=False,\n",
    "    width=700,\n",
    "    height=500\n",
    ")\n",
    "fig.show('svg')"
   ]
  },
  {
   "cell_type": "code",
   "execution_count": null,
   "metadata": {},
   "outputs": [],
   "source": []
  }
 ],
 "metadata": {
  "kernelspec": {
   "display_name": "Python 3 (ipykernel)",
   "language": "python",
   "name": "python3"
  },
  "language_info": {
   "codemirror_mode": {
    "name": "ipython",
    "version": 3
   },
   "file_extension": ".py",
   "mimetype": "text/x-python",
   "name": "python",
   "nbconvert_exporter": "python",
   "pygments_lexer": "ipython3",
   "version": "3.9.16"
  }
 },
 "nbformat": 4,
 "nbformat_minor": 4
}

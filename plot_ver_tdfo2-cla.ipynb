{
 "cells": [
  {
   "cell_type": "code",
   "execution_count": 1,
   "metadata": {},
   "outputs": [],
   "source": [
    "import NCrystal as NC\n",
    "import numpy as np\n",
    "from plotly.subplots import make_subplots\n",
    "import plotly.graph_objects as go"
   ]
  },
  {
   "cell_type": "code",
   "execution_count": 2,
   "metadata": {},
   "outputs": [],
   "source": [
    "T = 2 # temperature "
   ]
  },
  {
   "cell_type": "code",
   "execution_count": 3,
   "metadata": {
    "tags": []
   },
   "outputs": [],
   "source": [
    "dcutoff = 0.5 # AA"
   ]
  },
  {
   "cell_type": "code",
   "execution_count": 4,
   "metadata": {},
   "outputs": [],
   "source": [
    "wavelength = np.linspace(0.01, 25, 1000)\n",
    "E = NC.wl2ekin(wavelength)"
   ]
  },
  {
   "cell_type": "code",
   "execution_count": 5,
   "metadata": {
    "tags": []
   },
   "outputs": [],
   "source": [
    "nc_O2   = 'ncplugin-MagScat_O2_pdos_deuterated_TDFO2-clathrate_mag.ncmat'\n",
    "nc_ept  = 'HighNESS_1088D2O_64TDF_0O2_sg1_ClathrateHydrate-sII.ncmat'\n",
    "nc_cla  = 'HighNESS_1088D2O_64TDF_128O2_sg1_ClathrateHydrate-sII.ncmat'\n",
    "nc_comb = 'HighNESS_1088D2O_64TDF_128O2_sg1_ClathrateHydrate-sII_mag.ncmat'"
   ]
  },
  {
   "cell_type": "code",
   "execution_count": 6,
   "metadata": {},
   "outputs": [
    {
     "name": "stdout",
     "output_type": "stream",
     "text": [
      "NCrystal::NCMATLoader WARNING: Loading NCMAT data which has @CUSTOM_ section(s). This is OK if intended.\n",
      "2\n"
     ]
    },
    {
     "data": {
      "text/plain": [
       "36036.385139129285"
      ]
     },
     "execution_count": 6,
     "metadata": {},
     "output_type": "execute_result"
    }
   ],
   "source": [
    "O2info = NC.createInfo(nc_O2+';temp={}K'.format(T))\n",
    "print(O2info.getAtomInfo()[0].count.as_integer_ratio()[0])\n",
    "O2V = 192 * O2info.getAtomInfo()[0].count.as_integer_ratio()[0] * O2info.getAtomInfo()[0].atomData.averageMassAMU() / O2info.density\n",
    "O2V"
   ]
  },
  {
   "cell_type": "code",
   "execution_count": 7,
   "metadata": {},
   "outputs": [
    {
     "name": "stdout",
     "output_type": "stream",
     "text": [
      "H2(cohSL=6.671fm cohXS=5.59232barn incXS=2.05barn absXS=0.000519barn mass=2.0141amu Z=1 A=2)\n",
      "2176 2.01410177811\n",
      "H2(cohSL=6.671fm cohXS=5.59232barn incXS=2.05barn absXS=0.000519barn mass=2.0141amu Z=1 A=2)\n",
      "512 2.01410177811\n",
      "C(cohSL=6.646fm cohXS=5.55048barn incXS=0.001barn absXS=0.0035barn mass=12.011amu Z=6)\n",
      "256 12.0110369031873\n",
      "O(cohSL=5.803fm cohXS=4.2317barn incXS=0.0008barn absXS=0.00019barn mass=15.9993amu Z=8)\n",
      "1088 15.999304712099\n",
      "O(cohSL=5.803fm cohXS=4.2317barn incXS=0.0008barn absXS=0.00019barn mass=15.9993amu Z=8)\n",
      "64 15.999304712099\n"
     ]
    },
    {
     "data": {
      "text/plain": [
       "24216.589798454843"
      ]
     },
     "execution_count": 7,
     "metadata": {},
     "output_type": "execute_result"
    }
   ],
   "source": [
    "eptinfo = NC.createInfo(nc_ept+';temp={}K'.format(T))\n",
    "Mtot = 0\n",
    "for i in range(len(eptinfo.getAtomInfo())):\n",
    "    print(eptinfo.getAtomInfo()[i].atomData.description())\n",
    "    N = eptinfo.getAtomInfo()[i].count.as_integer_ratio()[0]\n",
    "    M = eptinfo.getAtomInfo()[i].atomData.averageMassAMU()\n",
    "    print(N, M)\n",
    "    Mtot += N * M\n",
    "eptV = Mtot / eptinfo.density\n",
    "eptV"
   ]
  },
  {
   "cell_type": "code",
   "execution_count": 8,
   "metadata": {},
   "outputs": [
    {
     "data": {
      "text/plain": [
       "0.5980847448023814"
      ]
     },
     "execution_count": 8,
     "metadata": {},
     "output_type": "execute_result"
    }
   ],
   "source": [
    "vf_O2 = O2V / (eptV + O2V)\n",
    "vf_O2"
   ]
  },
  {
   "cell_type": "code",
   "execution_count": 9,
   "metadata": {},
   "outputs": [
    {
     "data": {
      "text/plain": [
       "0.4019152551976186"
      ]
     },
     "execution_count": 9,
     "metadata": {},
     "output_type": "execute_result"
    }
   ],
   "source": [
    "vf_ept = 1 - vf_O2\n",
    "vf_ept"
   ]
  },
  {
   "cell_type": "code",
   "execution_count": 10,
   "metadata": {},
   "outputs": [
    {
     "name": "stdout",
     "output_type": "stream",
     "text": [
      "NCrystal WARNING: Discarding 187 edges of provided kernel data due to missing S values.\n",
      "NCrystal WARNING: Discarding 148 edges of provided kernel data due to missing S values.\n",
      "NCrystal WARNING: Discarding 145 edges of provided kernel data due to missing S values.\n",
      "NCrystal WARNING: Discarding 150 edges of provided kernel data due to missing S values.\n",
      "NCrystal WARNING: Discarding 164 edges of provided kernel data due to missing S values.\n",
      "NCrystal WARNING: Discarding 165 edges of provided kernel data due to missing S values.\n",
      "NCrystal WARNING: Discarding 148 edges of provided kernel data due to missing S values.\n",
      "NCrystal WARNING: Discarding 145 edges of provided kernel data due to missing S values.\n",
      "NCrystal WARNING: Discarding 150 edges of provided kernel data due to missing S values.\n",
      "NCrystal WARNING: Discarding 164 edges of provided kernel data due to missing S values.\n",
      "NCrystal WARNING: Discarding 165 edges of provided kernel data due to missing S values.\n",
      "NCrystal WARNING: Discarding 187 edges of provided kernel data due to missing S values.\n",
      "NCrystal::NCMATLoader WARNING: Loading NCMAT data which has @CUSTOM_ section(s). This is OK if intended.\n",
      "NCrystal WARNING: Discarding 148 edges of provided kernel data due to missing S values.\n",
      "NCrystal WARNING: Discarding 145 edges of provided kernel data due to missing S values.\n",
      "NCrystal WARNING: Discarding 150 edges of provided kernel data due to missing S values.\n",
      "NCrystal WARNING: Discarding 164 edges of provided kernel data due to missing S values.\n",
      "NCrystal WARNING: Discarding 165 edges of provided kernel data due to missing S values.\n",
      "NCrystal WARNING: Discarding 187 edges of provided kernel data due to missing S values.\n"
     ]
    }
   ],
   "source": [
    "O2    = NC.createScatter(nc_O2+';coh_elas=0;temp={}K;coh_elas=0'.format(T))\n",
    "ept   = NC.createScatter(nc_ept+';temp={}K;dcutoff={}'.format(T,dcutoff))\n",
    "cla   = NC.createScatter(nc_cla+';temp={}K;dcutoff={}'.format(T,dcutoff))\n",
    "comb  = NC.createScatter(nc_comb+';temp={}K;dcutoff={}'.format(T,dcutoff))\n",
    "\n",
    "xs_O2   = O2.crossSectionNonOriented(E)\n",
    "xs_ept  = ept.crossSectionNonOriented(E)\n",
    "xs_cla  = cla.crossSectionNonOriented(E)\n",
    "xs_comb = comb.crossSectionNonOriented(E)"
   ]
  },
  {
   "cell_type": "code",
   "execution_count": 11,
   "metadata": {},
   "outputs": [
    {
     "data": {
      "image/svg+xml": [
       "<svg class=\"main-svg\" xmlns=\"http://www.w3.org/2000/svg\" xmlns:xlink=\"http://www.w3.org/1999/xlink\" width=\"700\" height=\"600\" style=\"\" viewBox=\"0 0 700 600\"><rect x=\"0\" y=\"0\" width=\"700\" height=\"600\" style=\"fill: rgb(255, 255, 255); fill-opacity: 1;\"/><defs id=\"defs-fac25e\"><g class=\"clips\"><clipPath id=\"clipfac25exyplot\" class=\"plotclip\"><rect width=\"598\" height=\"499\"/></clipPath><clipPath class=\"axesclip\" id=\"clipfac25ex\"><rect x=\"80\" y=\"0\" width=\"598\" height=\"600\"/></clipPath><clipPath class=\"axesclip\" id=\"clipfac25ey\"><rect x=\"0\" y=\"20\" width=\"700\" height=\"499\"/></clipPath><clipPath class=\"axesclip\" id=\"clipfac25exy\"><rect x=\"80\" y=\"20\" width=\"598\" height=\"499\"/></clipPath></g><g class=\"gradients\"/><g class=\"patterns\"/></defs><g class=\"bglayer\"><rect class=\"bg\" x=\"80\" y=\"20\" width=\"598\" height=\"499\" style=\"fill: rgb(0, 0, 0); fill-opacity: 0; stroke-width: 0;\"/></g><g class=\"layer-below\"><g class=\"imagelayer\"/><g class=\"shapelayer\"/></g><g class=\"cartesianlayer\"><g class=\"subplot xy\"><g class=\"layer-subplot\"><g class=\"shapelayer\"/><g class=\"imagelayer\"/></g><g class=\"minor-gridlayer\"><g class=\"x\"/><g class=\"y\"/></g><g class=\"gridlayer\"><g class=\"x\"><path class=\"xgrid crisp\" transform=\"translate(199.41,0)\" d=\"M0,20v499\" style=\"stroke: rgb(128, 128, 128); stroke-opacity: 1; stroke-width: 0.5px;\"/><path class=\"xgrid crisp\" transform=\"translate(319.06,0)\" d=\"M0,20v499\" style=\"stroke: rgb(128, 128, 128); stroke-opacity: 1; stroke-width: 0.5px;\"/><path class=\"xgrid crisp\" transform=\"translate(438.7,0)\" d=\"M0,20v499\" style=\"stroke: rgb(128, 128, 128); stroke-opacity: 1; stroke-width: 0.5px;\"/><path class=\"xgrid crisp\" transform=\"translate(558.35,0)\" d=\"M0,20v499\" style=\"stroke: rgb(128, 128, 128); stroke-opacity: 1; stroke-width: 0.5px;\"/></g><g class=\"y\"><path class=\"ygrid crisp\" transform=\"translate(0,481.85)\" d=\"M80,0h598\" style=\"stroke: rgb(128, 128, 128); stroke-opacity: 1; stroke-width: 0.5px;\"/><path class=\"ygrid crisp\" transform=\"translate(0,411.59)\" d=\"M80,0h598\" style=\"stroke: rgb(128, 128, 128); stroke-opacity: 1; stroke-width: 0.5px;\"/><path class=\"ygrid crisp\" transform=\"translate(0,341.34)\" d=\"M80,0h598\" style=\"stroke: rgb(128, 128, 128); stroke-opacity: 1; stroke-width: 0.5px;\"/><path class=\"ygrid crisp\" transform=\"translate(0,271.09000000000003)\" d=\"M80,0h598\" style=\"stroke: rgb(128, 128, 128); stroke-opacity: 1; stroke-width: 0.5px;\"/><path class=\"ygrid crisp\" transform=\"translate(0,200.83)\" d=\"M80,0h598\" style=\"stroke: rgb(128, 128, 128); stroke-opacity: 1; stroke-width: 0.5px;\"/><path class=\"ygrid crisp\" transform=\"translate(0,130.57999999999998)\" d=\"M80,0h598\" style=\"stroke: rgb(128, 128, 128); stroke-opacity: 1; stroke-width: 0.5px;\"/><path class=\"ygrid crisp\" transform=\"translate(0,60.33)\" d=\"M80,0h598\" style=\"stroke: rgb(128, 128, 128); stroke-opacity: 1; stroke-width: 0.5px;\"/></g></g><g class=\"zerolinelayer\"/><path class=\"xlines-below\"/><path class=\"ylines-below\"/><g class=\"overlines-below\"/><g class=\"xaxislayer-below\"/><g class=\"yaxislayer-below\"/><g class=\"overaxes-below\"/><g class=\"plot\" transform=\"translate(80,20)\" clip-path=\"url(#clipfac25exyplot)\"><g class=\"scatterlayer mlayer\"><g class=\"trace scatter traceecc9e1\" style=\"stroke-miterlimit: 2; opacity: 1;\"><g class=\"fills\"/><g class=\"errorbars\"/><g class=\"lines\"><path class=\"js-line\" d=\"M0,268.98L2.39,270.07L2.99,270.61L5.99,274.47L6.58,275.76L9.58,282.26L10.18,283.96L14.37,296.89L14.96,299.52L20.95,328.53L21.55,331.8L33.52,393.95L34.12,396.51L40.11,418.15L40.7,419.93L46.09,433.3L46.69,434.5L51.48,442.2L52.08,442.96L56.87,447.42L57.47,447.8L61.66,449.5L62.25,449.61L67.04,449.52L67.64,449.39L73.03,447.27L73.63,446.93L79.02,442.87L79.61,442.31L86.2,435.05L86.8,434.3L96.97,420.09L97.57,419.19L130.49,371.16L131.09,370.38L143.66,355.21L144.26,354.55L156.23,342.44L156.83,341.9L167.61,333.02L168.21,332.58L179.58,325.2L180.18,324.86L190.95,319.71L191.55,319.47L202.92,315.86L203.52,315.72L214.3,313.94L214.9,313.89L226.27,313.69L226.87,313.72L238.24,315.19L238.84,315.31L250.81,318.66L251.41,318.88L262.78,323.83L263.38,324.13L275.36,331.34L275.95,331.76L286.13,339.7L286.73,340.23L296.9,350.16L297.5,350.81L307.08,362.45L307.68,363.27L316.06,375.94L316.66,376.95L323.84,390.57L324.44,391.86L330.43,406.47L331.03,408.15L335.81,424.08L336.41,426.51L339.41,441.51L340,445.51L341.2,456.14L341.8,465.6L342.4,474.05L343,474L343.6,473.94L506.41,460.85L507.01,460.81L598,453.95\" style=\"vector-effect: non-scaling-stroke; fill: none; stroke: rgb(99, 110, 250); stroke-opacity: 1; stroke-width: 2px; opacity: 1;\"/></g><g class=\"points\"/><g class=\"text\"/></g><g class=\"trace scatter tracef90ba0\" style=\"stroke-miterlimit: 2; opacity: 1;\"><g class=\"fills\"/><g class=\"errorbars\"/><g class=\"lines\"><path class=\"js-line\" d=\"M0,280.92L5.39,280.17L5.99,280L11.37,277.62L11.97,276.89L13.17,274.47L13.77,272.28L20.95,247.36L21.55,244.22L24.54,230.08L25.14,229.17L26.94,225.62L27.54,223.94L31.73,211.13L32.32,208.52L35.32,200.69L35.92,200.26L38.91,196.84L39.51,195.16L40.11,195.09L40.7,194.2L41.3,195.67L41.9,193.7L43.7,190.09L44.3,188.98L45.49,184.86L46.09,185.16L47.29,181.34L47.89,181.22L49.09,177.16L49.68,181.69L50.28,182.52L50.88,182.02L53.28,175.33L53.87,173.75L55.67,170.23L56.27,167.7L56.87,165.4L57.47,170.35L58.66,170.96L59.26,167.49L64.65,149.19L65.25,145.58L67.04,139.33L67.64,140.78L68.24,141.19L68.84,137.74L69.44,137.22L70.04,134.74L70.63,134.87L71.23,136.41L71.83,135.96L72.43,137.55L74.23,130.98L74.82,134.45L76.02,129.9L76.62,133.73L78.42,125.48L79.02,134.05L79.61,132.77L80.21,137.61L82.01,129.59L82.61,136.66L84.4,129.62L85,127.12L85.6,123.08L86.2,124.06L86.8,123.52L89.19,112.35L89.79,121.14L90.99,117.52L91.59,119.64L93.38,112.14L93.98,111.96L94.58,110.41L95.18,111.78L96.37,105.52L96.97,112.81L98.17,107.01L98.77,107.07L99.37,105.23L99.97,111.84L101.16,107.69L101.76,107.94L102.36,107.86L102.96,104.07L104.16,99.38L104.75,99.44L105.95,91.75L106.55,110.87L108.94,100.3L109.54,101.18L111.94,90.53L112.54,89.97L114.33,81.17L114.93,82.16L116.73,75.79L117.33,74.35L121.52,51.85L122.11,53.19L124.51,39.76L125.11,51.45L127.5,38.94L128.1,40.52L129.3,33.23L129.9,63.78L134.09,42.71L134.68,41.4L135.88,34.41L136.48,35.63L138.28,24.95L138.87,139.08L140.07,134.01L140.67,135.4L144.26,122.07L144.86,152.47L149.05,136.02L149.65,138.02L151.45,130.9L152.04,133.78L157.43,112L158.03,194.72L160.42,187.42L161.02,192.72L163.42,185.48L164.02,185.94L167.01,176.71L167.61,220.4L178.38,193.11L178.98,193.3L187.36,171.49L187.96,226.32L192.75,215.51L193.35,216.12L198.14,204.98L198.73,206.06L204.12,193.49L204.72,271.6L218.49,248.5L219.09,250.25L235.85,222.13L236.45,324.57L246.62,314.62L247.22,364.41L258.59,357.59L259.19,359.74L272.96,351.22L273.56,353.14L289.12,343.35L289.72,348.63L319.05,329.7L319.65,329.29L334.02,319.52L334.62,321.94L366.34,298.95L366.94,301.45L393.28,281.23L393.88,280.75L429.79,251.86L430.39,251.34L463.32,221.96L463.91,221.4L472.89,212.93L473.49,434.01L579.44,432.76L580.04,434.28L598,434.04\" style=\"vector-effect: non-scaling-stroke; fill: none; stroke: rgb(239, 85, 59); stroke-opacity: 1; stroke-width: 2px; opacity: 1;\"/></g><g class=\"points\"/><g class=\"text\"/></g><g class=\"trace scatter tracebe4866\" style=\"stroke-miterlimit: 2; opacity: 1;\"><g class=\"fills\"/><g class=\"errorbars\"/><g class=\"lines\"><path class=\"js-line\" d=\"M0,280.22L5.99,279.44L6.58,279.27L11.37,277.34L11.97,276.66L13.17,274.4L13.77,272.38L20.95,249.36L21.55,246.45L24.54,233.3L25.14,232.51L26.34,230.9L26.94,229.39L31.73,216.3L32.32,213.98L35.32,206.78L35.92,206.53L40.7,201.75L41.3,203.53L43.7,198.16L44.3,197.03L45.49,192.92L46.09,193.46L47.29,190.04L47.89,190.53L49.09,186.96L49.68,191.9L50.88,193.02L51.48,190.94L52.68,189.64L53.28,187.83L56.27,181.64L56.87,179.52L57.47,183.76L58.06,183.27L58.66,183.76L61.06,174.4L61.66,173.55L64.05,166.23L64.65,164.17L67.04,154.17L67.64,154.83L68.24,154.69L68.84,151.5L69.44,151.27L70.04,149.06L71.83,153.9L72.43,156.3L74.23,150.53L74.82,153.49L76.02,149.89L76.62,154.79L78.42,147.56L79.02,158.82L79.61,157.69L80.21,162.37L82.01,155.34L82.61,164.88L83.21,161.61L83.8,161.78L84.4,160.08L85.6,154.23L86.2,155.71L86.8,155.29L87.4,151.97L87.99,148.27L88.59,148.42L89.19,145.53L89.79,150.71L90.39,148.5L91.59,147.14L92.18,143.45L94.58,137.43L95.18,138.74L96.37,132.94L96.97,138.67L98.17,133.44L98.77,133.42L99.37,131.74L99.97,136.67L101.16,132.86L101.76,133.03L102.96,127.88L103.56,124.33L104.75,123.35L105.35,119.77L105.95,116.14L106.55,127.11L108.94,116.79L109.54,117.99L111.94,107.91L112.54,107.44L114.33,99.08L114.93,100.2L116.73,93.96L117.33,92.66L120.32,78.68L120.92,77.22L121.52,73.65L122.11,75.1L123.31,67.9L123.91,69.68L124.51,66.27L125.11,71.4L127.5,59.73L128.1,61.72L129.3,54.76L129.9,81.87L134.09,61.59L134.68,60.49L135.88,53.79L136.48,56.08L138.28,45.84L138.87,192.12L140.07,187.91L140.67,189.83L144.26,179.15L144.86,230.18L149.05,218.05L149.65,220.7L151.45,215.48L152.04,218.81L157.43,202.79L158.03,309.63L160.42,305.7L161.02,310.78L163.42,306.9L164.02,307.87L167.01,302.96L167.61,345.98L174.19,338.41L174.79,338.75L178.38,334.44L178.98,335.35L182.57,331.05L183.17,331.57L187.36,326.38L187.96,353.44L192.75,348.87L193.35,350.08L198.14,345.37L198.73,347.03L204.12,341.86L204.72,379.96L218.49,371.13L219.09,373.32L226.87,368.28L227.47,369.26L235.85,363.8L236.45,402.07L246.62,398.45L247.22,410.51L258.59,407.51L259.19,409.66L272.96,405.97L273.56,407.94L289.12,403.91L289.72,408.21L334.02,396.87L334.62,399.26L366.34,390.52L366.94,392.9L434.58,373.63L435.18,373.44L472.89,361.05L473.49,439.71L511.2,439.2L511.8,439.19L579.44,438.48L580.04,440.02L598,439.79\" style=\"vector-effect: non-scaling-stroke; fill: none; stroke: rgb(0, 204, 150); stroke-opacity: 1; stroke-width: 2px; opacity: 1;\"/></g><g class=\"points\"/><g class=\"text\"/></g><g class=\"trace scatter trace24ab95\" style=\"stroke-miterlimit: 2; opacity: 1;\"><g class=\"fills\"/><g class=\"errorbars\"/><g class=\"lines\"><path class=\"js-line\" d=\"M0,279.9L7.78,279.25L8.38,279.1L12.57,277.39L13.17,275.99L17.36,265.27L17.96,264.04L20.95,254.31L21.55,251.73L24.54,240.22L25.14,239.68L26.34,238.54L26.94,237.28L31.73,226.11L32.32,223.96L35.32,217.89L35.92,217.71L38.91,215.48L39.51,214.11L40.7,213.55L41.3,215.05L43.7,210.48L44.3,209.59L45.49,206.04L46.09,206.43L47.29,203.13L47.89,203.12L49.09,199.58L49.68,203.8L50.88,204.26L51.48,202.12L53.28,198.38L53.87,197L55.67,193.92L56.27,191.64L56.87,189.58L57.47,194.13L58.66,194.75L59.26,191.59L64.65,174.96L65.25,171.65L67.04,165.92L67.64,167.23L68.24,167.59L68.84,164.42L69.44,163.93L70.04,161.65L70.63,161.75L71.23,163.13L71.83,162.7L72.43,164.13L74.23,158.03L74.82,161.17L76.02,156.94L76.62,160.4L78.42,152.73L79.02,160.52L79.61,159.3L80.21,163.68L82.01,156.19L82.61,162.6L84.4,155.98L85,153.64L85.6,149.89L86.2,150.72L86.8,150.16L89.19,139.68L89.79,147.65L90.99,144.19L91.59,146.06L93.38,138.98L93.98,138.75L94.58,137.25L95.18,138.44L96.37,132.56L96.97,139.15L98.17,133.7L98.77,133.67L99.37,131.91L99.97,137.88L101.16,133.93L101.76,134.08L102.36,133.92L102.96,130.39L104.16,125.94L104.75,125.92L105.95,118.73L106.55,136.13L108.94,126.16L109.54,126.88L111.94,116.84L112.54,116.25L114.33,107.97L114.93,108.8L116.73,102.75L117.33,101.36L121.52,80.27L122.11,81.42L124.51,68.86L125.11,79.47L127.5,67.76L128.1,69.14L129.3,62.33L129.9,90.19L134.09,70.46L134.68,69.21L135.88,62.69L136.48,63.74L138.28,53.79L138.87,158.07L140.07,153.32L140.67,154.53L144.26,142L144.86,169.73L149.05,154.31L149.65,156.09L151.45,149.43L152.04,152.01L157.43,131.66L158.03,207.24L160.42,200.39L161.02,205.19L165.21,195.31L165.81,193.64L167.01,190.15L167.61,230.05L178.38,204.49L178.98,204.63L187.36,184.32L187.96,234.44L192.75,224.38L193.35,224.92L198.14,214.6L198.73,215.57L204.12,203.96L204.72,275.36L218.49,254.08L219.09,255.69L235.85,230.07L236.45,323.74L246.62,314.84L247.22,360.39L258.59,354.52L259.19,356.52L272.96,349.38L273.56,351.17L289.12,343.27L289.72,348.14L328.63,330.06L329.23,329.81L334.02,327.92L334.62,330.31L340.6,329.07L341.2,329.19L343,329.55L343.6,329.15L366.34,313.78L366.94,316.07L408.84,285.88L409.44,285.42L410.64,285.27L411.24,284.82L446.55,256.82L447.15,256.32L472.89,234.4L473.49,436.52L579.44,434.7L580.04,436.08L598,435.75\" style=\"vector-effect: non-scaling-stroke; fill: none; stroke: rgb(171, 99, 250); stroke-opacity: 1; stroke-width: 2px; opacity: 1;\"/></g><g class=\"points\"/><g class=\"text\"/></g><g class=\"trace scatter trace61f0a2\" style=\"stroke-miterlimit: 2; opacity: 1;\"><g class=\"fills\"/><g class=\"errorbars\"/><g class=\"lines\"><path class=\"js-line\" d=\"M0,279.9L7.78,279.25L8.38,279.1L12.57,277.39L13.17,275.99L17.36,265.27L17.96,264.04L20.95,254.31L21.55,251.73L24.54,240.22L25.14,239.68L26.34,238.54L26.94,237.28L31.73,226.11L32.32,223.96L35.32,217.89L35.92,217.71L38.91,215.48L39.51,214.11L40.7,213.55L41.3,215.05L43.7,210.48L44.3,209.59L45.49,206.04L46.09,206.43L47.29,203.13L47.89,203.12L49.09,199.58L49.68,203.8L50.88,204.26L51.48,202.12L53.28,198.38L53.87,197L55.67,193.92L56.27,191.64L56.87,189.58L57.47,194.13L58.66,194.75L59.26,191.59L64.65,174.96L65.25,171.65L67.04,165.92L67.64,167.23L68.24,167.59L68.84,164.42L69.44,163.93L70.04,161.65L70.63,161.75L71.23,163.13L71.83,162.7L72.43,164.13L74.23,158.03L74.82,161.17L76.02,156.94L76.62,160.4L78.42,152.73L79.02,160.52L79.61,159.3L80.21,163.68L82.01,156.19L82.61,162.6L84.4,155.98L85,153.64L85.6,149.89L86.2,150.72L86.8,150.16L89.19,139.68L89.79,147.65L90.99,144.19L91.59,146.06L93.38,138.98L93.98,138.75L94.58,137.25L95.18,138.44L96.37,132.56L96.97,139.15L98.17,133.7L98.77,133.67L99.37,131.91L99.97,137.88L101.16,133.93L101.76,134.08L102.36,133.92L102.96,130.39L104.16,125.94L104.75,125.92L105.95,118.73L106.55,136.13L108.94,126.16L109.54,126.88L111.94,116.84L112.54,116.25L114.33,107.97L114.93,108.8L116.73,102.75L117.33,101.36L121.52,80.27L122.11,81.42L124.51,68.86L125.11,79.47L127.5,67.76L128.1,69.14L129.3,62.33L129.9,90.19L134.09,70.46L134.68,69.21L135.88,62.69L136.48,63.74L138.28,53.79L138.87,158.07L140.07,153.32L140.67,154.53L144.26,142L144.86,169.73L149.05,154.31L149.65,156.09L151.45,149.43L152.04,152.01L157.43,131.66L158.03,207.24L160.42,200.39L161.02,205.19L165.21,195.31L165.81,193.64L167.01,190.15L167.61,230.05L178.38,204.49L178.98,204.63L187.36,184.32L187.96,234.44L192.75,224.38L193.35,224.92L198.14,214.6L198.73,215.57L204.12,203.96L204.72,275.36L218.49,254.08L219.09,255.69L235.85,230.07L236.45,323.74L246.62,314.84L247.22,360.39L258.59,354.52L259.19,356.52L272.96,349.38L273.56,351.17L289.12,343.27L289.72,348.14L328.63,330.06L329.23,329.81L334.02,327.92L334.62,330.31L340.6,329.07L341.2,329.19L343,329.55L343.6,329.15L366.34,313.78L366.94,316.07L408.84,285.88L409.44,285.42L410.64,285.27L411.24,284.82L446.55,256.82L447.15,256.32L472.89,234.4L473.49,436.52L579.44,434.7L580.04,436.08L598,435.75\" style=\"vector-effect: non-scaling-stroke; fill: none; stroke: rgb(255, 161, 90); stroke-opacity: 1; stroke-width: 2px; opacity: 1; stroke-dasharray: 9px, 9px;\"/></g><g class=\"points\"/><g class=\"text\"/></g></g></g><g class=\"overplot\"/><path class=\"xlines-above crisp\" d=\"M79,519.5H679M79,19.5H679\" style=\"fill: none; stroke-width: 1px; stroke: rgb(0, 0, 0); stroke-opacity: 1;\"/><path class=\"ylines-above crisp\" d=\"M79.5,20V519M678.5,20V519\" style=\"fill: none; stroke-width: 1px; stroke: rgb(0, 0, 0); stroke-opacity: 1;\"/><g class=\"overlines-above\"/><g class=\"xaxislayer-above\"><path class=\"xtick ticks crisp\" d=\"M0,520v5\" transform=\"translate(199.41,0)\" style=\"stroke: rgb(68, 68, 68); stroke-opacity: 1; stroke-width: 1px;\"/><path class=\"xtick ticks crisp\" d=\"M0,520v5\" transform=\"translate(319.06,0)\" style=\"stroke: rgb(68, 68, 68); stroke-opacity: 1; stroke-width: 1px;\"/><path class=\"xtick ticks crisp\" d=\"M0,520v5\" transform=\"translate(438.7,0)\" style=\"stroke: rgb(68, 68, 68); stroke-opacity: 1; stroke-width: 1px;\"/><path class=\"xtick ticks crisp\" d=\"M0,520v5\" transform=\"translate(558.35,0)\" style=\"stroke: rgb(68, 68, 68); stroke-opacity: 1; stroke-width: 1px;\"/><path class=\"xtick ticks crisp\" d=\"M0,520v5\" transform=\"translate(678,0)\" style=\"stroke: rgb(68, 68, 68); stroke-opacity: 1; stroke-width: 1px;\"/><g class=\"xtick\"><text text-anchor=\"middle\" x=\"0\" y=\"549\" transform=\"translate(199.41,0)\" style=\"font-family: 'Times new roman'; font-size: 20px; fill: rgb(42, 63, 95); fill-opacity: 1; white-space: pre; opacity: 1;\">5</text></g><g class=\"xtick\"><text text-anchor=\"middle\" x=\"0\" y=\"549\" style=\"font-family: 'Times new roman'; font-size: 20px; fill: rgb(42, 63, 95); fill-opacity: 1; white-space: pre; opacity: 1;\" transform=\"translate(319.06,0)\">10</text></g><g class=\"xtick\"><text text-anchor=\"middle\" x=\"0\" y=\"549\" style=\"font-family: 'Times new roman'; font-size: 20px; fill: rgb(42, 63, 95); fill-opacity: 1; white-space: pre; opacity: 1;\" transform=\"translate(438.7,0)\">15</text></g><g class=\"xtick\"><text text-anchor=\"middle\" x=\"0\" y=\"549\" style=\"font-family: 'Times new roman'; font-size: 20px; fill: rgb(42, 63, 95); fill-opacity: 1; white-space: pre; opacity: 1;\" transform=\"translate(558.35,0)\">20</text></g><g class=\"xtick\"><text text-anchor=\"middle\" x=\"0\" y=\"549\" style=\"font-family: 'Times new roman'; font-size: 20px; fill: rgb(42, 63, 95); fill-opacity: 1; white-space: pre; opacity: 1;\" transform=\"translate(678,0)\">25</text></g></g><g class=\"yaxislayer-above\"><path class=\"ytick ticks crisp\" d=\"M79,0h-5\" transform=\"translate(0,481.85)\" style=\"stroke: rgb(68, 68, 68); stroke-opacity: 1; stroke-width: 1px;\"/><path class=\"ytick ticks crisp\" d=\"M79,0h-5\" transform=\"translate(0,411.59)\" style=\"stroke: rgb(68, 68, 68); stroke-opacity: 1; stroke-width: 1px;\"/><path class=\"ytick ticks crisp\" d=\"M79,0h-5\" transform=\"translate(0,341.34)\" style=\"stroke: rgb(68, 68, 68); stroke-opacity: 1; stroke-width: 1px;\"/><path class=\"ytick ticks crisp\" d=\"M79,0h-5\" transform=\"translate(0,271.09000000000003)\" style=\"stroke: rgb(68, 68, 68); stroke-opacity: 1; stroke-width: 1px;\"/><path class=\"ytick ticks crisp\" d=\"M79,0h-5\" transform=\"translate(0,200.83)\" style=\"stroke: rgb(68, 68, 68); stroke-opacity: 1; stroke-width: 1px;\"/><path class=\"ytick ticks crisp\" d=\"M79,0h-5\" transform=\"translate(0,130.57999999999998)\" style=\"stroke: rgb(68, 68, 68); stroke-opacity: 1; stroke-width: 1px;\"/><path class=\"ytick ticks crisp\" d=\"M79,0h-5\" transform=\"translate(0,60.33)\" style=\"stroke: rgb(68, 68, 68); stroke-opacity: 1; stroke-width: 1px;\"/><g class=\"ytick\"><text text-anchor=\"end\" x=\"70\" y=\"7\" transform=\"translate(0,481.85)\" style=\"font-family: 'Times new roman'; font-size: 20px; fill: rgb(42, 63, 95); fill-opacity: 1; white-space: pre; opacity: 1;\">1</text></g><g class=\"ytick\"><text text-anchor=\"end\" x=\"70\" y=\"7\" style=\"font-family: 'Times new roman'; font-size: 20px; fill: rgb(42, 63, 95); fill-opacity: 1; white-space: pre; opacity: 1;\" transform=\"translate(0,411.59)\">2</text></g><g class=\"ytick\"><text text-anchor=\"end\" x=\"70\" y=\"7\" style=\"font-family: 'Times new roman'; font-size: 20px; fill: rgb(42, 63, 95); fill-opacity: 1; white-space: pre; opacity: 1;\" transform=\"translate(0,341.34)\">3</text></g><g class=\"ytick\"><text text-anchor=\"end\" x=\"70\" y=\"7\" style=\"font-family: 'Times new roman'; font-size: 20px; fill: rgb(42, 63, 95); fill-opacity: 1; white-space: pre; opacity: 1;\" transform=\"translate(0,271.09000000000003)\">4</text></g><g class=\"ytick\"><text text-anchor=\"end\" x=\"70\" y=\"7\" style=\"font-family: 'Times new roman'; font-size: 20px; fill: rgb(42, 63, 95); fill-opacity: 1; white-space: pre; opacity: 1;\" transform=\"translate(0,200.83)\">5</text></g><g class=\"ytick\"><text text-anchor=\"end\" x=\"70\" y=\"7\" style=\"font-family: 'Times new roman'; font-size: 20px; fill: rgb(42, 63, 95); fill-opacity: 1; white-space: pre; opacity: 1;\" transform=\"translate(0,130.57999999999998)\">6</text></g><g class=\"ytick\"><text text-anchor=\"end\" x=\"70\" y=\"7\" style=\"font-family: 'Times new roman'; font-size: 20px; fill: rgb(42, 63, 95); fill-opacity: 1; white-space: pre; opacity: 1;\" transform=\"translate(0,60.33)\">7</text></g></g><g class=\"overaxes-above\"/></g></g><g class=\"polarlayer\"/><g class=\"smithlayer\"/><g class=\"ternarylayer\"/><g class=\"geolayer\"/><g class=\"funnelarealayer\"/><g class=\"pielayer\"/><g class=\"iciclelayer\"/><g class=\"treemaplayer\"/><g class=\"sunburstlayer\"/><g class=\"glimages\"/><defs id=\"topdefs-fac25e\"><g class=\"clips\"/><clipPath id=\"legendfac25e\"><rect width=\"180\" height=\"142\" x=\"1\" y=\"1\"/></clipPath></defs><g class=\"layer-above\"><g class=\"imagelayer\"/><g class=\"shapelayer\"/></g><g class=\"infolayer\"><g class=\"legend\" pointer-events=\"all\" transform=\"translate(498.59999999999997,20)\"><rect class=\"bg\" shape-rendering=\"crispEdges\" style=\"stroke: rgb(0, 0, 0); stroke-opacity: 1; fill: rgb(255, 255, 255); fill-opacity: 1; stroke-width: 1px;\" width=\"181\" height=\"143\" x=\"0.5\" y=\"0.5\"/><g class=\"scrollbox\" transform=\"\" clip-path=\"url(#legendfac25e)\"><g class=\"groups\"><g class=\"traces\" transform=\"translate(1,19.200000000000003)\" style=\"opacity: 1;\"><text class=\"legendtext\" text-anchor=\"start\" x=\"40\" y=\"7.0200000000000005\" style=\"font-family: 'Times new roman'; font-size: 18px; fill: rgb(42, 63, 95); fill-opacity: 1; white-space: pre;\">O2</text><g class=\"layers\" style=\"opacity: 1;\"><g class=\"legendfill\"/><g class=\"legendlines\"><path class=\"js-line\" d=\"M5,0h30\" style=\"fill: none; stroke: rgb(99, 110, 250); stroke-opacity: 1; stroke-width: 2px;\"/></g><g class=\"legendsymbols\"><g class=\"legendpoints\"/></g></g><rect class=\"legendtoggle\" x=\"0\" y=\"-13.200000000000001\" width=\"174.109375\" height=\"26.400000000000002\" style=\"fill: rgb(0, 0, 0); fill-opacity: 0;\"/></g><g class=\"traces\" transform=\"translate(1,45.6)\" style=\"opacity: 1;\"><text class=\"legendtext\" text-anchor=\"start\" x=\"40\" y=\"7.0200000000000005\" style=\"font-family: 'Times new roman'; font-size: 18px; fill: rgb(42, 63, 95); fill-opacity: 1; white-space: pre;\">TDF-clathrate</text><g class=\"layers\" style=\"opacity: 1;\"><g class=\"legendfill\"/><g class=\"legendlines\"><path class=\"js-line\" d=\"M5,0h30\" style=\"fill: none; stroke: rgb(239, 85, 59); stroke-opacity: 1; stroke-width: 2px;\"/></g><g class=\"legendsymbols\"><g class=\"legendpoints\"/></g></g><rect class=\"legendtoggle\" x=\"0\" y=\"-13.200000000000001\" width=\"174.109375\" height=\"26.400000000000002\" style=\"fill: rgb(0, 0, 0); fill-opacity: 0;\"/></g><g class=\"traces\" transform=\"translate(1,72)\" style=\"opacity: 1;\"><text class=\"legendtext\" text-anchor=\"start\" x=\"40\" y=\"7.0200000000000005\" style=\"font-family: 'Times new roman'; font-size: 18px; fill: rgb(42, 63, 95); fill-opacity: 1; white-space: pre;\">TDF+O2-clathrate</text><g class=\"layers\" style=\"opacity: 1;\"><g class=\"legendfill\"/><g class=\"legendlines\"><path class=\"js-line\" d=\"M5,0h30\" style=\"fill: none; stroke: rgb(0, 204, 150); stroke-opacity: 1; stroke-width: 2px;\"/></g><g class=\"legendsymbols\"><g class=\"legendpoints\"/></g></g><rect class=\"legendtoggle\" x=\"0\" y=\"-13.200000000000001\" width=\"174.109375\" height=\"26.400000000000002\" style=\"fill: rgb(0, 0, 0); fill-opacity: 0;\"/></g><g class=\"traces\" transform=\"translate(1,98.4)\" style=\"opacity: 1;\"><text class=\"legendtext\" text-anchor=\"start\" x=\"40\" y=\"7.0200000000000005\" style=\"font-family: 'Times new roman'; font-size: 18px; fill: rgb(42, 63, 95); fill-opacity: 1; white-space: pre;\">Combined</text><g class=\"layers\" style=\"opacity: 1;\"><g class=\"legendfill\"/><g class=\"legendlines\"><path class=\"js-line\" d=\"M5,0h30\" style=\"fill: none; stroke: rgb(171, 99, 250); stroke-opacity: 1; stroke-width: 2px;\"/></g><g class=\"legendsymbols\"><g class=\"legendpoints\"/></g></g><rect class=\"legendtoggle\" x=\"0\" y=\"-13.200000000000001\" width=\"174.109375\" height=\"26.400000000000002\" style=\"fill: rgb(0, 0, 0); fill-opacity: 0;\"/></g><g class=\"traces\" transform=\"translate(1,124.80000000000001)\" style=\"opacity: 1;\"><text class=\"legendtext\" text-anchor=\"start\" x=\"40\" y=\"7.0200000000000005\" style=\"font-family: 'Times new roman'; font-size: 18px; fill: rgb(42, 63, 95); fill-opacity: 1; white-space: pre;\">Combined calc</text><g class=\"layers\" style=\"opacity: 1;\"><g class=\"legendfill\"/><g class=\"legendlines\"><path class=\"js-line\" d=\"M5,0h30\" style=\"fill: none; stroke: rgb(255, 161, 90); stroke-opacity: 1; stroke-dasharray: 9px, 9px; stroke-width: 2px;\"/></g><g class=\"legendsymbols\"><g class=\"legendpoints\"/></g></g><rect class=\"legendtoggle\" x=\"0\" y=\"-13.200000000000001\" width=\"174.109375\" height=\"26.400000000000002\" style=\"fill: rgb(0, 0, 0); fill-opacity: 0;\"/></g></g></g><rect class=\"scrollbar\" rx=\"20\" ry=\"3\" width=\"0\" height=\"0\" style=\"fill: rgb(128, 139, 164); fill-opacity: 1;\" x=\"0\" y=\"0\"/></g><g class=\"g-gtitle\"/><g class=\"g-xtitle\"><g class=\"xtitle-math-group\" pointer-events=\"none\" data-unformatted=\"$\\Large \\textrm{Incident neutron wavelength } (\\mathring{\\textrm{A}})$\" data-math=\"Y\"><svg xmlns:xlink=\"http://www.w3.org/1999/xlink\" width=\"46.679ex\" height=\"56.125\" viewBox=\"0 -1463 20097.8 1863.5\" role=\"img\" focusable=\"false\" aria-hidden=\"true\" style=\"vertical-align: -0.93ex; overflow: visible; pointer-events: none;\" class=\"xtitle-math\" preserveAspectRatio=\"xMinYMin meet\" x=\"170.70263671875\" y=\"562.5831592559814\"><defs id=\"MathJax_SVG_glyphs\"><path stroke-width=\"1\" id=\"MJMAIN-49\" d=\"M328 0Q307 3 180 3T32 0H21V46H43Q92 46 106 49T126 60Q128 63 128 342Q128 620 126 623Q122 628 118 630T96 635T43 637H21V683H32Q53 680 180 680T328 683H339V637H317Q268 637 254 634T234 623Q232 620 232 342Q232 63 234 60Q238 55 242 53T264 48T317 46H339V0H328Z\"/><path stroke-width=\"1\" id=\"MJMAIN-6E\" d=\"M41 46H55Q94 46 102 60V68Q102 77 102 91T102 122T103 161T103 203Q103 234 103 269T102 328V351Q99 370 88 376T43 385H25V408Q25 431 27 431L37 432Q47 433 65 434T102 436Q119 437 138 438T167 441T178 442H181V402Q181 364 182 364T187 369T199 384T218 402T247 421T285 437Q305 442 336 442Q450 438 463 329Q464 322 464 190V104Q464 66 466 59T477 49Q498 46 526 46H542V0H534L510 1Q487 2 460 2T422 3Q319 3 310 0H302V46H318Q379 46 379 62Q380 64 380 200Q379 335 378 343Q372 371 358 385T334 402T308 404Q263 404 229 370Q202 343 195 315T187 232V168V108Q187 78 188 68T191 55T200 49Q221 46 249 46H265V0H257L234 1Q210 2 183 2T145 3Q42 3 33 0H25V46H41Z\"/><path stroke-width=\"1\" id=\"MJMAIN-63\" d=\"M370 305T349 305T313 320T297 358Q297 381 312 396Q317 401 317 402T307 404Q281 408 258 408Q209 408 178 376Q131 329 131 219Q131 137 162 90Q203 29 272 29Q313 29 338 55T374 117Q376 125 379 127T395 129H409Q415 123 415 120Q415 116 411 104T395 71T366 33T318 2T249 -11Q163 -11 99 53T34 214Q34 318 99 383T250 448T370 421T404 357Q404 334 387 320Z\"/><path stroke-width=\"1\" id=\"MJMAIN-69\" d=\"M69 609Q69 637 87 653T131 669Q154 667 171 652T188 609Q188 579 171 564T129 549Q104 549 87 564T69 609ZM247 0Q232 3 143 3Q132 3 106 3T56 1L34 0H26V46H42Q70 46 91 49Q100 53 102 60T104 102V205V293Q104 345 102 359T88 378Q74 385 41 385H30V408Q30 431 32 431L42 432Q52 433 70 434T106 436Q123 437 142 438T171 441T182 442H185V62Q190 52 197 50T232 46H255V0H247Z\"/><path stroke-width=\"1\" id=\"MJMAIN-64\" d=\"M376 495Q376 511 376 535T377 568Q377 613 367 624T316 637H298V660Q298 683 300 683L310 684Q320 685 339 686T376 688Q393 689 413 690T443 693T454 694H457V390Q457 84 458 81Q461 61 472 55T517 46H535V0Q533 0 459 -5T380 -11H373V44L365 37Q307 -11 235 -11Q158 -11 96 50T34 215Q34 315 97 378T244 442Q319 442 376 393V495ZM373 342Q328 405 260 405Q211 405 173 369Q146 341 139 305T131 211Q131 155 138 120T173 59Q203 26 251 26Q322 26 373 103V342Z\"/><path stroke-width=\"1\" id=\"MJMAIN-65\" d=\"M28 218Q28 273 48 318T98 391T163 433T229 448Q282 448 320 430T378 380T406 316T415 245Q415 238 408 231H126V216Q126 68 226 36Q246 30 270 30Q312 30 342 62Q359 79 369 104L379 128Q382 131 395 131H398Q415 131 415 121Q415 117 412 108Q393 53 349 21T250 -11Q155 -11 92 58T28 218ZM333 275Q322 403 238 411H236Q228 411 220 410T195 402T166 381T143 340T127 274V267H333V275Z\"/><path stroke-width=\"1\" id=\"MJMAIN-74\" d=\"M27 422Q80 426 109 478T141 600V615H181V431H316V385H181V241Q182 116 182 100T189 68Q203 29 238 29Q282 29 292 100Q293 108 293 146V181H333V146V134Q333 57 291 17Q264 -10 221 -10Q187 -10 162 2T124 33T105 68T98 100Q97 107 97 248V385H18V422H27Z\"/><path stroke-width=\"1\" id=\"MJMAIN-75\" d=\"M383 58Q327 -10 256 -10H249Q124 -10 105 89Q104 96 103 226Q102 335 102 348T96 369Q86 385 36 385H25V408Q25 431 27 431L38 432Q48 433 67 434T105 436Q122 437 142 438T172 441T184 442H187V261Q188 77 190 64Q193 49 204 40Q224 26 264 26Q290 26 311 35T343 58T363 90T375 120T379 144Q379 145 379 161T380 201T380 248V315Q380 361 370 372T320 385H302V431Q304 431 378 436T457 442H464V264Q464 84 465 81Q468 61 479 55T524 46H542V0Q540 0 467 -5T390 -11H383V58Z\"/><path stroke-width=\"1\" id=\"MJMAIN-72\" d=\"M36 46H50Q89 46 97 60V68Q97 77 97 91T98 122T98 161T98 203Q98 234 98 269T98 328L97 351Q94 370 83 376T38 385H20V408Q20 431 22 431L32 432Q42 433 60 434T96 436Q112 437 131 438T160 441T171 442H174V373Q213 441 271 441H277Q322 441 343 419T364 373Q364 352 351 337T313 322Q288 322 276 338T263 372Q263 381 265 388T270 400T273 405Q271 407 250 401Q234 393 226 386Q179 341 179 207V154Q179 141 179 127T179 101T180 81T180 66V61Q181 59 183 57T188 54T193 51T200 49T207 48T216 47T225 47T235 46T245 46H276V0H267Q249 3 140 3Q37 3 28 0H20V46H36Z\"/><path stroke-width=\"1\" id=\"MJMAIN-6F\" d=\"M28 214Q28 309 93 378T250 448Q340 448 405 380T471 215Q471 120 407 55T250 -10Q153 -10 91 57T28 214ZM250 30Q372 30 372 193V225V250Q372 272 371 288T364 326T348 362T317 390T268 410Q263 411 252 411Q222 411 195 399Q152 377 139 338T126 246V226Q126 130 145 91Q177 30 250 30Z\"/><path stroke-width=\"1\" id=\"MJMAIN-77\" d=\"M90 368Q84 378 76 380T40 385H18V431H24L43 430Q62 430 84 429T116 428Q206 428 221 431H229V385H215Q177 383 177 368Q177 367 221 239L265 113L339 328L333 345Q323 374 316 379Q308 384 278 385H258V431H264Q270 428 348 428Q439 428 454 431H461V385H452Q404 385 404 369Q404 366 418 324T449 234T481 143L496 100L537 219Q579 341 579 347Q579 363 564 373T530 385H522V431H529Q541 428 624 428Q692 428 698 431H703V385H697Q696 385 691 385T682 384Q635 377 619 334L559 161Q546 124 528 71Q508 12 503 1T487 -11H479Q460 -11 456 -4Q455 -3 407 133L361 267Q359 263 266 -4Q261 -11 243 -11H238Q225 -11 220 -3L90 368Z\"/><path stroke-width=\"1\" id=\"MJMAIN-61\" d=\"M137 305T115 305T78 320T63 359Q63 394 97 421T218 448Q291 448 336 416T396 340Q401 326 401 309T402 194V124Q402 76 407 58T428 40Q443 40 448 56T453 109V145H493V106Q492 66 490 59Q481 29 455 12T400 -6T353 12T329 54V58L327 55Q325 52 322 49T314 40T302 29T287 17T269 6T247 -2T221 -8T190 -11Q130 -11 82 20T34 107Q34 128 41 147T68 188T116 225T194 253T304 268H318V290Q318 324 312 340Q290 411 215 411Q197 411 181 410T156 406T148 403Q170 388 170 359Q170 334 154 320ZM126 106Q126 75 150 51T209 26Q247 26 276 49T315 109Q317 116 318 175Q318 233 317 233Q309 233 296 232T251 223T193 203T147 166T126 106Z\"/><path stroke-width=\"1\" id=\"MJMAIN-76\" d=\"M338 431Q344 429 422 429Q479 429 503 431H508V385H497Q439 381 423 345Q421 341 356 172T288 -2Q283 -11 263 -11Q244 -11 239 -2Q99 359 98 364Q93 378 82 381T43 385H19V431H25L33 430Q41 430 53 430T79 430T104 429T122 428Q217 428 232 431H240V385H226Q187 384 184 370Q184 366 235 234L286 102L377 341V349Q377 363 367 372T349 383T335 385H331V431H338Z\"/><path stroke-width=\"1\" id=\"MJMAIN-6C\" d=\"M42 46H56Q95 46 103 60V68Q103 77 103 91T103 124T104 167T104 217T104 272T104 329Q104 366 104 407T104 482T104 542T103 586T103 603Q100 622 89 628T44 637H26V660Q26 683 28 683L38 684Q48 685 67 686T104 688Q121 689 141 690T171 693T182 694H185V379Q185 62 186 60Q190 52 198 49Q219 46 247 46H263V0H255L232 1Q209 2 183 2T145 3T107 3T57 1L34 0H26V46H42Z\"/><path stroke-width=\"1\" id=\"MJMAIN-67\" d=\"M329 409Q373 453 429 453Q459 453 472 434T485 396Q485 382 476 371T449 360Q416 360 412 390Q410 404 415 411Q415 412 416 414V415Q388 412 363 393Q355 388 355 386Q355 385 359 381T368 369T379 351T388 325T392 292Q392 230 343 187T222 143Q172 143 123 171Q112 153 112 133Q112 98 138 81Q147 75 155 75T227 73Q311 72 335 67Q396 58 431 26Q470 -13 470 -72Q470 -139 392 -175Q332 -206 250 -206Q167 -206 107 -175Q29 -140 29 -75Q29 -39 50 -15T92 18L103 24Q67 55 67 108Q67 155 96 193Q52 237 52 292Q52 355 102 398T223 442Q274 442 318 416L329 409ZM299 343Q294 371 273 387T221 404Q192 404 171 388T145 343Q142 326 142 292Q142 248 149 227T179 192Q196 182 222 182Q244 182 260 189T283 207T294 227T299 242Q302 258 302 292T299 343ZM403 -75Q403 -50 389 -34T348 -11T299 -2T245 0H218Q151 0 138 -6Q118 -15 107 -34T95 -74Q95 -84 101 -97T122 -127T170 -155T250 -167Q319 -167 361 -139T403 -75Z\"/><path stroke-width=\"1\" id=\"MJMAIN-68\" d=\"M41 46H55Q94 46 102 60V68Q102 77 102 91T102 124T102 167T103 217T103 272T103 329Q103 366 103 407T103 482T102 542T102 586T102 603Q99 622 88 628T43 637H25V660Q25 683 27 683L37 684Q47 685 66 686T103 688Q120 689 140 690T170 693T181 694H184V367Q244 442 328 442Q451 442 463 329Q464 322 464 190V104Q464 66 466 59T477 49Q498 46 526 46H542V0H534L510 1Q487 2 460 2T422 3Q319 3 310 0H302V46H318Q379 46 379 62Q380 64 380 200Q379 335 378 343Q372 371 358 385T334 402T308 404Q263 404 229 370Q202 343 195 315T187 232V168V108Q187 78 188 68T191 55T200 49Q221 46 249 46H265V0H257L234 1Q210 2 183 2T145 3Q42 3 33 0H25V46H41Z\"/><path stroke-width=\"1\" id=\"MJMAIN-28\" d=\"M94 250Q94 319 104 381T127 488T164 576T202 643T244 695T277 729T302 750H315H319Q333 750 333 741Q333 738 316 720T275 667T226 581T184 443T167 250T184 58T225 -81T274 -167T316 -220T333 -241Q333 -250 318 -250H315H302L274 -226Q180 -141 137 -14T94 250Z\"/><path stroke-width=\"1\" id=\"MJMAIN-41\" d=\"M255 0Q240 3 140 3Q48 3 39 0H32V46H47Q119 49 139 88Q140 91 192 245T295 553T348 708Q351 716 366 716H376Q396 715 400 709Q402 707 508 390L617 67Q624 54 636 51T687 46H717V0H708Q699 3 581 3Q458 3 437 0H427V46H440Q510 46 510 64Q510 66 486 138L462 209H229L209 150Q189 91 189 85Q189 72 209 59T259 46H264V0H255ZM447 255L345 557L244 256Q244 255 345 255H447Z\"/><path stroke-width=\"1\" id=\"MJMAIN-2DA\" d=\"M147 628Q147 669 179 692T244 715Q298 715 325 689T352 629Q352 592 323 567T249 542Q202 542 175 567T147 628ZM313 628Q313 660 300 669T259 678H253Q248 678 242 678T234 679Q217 679 207 674T192 659T188 644T187 629Q187 600 198 590Q210 579 250 579H265Q279 579 288 581T305 595T313 628Z\"/><path stroke-width=\"1\" id=\"MJMAIN-29\" d=\"M60 749L64 750Q69 750 74 750H86L114 726Q208 641 251 514T294 250Q294 182 284 119T261 12T224 -76T186 -143T145 -194T113 -227T90 -246Q87 -249 86 -250H74Q66 -250 63 -250T58 -247T55 -238Q56 -237 66 -225Q221 -64 221 250T66 725Q56 737 55 738Q55 746 60 749Z\"/><path stroke-width=\"1\" id=\"MJMAIN-53\" d=\"M55 507Q55 590 112 647T243 704H257Q342 704 405 641L426 672Q431 679 436 687T446 700L449 704Q450 704 453 704T459 705H463Q466 705 472 699V462L466 456H448Q437 456 435 459T430 479Q413 605 329 646Q292 662 254 662Q201 662 168 626T135 542Q135 508 152 480T200 435Q210 431 286 412T370 389Q427 367 463 314T500 191Q500 110 448 45T301 -21Q245 -21 201 -4T140 27L122 41Q118 36 107 21T87 -7T78 -21Q76 -22 68 -22H64Q61 -22 55 -16V101Q55 220 56 222Q58 227 76 227H89Q95 221 95 214Q95 182 105 151T139 90T205 42T305 24Q352 24 386 62T420 155Q420 198 398 233T340 281Q284 295 266 300Q261 301 239 306T206 314T174 325T141 343T112 367T85 402Q55 451 55 507Z\"/><path stroke-width=\"1\" id=\"MJMAIN-73\" d=\"M295 316Q295 356 268 385T190 414Q154 414 128 401Q98 382 98 349Q97 344 98 336T114 312T157 287Q175 282 201 278T245 269T277 256Q294 248 310 236T342 195T359 133Q359 71 321 31T198 -10H190Q138 -10 94 26L86 19L77 10Q71 4 65 -1L54 -11H46H42Q39 -11 33 -5V74V132Q33 153 35 157T45 162H54Q66 162 70 158T75 146T82 119T101 77Q136 26 198 26Q295 26 295 104Q295 133 277 151Q257 175 194 187T111 210Q75 227 54 256T33 318Q33 357 50 384T93 424T143 442T187 447H198Q238 447 268 432L283 424L292 431Q302 440 314 448H322H326Q329 448 335 442V310L329 304H301Q295 310 295 316Z\"/><path stroke-width=\"1\" id=\"MJMAIN-70\" d=\"M36 -148H50Q89 -148 97 -134V-126Q97 -119 97 -107T97 -77T98 -38T98 6T98 55T98 106Q98 140 98 177T98 243T98 296T97 335T97 351Q94 370 83 376T38 385H20V408Q20 431 22 431L32 432Q42 433 61 434T98 436Q115 437 135 438T165 441T176 442H179V416L180 390L188 397Q247 441 326 441Q407 441 464 377T522 216Q522 115 457 52T310 -11Q242 -11 190 33L182 40V-45V-101Q182 -128 184 -134T195 -145Q216 -148 244 -148H260V-194H252L228 -193Q205 -192 178 -192T140 -191Q37 -191 28 -194H20V-148H36ZM424 218Q424 292 390 347T305 402Q234 402 182 337V98Q222 26 294 26Q345 26 384 80T424 218Z\"/><path stroke-width=\"1\" id=\"MJMAIN-6D\" d=\"M41 46H55Q94 46 102 60V68Q102 77 102 91T102 122T103 161T103 203Q103 234 103 269T102 328V351Q99 370 88 376T43 385H25V408Q25 431 27 431L37 432Q47 433 65 434T102 436Q119 437 138 438T167 441T178 442H181V402Q181 364 182 364T187 369T199 384T218 402T247 421T285 437Q305 442 336 442Q351 442 364 440T387 434T406 426T421 417T432 406T441 395T448 384T452 374T455 366L457 361L460 365Q463 369 466 373T475 384T488 397T503 410T523 422T546 432T572 439T603 442Q729 442 740 329Q741 322 741 190V104Q741 66 743 59T754 49Q775 46 803 46H819V0H811L788 1Q764 2 737 2T699 3Q596 3 587 0H579V46H595Q656 46 656 62Q657 64 657 200Q656 335 655 343Q649 371 635 385T611 402T585 404Q540 404 506 370Q479 343 472 315T464 232V168V108Q464 78 465 68T468 55T477 49Q498 46 526 46H542V0H534L510 1Q487 2 460 2T422 3Q319 3 310 0H302V46H318Q379 46 379 62Q380 64 380 200Q379 335 378 343Q372 371 358 385T334 402T308 404Q263 404 229 370Q202 343 195 315T187 232V168V108Q187 78 188 68T191 55T200 49Q221 46 249 46H265V0H257L234 1Q210 2 183 2T145 3Q42 3 33 0H25V46H41Z\"/><path stroke-width=\"1\" id=\"MJMAIN-62\" d=\"M307 -11Q234 -11 168 55L158 37Q156 34 153 28T147 17T143 10L138 1L118 0H98V298Q98 599 97 603Q94 622 83 628T38 637H20V660Q20 683 22 683L32 684Q42 685 61 686T98 688Q115 689 135 690T165 693T176 694H179V543Q179 391 180 391L183 394Q186 397 192 401T207 411T228 421T254 431T286 439T323 442Q401 442 461 379T522 216Q522 115 458 52T307 -11ZM182 98Q182 97 187 90T196 79T206 67T218 55T233 44T250 35T271 29T295 26Q330 26 363 46T412 113Q424 148 424 212Q424 287 412 323Q385 405 300 405Q270 405 239 390T188 347L182 339V98Z\"/></defs><g stroke=\"rgb(42, 63, 95)\" fill=\"rgb(42, 63, 95)\" stroke-width=\"0\" transform=\"matrix(1 0 0 -1 0 0)\"><use transform=\"scale(1.44)\" xlink:href=\"#MJMAIN-49\"/><use transform=\"scale(1.44)\" xlink:href=\"#MJMAIN-6E\" x=\"361\" y=\"0\"/><use transform=\"scale(1.44)\" xlink:href=\"#MJMAIN-63\" x=\"918\" y=\"0\"/><use transform=\"scale(1.44)\" xlink:href=\"#MJMAIN-69\" x=\"1362\" y=\"0\"/><use transform=\"scale(1.44)\" xlink:href=\"#MJMAIN-64\" x=\"1641\" y=\"0\"/><use transform=\"scale(1.44)\" xlink:href=\"#MJMAIN-65\" x=\"2197\" y=\"0\"/><use transform=\"scale(1.44)\" xlink:href=\"#MJMAIN-6E\" x=\"2642\" y=\"0\"/><use transform=\"scale(1.44)\" xlink:href=\"#MJMAIN-74\" x=\"3198\" y=\"0\"/><use transform=\"scale(1.44)\" xlink:href=\"#MJMAIN-6E\" x=\"3761\" y=\"0\"/><use transform=\"scale(1.44)\" xlink:href=\"#MJMAIN-65\" x=\"4318\" y=\"0\"/><use transform=\"scale(1.44)\" xlink:href=\"#MJMAIN-75\" x=\"4762\" y=\"0\"/><use transform=\"scale(1.44)\" xlink:href=\"#MJMAIN-74\" x=\"5319\" y=\"0\"/><use transform=\"scale(1.44)\" xlink:href=\"#MJMAIN-72\" x=\"5708\" y=\"0\"/><use transform=\"scale(1.44)\" xlink:href=\"#MJMAIN-6F\" x=\"6101\" y=\"0\"/><use transform=\"scale(1.44)\" xlink:href=\"#MJMAIN-6E\" x=\"6601\" y=\"0\"/><use transform=\"scale(1.44)\" xlink:href=\"#MJMAIN-77\" x=\"7331\" y=\"0\"/><use transform=\"scale(1.44)\" xlink:href=\"#MJMAIN-61\" x=\"8054\" y=\"0\"/><use transform=\"scale(1.44)\" xlink:href=\"#MJMAIN-76\" x=\"8554\" y=\"0\"/><use transform=\"scale(1.44)\" xlink:href=\"#MJMAIN-65\" x=\"9083\" y=\"0\"/><use transform=\"scale(1.44)\" xlink:href=\"#MJMAIN-6C\" x=\"9527\" y=\"0\"/><use transform=\"scale(1.44)\" xlink:href=\"#MJMAIN-65\" x=\"9806\" y=\"0\"/><use transform=\"scale(1.44)\" xlink:href=\"#MJMAIN-6E\" x=\"10250\" y=\"0\"/><use transform=\"scale(1.44)\" xlink:href=\"#MJMAIN-67\" x=\"10807\" y=\"0\"/><use transform=\"scale(1.44)\" xlink:href=\"#MJMAIN-74\" x=\"11307\" y=\"0\"/><use transform=\"scale(1.44)\" xlink:href=\"#MJMAIN-68\" x=\"11697\" y=\"0\"/><use transform=\"scale(1.44)\" xlink:href=\"#MJMAIN-28\" x=\"12427\" y=\"0\"/><g transform=\"translate(18456,0)\"><use transform=\"scale(1.44)\" xlink:href=\"#MJMAIN-41\" x=\"0\" y=\"0\"/><use transform=\"scale(1.44)\" xlink:href=\"#MJMAIN-2DA\" x=\"125\" y=\"262\"/></g><use transform=\"scale(1.44)\" xlink:href=\"#MJMAIN-29\" x=\"13567\" y=\"0\"/></g></svg></g></g><g class=\"g-ytitle\"><g class=\"ytitle-math-group\" pointer-events=\"none\" data-unformatted=\"$\\Large \\textrm{Scattering cross section per atom (barn)}$\" data-math=\"Y\" transform=\"rotate(-90,24.700000000000003,269.5)translate(-251.462158203125,-22.300411224365234)\"><svg xmlns:xlink=\"http://www.w3.org/1999/xlink\" width=\"56.384ex\" height=\"46.125\" viewBox=\"0 -1131 24276.3 1531.4\" role=\"img\" focusable=\"false\" aria-hidden=\"true\" style=\"vertical-align: -0.93ex; overflow: visible; pointer-events: none;\" class=\"ytitle-math\" preserveAspectRatio=\"xMinYMin meet\" x=\"24.700000000000003\" y=\"269.5\"><defs id=\"MathJax_SVG_glyphs\"><path stroke-width=\"1\" id=\"MJMAIN-49\" d=\"M328 0Q307 3 180 3T32 0H21V46H43Q92 46 106 49T126 60Q128 63 128 342Q128 620 126 623Q122 628 118 630T96 635T43 637H21V683H32Q53 680 180 680T328 683H339V637H317Q268 637 254 634T234 623Q232 620 232 342Q232 63 234 60Q238 55 242 53T264 48T317 46H339V0H328Z\"/><path stroke-width=\"1\" id=\"MJMAIN-6E\" d=\"M41 46H55Q94 46 102 60V68Q102 77 102 91T102 122T103 161T103 203Q103 234 103 269T102 328V351Q99 370 88 376T43 385H25V408Q25 431 27 431L37 432Q47 433 65 434T102 436Q119 437 138 438T167 441T178 442H181V402Q181 364 182 364T187 369T199 384T218 402T247 421T285 437Q305 442 336 442Q450 438 463 329Q464 322 464 190V104Q464 66 466 59T477 49Q498 46 526 46H542V0H534L510 1Q487 2 460 2T422 3Q319 3 310 0H302V46H318Q379 46 379 62Q380 64 380 200Q379 335 378 343Q372 371 358 385T334 402T308 404Q263 404 229 370Q202 343 195 315T187 232V168V108Q187 78 188 68T191 55T200 49Q221 46 249 46H265V0H257L234 1Q210 2 183 2T145 3Q42 3 33 0H25V46H41Z\"/><path stroke-width=\"1\" id=\"MJMAIN-63\" d=\"M370 305T349 305T313 320T297 358Q297 381 312 396Q317 401 317 402T307 404Q281 408 258 408Q209 408 178 376Q131 329 131 219Q131 137 162 90Q203 29 272 29Q313 29 338 55T374 117Q376 125 379 127T395 129H409Q415 123 415 120Q415 116 411 104T395 71T366 33T318 2T249 -11Q163 -11 99 53T34 214Q34 318 99 383T250 448T370 421T404 357Q404 334 387 320Z\"/><path stroke-width=\"1\" id=\"MJMAIN-69\" d=\"M69 609Q69 637 87 653T131 669Q154 667 171 652T188 609Q188 579 171 564T129 549Q104 549 87 564T69 609ZM247 0Q232 3 143 3Q132 3 106 3T56 1L34 0H26V46H42Q70 46 91 49Q100 53 102 60T104 102V205V293Q104 345 102 359T88 378Q74 385 41 385H30V408Q30 431 32 431L42 432Q52 433 70 434T106 436Q123 437 142 438T171 441T182 442H185V62Q190 52 197 50T232 46H255V0H247Z\"/><path stroke-width=\"1\" id=\"MJMAIN-64\" d=\"M376 495Q376 511 376 535T377 568Q377 613 367 624T316 637H298V660Q298 683 300 683L310 684Q320 685 339 686T376 688Q393 689 413 690T443 693T454 694H457V390Q457 84 458 81Q461 61 472 55T517 46H535V0Q533 0 459 -5T380 -11H373V44L365 37Q307 -11 235 -11Q158 -11 96 50T34 215Q34 315 97 378T244 442Q319 442 376 393V495ZM373 342Q328 405 260 405Q211 405 173 369Q146 341 139 305T131 211Q131 155 138 120T173 59Q203 26 251 26Q322 26 373 103V342Z\"/><path stroke-width=\"1\" id=\"MJMAIN-65\" d=\"M28 218Q28 273 48 318T98 391T163 433T229 448Q282 448 320 430T378 380T406 316T415 245Q415 238 408 231H126V216Q126 68 226 36Q246 30 270 30Q312 30 342 62Q359 79 369 104L379 128Q382 131 395 131H398Q415 131 415 121Q415 117 412 108Q393 53 349 21T250 -11Q155 -11 92 58T28 218ZM333 275Q322 403 238 411H236Q228 411 220 410T195 402T166 381T143 340T127 274V267H333V275Z\"/><path stroke-width=\"1\" id=\"MJMAIN-74\" d=\"M27 422Q80 426 109 478T141 600V615H181V431H316V385H181V241Q182 116 182 100T189 68Q203 29 238 29Q282 29 292 100Q293 108 293 146V181H333V146V134Q333 57 291 17Q264 -10 221 -10Q187 -10 162 2T124 33T105 68T98 100Q97 107 97 248V385H18V422H27Z\"/><path stroke-width=\"1\" id=\"MJMAIN-75\" d=\"M383 58Q327 -10 256 -10H249Q124 -10 105 89Q104 96 103 226Q102 335 102 348T96 369Q86 385 36 385H25V408Q25 431 27 431L38 432Q48 433 67 434T105 436Q122 437 142 438T172 441T184 442H187V261Q188 77 190 64Q193 49 204 40Q224 26 264 26Q290 26 311 35T343 58T363 90T375 120T379 144Q379 145 379 161T380 201T380 248V315Q380 361 370 372T320 385H302V431Q304 431 378 436T457 442H464V264Q464 84 465 81Q468 61 479 55T524 46H542V0Q540 0 467 -5T390 -11H383V58Z\"/><path stroke-width=\"1\" id=\"MJMAIN-72\" d=\"M36 46H50Q89 46 97 60V68Q97 77 97 91T98 122T98 161T98 203Q98 234 98 269T98 328L97 351Q94 370 83 376T38 385H20V408Q20 431 22 431L32 432Q42 433 60 434T96 436Q112 437 131 438T160 441T171 442H174V373Q213 441 271 441H277Q322 441 343 419T364 373Q364 352 351 337T313 322Q288 322 276 338T263 372Q263 381 265 388T270 400T273 405Q271 407 250 401Q234 393 226 386Q179 341 179 207V154Q179 141 179 127T179 101T180 81T180 66V61Q181 59 183 57T188 54T193 51T200 49T207 48T216 47T225 47T235 46T245 46H276V0H267Q249 3 140 3Q37 3 28 0H20V46H36Z\"/><path stroke-width=\"1\" id=\"MJMAIN-6F\" d=\"M28 214Q28 309 93 378T250 448Q340 448 405 380T471 215Q471 120 407 55T250 -10Q153 -10 91 57T28 214ZM250 30Q372 30 372 193V225V250Q372 272 371 288T364 326T348 362T317 390T268 410Q263 411 252 411Q222 411 195 399Q152 377 139 338T126 246V226Q126 130 145 91Q177 30 250 30Z\"/><path stroke-width=\"1\" id=\"MJMAIN-77\" d=\"M90 368Q84 378 76 380T40 385H18V431H24L43 430Q62 430 84 429T116 428Q206 428 221 431H229V385H215Q177 383 177 368Q177 367 221 239L265 113L339 328L333 345Q323 374 316 379Q308 384 278 385H258V431H264Q270 428 348 428Q439 428 454 431H461V385H452Q404 385 404 369Q404 366 418 324T449 234T481 143L496 100L537 219Q579 341 579 347Q579 363 564 373T530 385H522V431H529Q541 428 624 428Q692 428 698 431H703V385H697Q696 385 691 385T682 384Q635 377 619 334L559 161Q546 124 528 71Q508 12 503 1T487 -11H479Q460 -11 456 -4Q455 -3 407 133L361 267Q359 263 266 -4Q261 -11 243 -11H238Q225 -11 220 -3L90 368Z\"/><path stroke-width=\"1\" id=\"MJMAIN-61\" d=\"M137 305T115 305T78 320T63 359Q63 394 97 421T218 448Q291 448 336 416T396 340Q401 326 401 309T402 194V124Q402 76 407 58T428 40Q443 40 448 56T453 109V145H493V106Q492 66 490 59Q481 29 455 12T400 -6T353 12T329 54V58L327 55Q325 52 322 49T314 40T302 29T287 17T269 6T247 -2T221 -8T190 -11Q130 -11 82 20T34 107Q34 128 41 147T68 188T116 225T194 253T304 268H318V290Q318 324 312 340Q290 411 215 411Q197 411 181 410T156 406T148 403Q170 388 170 359Q170 334 154 320ZM126 106Q126 75 150 51T209 26Q247 26 276 49T315 109Q317 116 318 175Q318 233 317 233Q309 233 296 232T251 223T193 203T147 166T126 106Z\"/><path stroke-width=\"1\" id=\"MJMAIN-76\" d=\"M338 431Q344 429 422 429Q479 429 503 431H508V385H497Q439 381 423 345Q421 341 356 172T288 -2Q283 -11 263 -11Q244 -11 239 -2Q99 359 98 364Q93 378 82 381T43 385H19V431H25L33 430Q41 430 53 430T79 430T104 429T122 428Q217 428 232 431H240V385H226Q187 384 184 370Q184 366 235 234L286 102L377 341V349Q377 363 367 372T349 383T335 385H331V431H338Z\"/><path stroke-width=\"1\" id=\"MJMAIN-6C\" d=\"M42 46H56Q95 46 103 60V68Q103 77 103 91T103 124T104 167T104 217T104 272T104 329Q104 366 104 407T104 482T104 542T103 586T103 603Q100 622 89 628T44 637H26V660Q26 683 28 683L38 684Q48 685 67 686T104 688Q121 689 141 690T171 693T182 694H185V379Q185 62 186 60Q190 52 198 49Q219 46 247 46H263V0H255L232 1Q209 2 183 2T145 3T107 3T57 1L34 0H26V46H42Z\"/><path stroke-width=\"1\" id=\"MJMAIN-67\" d=\"M329 409Q373 453 429 453Q459 453 472 434T485 396Q485 382 476 371T449 360Q416 360 412 390Q410 404 415 411Q415 412 416 414V415Q388 412 363 393Q355 388 355 386Q355 385 359 381T368 369T379 351T388 325T392 292Q392 230 343 187T222 143Q172 143 123 171Q112 153 112 133Q112 98 138 81Q147 75 155 75T227 73Q311 72 335 67Q396 58 431 26Q470 -13 470 -72Q470 -139 392 -175Q332 -206 250 -206Q167 -206 107 -175Q29 -140 29 -75Q29 -39 50 -15T92 18L103 24Q67 55 67 108Q67 155 96 193Q52 237 52 292Q52 355 102 398T223 442Q274 442 318 416L329 409ZM299 343Q294 371 273 387T221 404Q192 404 171 388T145 343Q142 326 142 292Q142 248 149 227T179 192Q196 182 222 182Q244 182 260 189T283 207T294 227T299 242Q302 258 302 292T299 343ZM403 -75Q403 -50 389 -34T348 -11T299 -2T245 0H218Q151 0 138 -6Q118 -15 107 -34T95 -74Q95 -84 101 -97T122 -127T170 -155T250 -167Q319 -167 361 -139T403 -75Z\"/><path stroke-width=\"1\" id=\"MJMAIN-68\" d=\"M41 46H55Q94 46 102 60V68Q102 77 102 91T102 124T102 167T103 217T103 272T103 329Q103 366 103 407T103 482T102 542T102 586T102 603Q99 622 88 628T43 637H25V660Q25 683 27 683L37 684Q47 685 66 686T103 688Q120 689 140 690T170 693T181 694H184V367Q244 442 328 442Q451 442 463 329Q464 322 464 190V104Q464 66 466 59T477 49Q498 46 526 46H542V0H534L510 1Q487 2 460 2T422 3Q319 3 310 0H302V46H318Q379 46 379 62Q380 64 380 200Q379 335 378 343Q372 371 358 385T334 402T308 404Q263 404 229 370Q202 343 195 315T187 232V168V108Q187 78 188 68T191 55T200 49Q221 46 249 46H265V0H257L234 1Q210 2 183 2T145 3Q42 3 33 0H25V46H41Z\"/><path stroke-width=\"1\" id=\"MJMAIN-28\" d=\"M94 250Q94 319 104 381T127 488T164 576T202 643T244 695T277 729T302 750H315H319Q333 750 333 741Q333 738 316 720T275 667T226 581T184 443T167 250T184 58T225 -81T274 -167T316 -220T333 -241Q333 -250 318 -250H315H302L274 -226Q180 -141 137 -14T94 250Z\"/><path stroke-width=\"1\" id=\"MJMAIN-41\" d=\"M255 0Q240 3 140 3Q48 3 39 0H32V46H47Q119 49 139 88Q140 91 192 245T295 553T348 708Q351 716 366 716H376Q396 715 400 709Q402 707 508 390L617 67Q624 54 636 51T687 46H717V0H708Q699 3 581 3Q458 3 437 0H427V46H440Q510 46 510 64Q510 66 486 138L462 209H229L209 150Q189 91 189 85Q189 72 209 59T259 46H264V0H255ZM447 255L345 557L244 256Q244 255 345 255H447Z\"/><path stroke-width=\"1\" id=\"MJMAIN-2DA\" d=\"M147 628Q147 669 179 692T244 715Q298 715 325 689T352 629Q352 592 323 567T249 542Q202 542 175 567T147 628ZM313 628Q313 660 300 669T259 678H253Q248 678 242 678T234 679Q217 679 207 674T192 659T188 644T187 629Q187 600 198 590Q210 579 250 579H265Q279 579 288 581T305 595T313 628Z\"/><path stroke-width=\"1\" id=\"MJMAIN-29\" d=\"M60 749L64 750Q69 750 74 750H86L114 726Q208 641 251 514T294 250Q294 182 284 119T261 12T224 -76T186 -143T145 -194T113 -227T90 -246Q87 -249 86 -250H74Q66 -250 63 -250T58 -247T55 -238Q56 -237 66 -225Q221 -64 221 250T66 725Q56 737 55 738Q55 746 60 749Z\"/><path stroke-width=\"1\" id=\"MJMAIN-53\" d=\"M55 507Q55 590 112 647T243 704H257Q342 704 405 641L426 672Q431 679 436 687T446 700L449 704Q450 704 453 704T459 705H463Q466 705 472 699V462L466 456H448Q437 456 435 459T430 479Q413 605 329 646Q292 662 254 662Q201 662 168 626T135 542Q135 508 152 480T200 435Q210 431 286 412T370 389Q427 367 463 314T500 191Q500 110 448 45T301 -21Q245 -21 201 -4T140 27L122 41Q118 36 107 21T87 -7T78 -21Q76 -22 68 -22H64Q61 -22 55 -16V101Q55 220 56 222Q58 227 76 227H89Q95 221 95 214Q95 182 105 151T139 90T205 42T305 24Q352 24 386 62T420 155Q420 198 398 233T340 281Q284 295 266 300Q261 301 239 306T206 314T174 325T141 343T112 367T85 402Q55 451 55 507Z\"/><path stroke-width=\"1\" id=\"MJMAIN-73\" d=\"M295 316Q295 356 268 385T190 414Q154 414 128 401Q98 382 98 349Q97 344 98 336T114 312T157 287Q175 282 201 278T245 269T277 256Q294 248 310 236T342 195T359 133Q359 71 321 31T198 -10H190Q138 -10 94 26L86 19L77 10Q71 4 65 -1L54 -11H46H42Q39 -11 33 -5V74V132Q33 153 35 157T45 162H54Q66 162 70 158T75 146T82 119T101 77Q136 26 198 26Q295 26 295 104Q295 133 277 151Q257 175 194 187T111 210Q75 227 54 256T33 318Q33 357 50 384T93 424T143 442T187 447H198Q238 447 268 432L283 424L292 431Q302 440 314 448H322H326Q329 448 335 442V310L329 304H301Q295 310 295 316Z\"/><path stroke-width=\"1\" id=\"MJMAIN-70\" d=\"M36 -148H50Q89 -148 97 -134V-126Q97 -119 97 -107T97 -77T98 -38T98 6T98 55T98 106Q98 140 98 177T98 243T98 296T97 335T97 351Q94 370 83 376T38 385H20V408Q20 431 22 431L32 432Q42 433 61 434T98 436Q115 437 135 438T165 441T176 442H179V416L180 390L188 397Q247 441 326 441Q407 441 464 377T522 216Q522 115 457 52T310 -11Q242 -11 190 33L182 40V-45V-101Q182 -128 184 -134T195 -145Q216 -148 244 -148H260V-194H252L228 -193Q205 -192 178 -192T140 -191Q37 -191 28 -194H20V-148H36ZM424 218Q424 292 390 347T305 402Q234 402 182 337V98Q222 26 294 26Q345 26 384 80T424 218Z\"/><path stroke-width=\"1\" id=\"MJMAIN-6D\" d=\"M41 46H55Q94 46 102 60V68Q102 77 102 91T102 122T103 161T103 203Q103 234 103 269T102 328V351Q99 370 88 376T43 385H25V408Q25 431 27 431L37 432Q47 433 65 434T102 436Q119 437 138 438T167 441T178 442H181V402Q181 364 182 364T187 369T199 384T218 402T247 421T285 437Q305 442 336 442Q351 442 364 440T387 434T406 426T421 417T432 406T441 395T448 384T452 374T455 366L457 361L460 365Q463 369 466 373T475 384T488 397T503 410T523 422T546 432T572 439T603 442Q729 442 740 329Q741 322 741 190V104Q741 66 743 59T754 49Q775 46 803 46H819V0H811L788 1Q764 2 737 2T699 3Q596 3 587 0H579V46H595Q656 46 656 62Q657 64 657 200Q656 335 655 343Q649 371 635 385T611 402T585 404Q540 404 506 370Q479 343 472 315T464 232V168V108Q464 78 465 68T468 55T477 49Q498 46 526 46H542V0H534L510 1Q487 2 460 2T422 3Q319 3 310 0H302V46H318Q379 46 379 62Q380 64 380 200Q379 335 378 343Q372 371 358 385T334 402T308 404Q263 404 229 370Q202 343 195 315T187 232V168V108Q187 78 188 68T191 55T200 49Q221 46 249 46H265V0H257L234 1Q210 2 183 2T145 3Q42 3 33 0H25V46H41Z\"/><path stroke-width=\"1\" id=\"MJMAIN-62\" d=\"M307 -11Q234 -11 168 55L158 37Q156 34 153 28T147 17T143 10L138 1L118 0H98V298Q98 599 97 603Q94 622 83 628T38 637H20V660Q20 683 22 683L32 684Q42 685 61 686T98 688Q115 689 135 690T165 693T176 694H179V543Q179 391 180 391L183 394Q186 397 192 401T207 411T228 421T254 431T286 439T323 442Q401 442 461 379T522 216Q522 115 458 52T307 -11ZM182 98Q182 97 187 90T196 79T206 67T218 55T233 44T250 35T271 29T295 26Q330 26 363 46T412 113Q424 148 424 212Q424 287 412 323Q385 405 300 405Q270 405 239 390T188 347L182 339V98Z\"/></defs><g stroke=\"rgb(42, 63, 95)\" fill=\"rgb(42, 63, 95)\" stroke-width=\"0\" transform=\"matrix(1 0 0 -1 0 0)\"><use transform=\"scale(1.44)\" xlink:href=\"#MJMAIN-53\"/><use transform=\"scale(1.44)\" xlink:href=\"#MJMAIN-63\" x=\"556\" y=\"0\"/><use transform=\"scale(1.44)\" xlink:href=\"#MJMAIN-61\" x=\"1001\" y=\"0\"/><use transform=\"scale(1.44)\" xlink:href=\"#MJMAIN-74\" x=\"1501\" y=\"0\"/><use transform=\"scale(1.44)\" xlink:href=\"#MJMAIN-74\" x=\"1891\" y=\"0\"/><use transform=\"scale(1.44)\" xlink:href=\"#MJMAIN-65\" x=\"2280\" y=\"0\"/><use transform=\"scale(1.44)\" xlink:href=\"#MJMAIN-72\" x=\"2725\" y=\"0\"/><use transform=\"scale(1.44)\" xlink:href=\"#MJMAIN-69\" x=\"3117\" y=\"0\"/><use transform=\"scale(1.44)\" xlink:href=\"#MJMAIN-6E\" x=\"3396\" y=\"0\"/><use transform=\"scale(1.44)\" xlink:href=\"#MJMAIN-67\" x=\"3952\" y=\"0\"/><use transform=\"scale(1.44)\" xlink:href=\"#MJMAIN-63\" x=\"4626\" y=\"0\"/><use transform=\"scale(1.44)\" xlink:href=\"#MJMAIN-72\" x=\"5071\" y=\"0\"/><use transform=\"scale(1.44)\" xlink:href=\"#MJMAIN-6F\" x=\"5463\" y=\"0\"/><use transform=\"scale(1.44)\" xlink:href=\"#MJMAIN-73\" x=\"5964\" y=\"0\"/><use transform=\"scale(1.44)\" xlink:href=\"#MJMAIN-73\" x=\"6358\" y=\"0\"/><use transform=\"scale(1.44)\" xlink:href=\"#MJMAIN-73\" x=\"6926\" y=\"0\"/><use transform=\"scale(1.44)\" xlink:href=\"#MJMAIN-65\" x=\"7321\" y=\"0\"/><use transform=\"scale(1.44)\" xlink:href=\"#MJMAIN-63\" x=\"7765\" y=\"0\"/><use transform=\"scale(1.44)\" xlink:href=\"#MJMAIN-74\" x=\"8210\" y=\"0\"/><use transform=\"scale(1.44)\" xlink:href=\"#MJMAIN-69\" x=\"8599\" y=\"0\"/><use transform=\"scale(1.44)\" xlink:href=\"#MJMAIN-6F\" x=\"8878\" y=\"0\"/><use transform=\"scale(1.44)\" xlink:href=\"#MJMAIN-6E\" x=\"9378\" y=\"0\"/><use transform=\"scale(1.44)\" xlink:href=\"#MJMAIN-70\" x=\"10108\" y=\"0\"/><use transform=\"scale(1.44)\" xlink:href=\"#MJMAIN-65\" x=\"10665\" y=\"0\"/><use transform=\"scale(1.44)\" xlink:href=\"#MJMAIN-72\" x=\"11109\" y=\"0\"/><use transform=\"scale(1.44)\" xlink:href=\"#MJMAIN-61\" x=\"11675\" y=\"0\"/><use transform=\"scale(1.44)\" xlink:href=\"#MJMAIN-74\" x=\"12176\" y=\"0\"/><use transform=\"scale(1.44)\" xlink:href=\"#MJMAIN-6F\" x=\"12565\" y=\"0\"/><use transform=\"scale(1.44)\" xlink:href=\"#MJMAIN-6D\" x=\"13066\" y=\"0\"/><use transform=\"scale(1.44)\" xlink:href=\"#MJMAIN-28\" x=\"14073\" y=\"0\"/><use transform=\"scale(1.44)\" xlink:href=\"#MJMAIN-62\" x=\"14463\" y=\"0\"/><use transform=\"scale(1.44)\" xlink:href=\"#MJMAIN-61\" x=\"15019\" y=\"0\"/><use transform=\"scale(1.44)\" xlink:href=\"#MJMAIN-72\" x=\"15520\" y=\"0\"/><use transform=\"scale(1.44)\" xlink:href=\"#MJMAIN-6E\" x=\"15912\" y=\"0\"/><use transform=\"scale(1.44)\" xlink:href=\"#MJMAIN-29\" x=\"16469\" y=\"0\"/></g></svg></g></g></g></svg>"
      ]
     },
     "metadata": {},
     "output_type": "display_data"
    }
   ],
   "source": [
    "fig = make_subplots(rows = 1, cols = 1)\n",
    "fig.add_trace(\n",
    "    go.Scatter(\n",
    "        x = wavelength,\n",
    "        y = xs_O2,\n",
    "        mode = 'lines',\n",
    "        name = 'O2',\n",
    "    ),\n",
    "    row = 1, col = 1\n",
    ")\n",
    "fig.add_trace(\n",
    "    go.Scatter(\n",
    "        x = wavelength,\n",
    "        y = xs_ept,\n",
    "        mode = 'lines',\n",
    "        name = 'TDF-clathrate',\n",
    "    ),\n",
    "    row = 1, col = 1\n",
    ")\n",
    "fig.add_trace(\n",
    "    go.Scatter(\n",
    "        x = wavelength,\n",
    "        y = xs_cla,\n",
    "        mode = 'lines',\n",
    "        name = 'TDF+O2-clathrate',\n",
    "    ),\n",
    "    row = 1, col = 1\n",
    ")\n",
    "fig.add_trace(\n",
    "    go.Scatter(\n",
    "        x = wavelength,\n",
    "        y = xs_comb,\n",
    "        mode = 'lines',\n",
    "        name = 'Combined',\n",
    "    ),\n",
    "    row = 1, col = 1\n",
    ")\n",
    "fig.add_trace(\n",
    "    go.Scatter(\n",
    "        x = wavelength,\n",
    "        y = xs_ept*(17*3+13)/(17*3+13+3*2)+xs_O2*(3*2)/(17*3+13+3*2),\n",
    "        mode = 'lines',\n",
    "        line_dash = 'dash',\n",
    "        name = 'Combined calc',\n",
    "    ),\n",
    "    row = 1, col = 1\n",
    ")\n",
    "fig.update_xaxes(tickfont = dict(size = 20), linecolor = 'black', mirror = True, \n",
    "                 ticks = 'outside', exponentformat = 'power', row = 1, col = 1, \n",
    "                 #type = 'log', \n",
    "                 #range=[0,25],\n",
    "                 title = r'$\\Large \\textrm{Incident neutron wavelength } (\\mathring{\\textrm{A}})$', \n",
    "                 showgrid=True, gridwidth=.5, gridcolor='grey')\n",
    "fig.update_yaxes(tickfont = dict(size = 20), linecolor = 'black', mirror = True, \n",
    "                 ticks = 'outside', exponentformat = 'power', row = 1, col = 1, \n",
    "                 #type = 'log', \n",
    "                 #range = [0,9],\n",
    "                 title = r'$\\Large \\textrm{Scattering cross section per atom (barn)}$',\n",
    "                 showgrid=True, gridwidth=.5, gridcolor='grey')\n",
    "#fig.add_annotation(xref='paper',yref='paper',x=.5, y=.85, \n",
    "#                   text=r'$\\Large \\textrm{O2-D2O clathrates}$', showarrow=False)\n",
    "#fig.add_annotation(xref='paper',yref='paper',x=.5, y=.75, \n",
    "#                   text=r'$\\Large \\textrm{SII structure}$', showarrow=False)\n",
    "#fig.add_annotation(xref='paper',yref='paper',x=.5, y=.62, \n",
    "#                   text=r'$\\Large T=2\\textrm{ K}$', showarrow=False)\n",
    "fig.update_layout(\n",
    "    #paper_bgcolor = 'rgba(0,0,0,0)',\n",
    "    plot_bgcolor = 'rgba(0,0,0,0)',\n",
    "    font = dict(family = 'Times new roman', size = 24),\n",
    "    legend = dict(x = 0.7, y = 1., bordercolor = \"Black\", borderwidth = 1, font = dict(size = 18)),\n",
    "    margin = dict(l = 80, r = 20, t = 20, b = 60),\n",
    "    autosize=False,\n",
    "    width=700,\n",
    "    height=600\n",
    ")\n",
    "fig.show('svg')\n",
    "#fig.write_image('TDF-D2O-clathrates_XS_wavelength.eps',width=700,height=500)\n",
    "#fig.write_image('TDF-D2O-clathrates_XS_wavelength.png',width=700,height=500)"
   ]
  },
  {
   "cell_type": "code",
   "execution_count": null,
   "metadata": {},
   "outputs": [],
   "source": []
  }
 ],
 "metadata": {
  "kernelspec": {
   "display_name": "Python 3 (ipykernel)",
   "language": "python",
   "name": "python3"
  },
  "language_info": {
   "codemirror_mode": {
    "name": "ipython",
    "version": 3
   },
   "file_extension": ".py",
   "mimetype": "text/x-python",
   "name": "python",
   "nbconvert_exporter": "python",
   "pygments_lexer": "ipython3",
   "version": "3.9.16"
  }
 },
 "nbformat": 4,
 "nbformat_minor": 4
}
